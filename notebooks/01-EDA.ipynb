{
 "cells": [
  {
   "cell_type": "code",
   "execution_count": 71,
   "metadata": {},
   "outputs": [],
   "source": [
    "import os\n",
    "import pandas as pd\n",
    "import numpy as np\n",
    "import yaml\n",
    "\n",
    "import seaborn as sns\n",
    "import matplotlib.pyplot as plt\n",
    "\n",
    "import re\n",
    "\n",
    "from utils.training_utils import get_features_attribute\n",
    "from unidecode import unidecode\n",
    "\n",
    "import warnings\n",
    "warnings.filterwarnings('ignore')\n",
    "\n",
    "\n",
    "pd.set_option('display.max_rows', 100)\n",
    "pd.set_option('display.max_columns', 100)"
   ]
  },
  {
   "cell_type": "markdown",
   "metadata": {},
   "source": [
    "# Leitura dos arquivos auxiliares"
   ]
  },
  {
   "cell_type": "code",
   "execution_count": 72,
   "metadata": {},
   "outputs": [
    {
     "data": {
      "text/plain": [
       "{'sale_price': True,\n",
       " 'shipping': True,\n",
       " 'seller': True,\n",
       " 'address': True,\n",
       " 'attributes': True,\n",
       " 'location': True,\n",
       " 'seller_contact': True,\n",
       " 'installments': True}"
      ]
     },
     "execution_count": 72,
     "metadata": {},
     "output_type": "execute_result"
    }
   ],
   "source": [
    "features_config = yaml.safe_load(open(os.path.join('..', 'src', 'config', 'feature_config.yaml'), \"r\"))\n",
    "features_struct = get_features_attribute(features_config, attribute='struct')\n",
    "features_struct"
   ]
  },
  {
   "cell_type": "markdown",
   "metadata": {},
   "source": [
    "# Funções Auxiliares"
   ]
  },
  {
   "cell_type": "code",
   "execution_count": 73,
   "metadata": {},
   "outputs": [],
   "source": [
    "def unpack_feature(col, feature):\n",
    "    \"\"\"Função para desempacotar uma feature de outra no formato struct\"\"\"\n",
    "    \n",
    "    return col.get(feature) if col else None"
   ]
  },
  {
   "cell_type": "code",
   "execution_count": 74,
   "metadata": {},
   "outputs": [],
   "source": [
    "def attribute_extract(attributes, key):\n",
    "    \"\"\"Função para extrair os atributos desejados da coluna `attributes`\"\"\"\n",
    "\n",
    "    if not isinstance(attributes, (list, np.ndarray)):\n",
    "        return None\n",
    "    \n",
    "    for attribute in attributes:\n",
    "        if isinstance(attribute, dict) and attribute.get('id') == key:\n",
    "            return attribute.get('value_name')\n",
    "    \n",
    "    return None"
   ]
  },
  {
   "cell_type": "code",
   "execution_count": 75,
   "metadata": {},
   "outputs": [],
   "source": [
    "def brand_processing(brand):\n",
    "    \"\"\"Função realizar a padronização dos nomes das marcas\"\"\"\n",
    "    \n",
    "    if brand is not None:\n",
    "        brand = brand.lower()\n",
    "        return re.sub(r'[^\\w\\s]', '', brand)\n",
    "    else:\n",
    "        return None"
   ]
  },
  {
   "cell_type": "code",
   "execution_count": 76,
   "metadata": {},
   "outputs": [],
   "source": [
    "def color_name_processing(color):\n",
    "    \"\"\"Função realizar o mapping e padronização das cores\"\"\"\n",
    "\n",
    "    if color is not None:\n",
    "        color = color.lower()\n",
    "        color = re.sub(r'[^\\w\\s]', '', color)\n",
    "\n",
    "        color_dict = {\n",
    "            'black': ['negro', 'preto'],\n",
    "            'white': ['blanco', 'branco'],\n",
    "            'gray': ['gris', 'cinza'],\n",
    "            'dark gray': ['gris oscuro', 'cinza escuro'],\n",
    "            'blue': ['azul', 'azul marinho', 'marinho'],\n",
    "            'silver': ['plateado', 'prateado', 'prata', 'plata'],\n",
    "            'red': ['rojo', 'vermelho'],\n",
    "            'green': ['verde'],\n",
    "            'pink': ['rosa'],\n",
    "            'yellow': ['amarillo', 'amarelo'],\n",
    "            'orange': ['naranja', 'laranja'],\n",
    "            'transparent': ['transparente'],\n",
    "            'multicolor': ['multicolor'],\n",
    "            'turquoise': ['turquesa'],\n",
    "            'brown': ['marron', 'marrom'],\n",
    "            'purple': ['purpura', 'roxo'],\n",
    "            'gold': ['dorado', 'ouro'],\n",
    "            'beige': ['beige', 'bege'],\n",
    "            'maroon': ['granate', 'marrom escuro'],\n",
    "            'violet': ['violeta'],\n",
    "            'magenta': ['magenta'],\n",
    "            'salmon': ['salmao', 'salmon'],\n",
    "        }\n",
    "\n",
    "        if color in color_dict:\n",
    "            return color\n",
    "        else:\n",
    "            for standard_color, aliases in color_dict.items():\n",
    "                if color in aliases:\n",
    "                    return standard_color\n",
    "            return '<other>'\n",
    "    else:\n",
    "        return None"
   ]
  },
  {
   "cell_type": "code",
   "execution_count": 77,
   "metadata": {},
   "outputs": [],
   "source": [
    "def weight_processing(weight_str_value):\n",
    "    \"\"\"Função realizar o mapping e padronização das unidades de peso\"\"\"\n",
    "\n",
    "    if type(weight_str_value) == str:\n",
    "        if weight_str_value.strip() != '':\n",
    "            value, unit = re.match(r'(-?[\\d.,]+)\\s*([a-zA-Z]+)', weight_str_value.strip().lower(), re.IGNORECASE).groups()\n",
    "            conversao = {\n",
    "                'kg': 1000,\n",
    "                'g': 1,\n",
    "                'lb': 453.592,\n",
    "                'oz': 28.3495,\n",
    "                'mg': 0.001,\n",
    "                'mcg': 0.000001,\n",
    "                't': 1000000\n",
    "            }\n",
    "            mult = conversao.get(unit, np.nan)\n",
    "            return float(value)*mult\n",
    "    return np.nan"
   ]
  },
  {
   "cell_type": "code",
   "execution_count": 78,
   "metadata": {},
   "outputs": [],
   "source": [
    "def remove_outliers_iqr(df, feature):\n",
    "    \"\"\"Função para remover outliers de uma coluna\"\"\"\n",
    "\n",
    "    df_analyse = df[~df[feature].isna()].copy()\n",
    "\n",
    "    Q1 = np.percentile(df_analyse[feature], 25)\n",
    "    Q3 = np.percentile(df_analyse[feature], 75)\n",
    "    IQR = Q3 - Q1\n",
    "    \n",
    "    lower_bound = Q1 - 1.5 * IQR\n",
    "    upper_bound = Q3 + 1.5 * IQR\n",
    "    df_analyse = df_analyse[(df_analyse[feature] >= lower_bound) & (df_analyse[feature] <= upper_bound)]\n",
    "    return df_analyse"
   ]
  },
  {
   "cell_type": "markdown",
   "metadata": {},
   "source": [
    "# Leitura da base raw"
   ]
  },
  {
   "cell_type": "code",
   "execution_count": 79,
   "metadata": {},
   "outputs": [
    {
     "name": "stdout",
     "output_type": "stream",
     "text": [
      "(285195, 37)\n"
     ]
    },
    {
     "data": {
      "text/html": [
       "<div>\n",
       "<style scoped>\n",
       "    .dataframe tbody tr th:only-of-type {\n",
       "        vertical-align: middle;\n",
       "    }\n",
       "\n",
       "    .dataframe tbody tr th {\n",
       "        vertical-align: top;\n",
       "    }\n",
       "\n",
       "    .dataframe thead th {\n",
       "        text-align: right;\n",
       "    }\n",
       "</style>\n",
       "<table border=\"1\" class=\"dataframe\">\n",
       "  <thead>\n",
       "    <tr style=\"text-align: right;\">\n",
       "      <th></th>\n",
       "      <th>id</th>\n",
       "      <th>title</th>\n",
       "      <th>condition</th>\n",
       "      <th>thumbnail_id</th>\n",
       "      <th>catalog_product_id</th>\n",
       "      <th>listing_type_id</th>\n",
       "      <th>sanitized_title</th>\n",
       "      <th>permalink</th>\n",
       "      <th>buying_mode</th>\n",
       "      <th>site_id</th>\n",
       "      <th>category_id</th>\n",
       "      <th>domain_id</th>\n",
       "      <th>thumbnail</th>\n",
       "      <th>currency_id</th>\n",
       "      <th>order_backend</th>\n",
       "      <th>price</th>\n",
       "      <th>original_price</th>\n",
       "      <th>sale_price</th>\n",
       "      <th>available_quantity</th>\n",
       "      <th>official_store_id</th>\n",
       "      <th>use_thumbnail_id</th>\n",
       "      <th>accepts_mercadopago</th>\n",
       "      <th>shipping</th>\n",
       "      <th>stop_time</th>\n",
       "      <th>seller</th>\n",
       "      <th>address</th>\n",
       "      <th>attributes</th>\n",
       "      <th>installments</th>\n",
       "      <th>winner_item_id</th>\n",
       "      <th>catalog_listing</th>\n",
       "      <th>discounts</th>\n",
       "      <th>promotion_decorations</th>\n",
       "      <th>promotions</th>\n",
       "      <th>inventory_id</th>\n",
       "      <th>official_store_name</th>\n",
       "      <th>location</th>\n",
       "      <th>seller_contact</th>\n",
       "    </tr>\n",
       "  </thead>\n",
       "  <tbody>\n",
       "    <tr>\n",
       "      <th>0</th>\n",
       "      <td>MEC591721600</td>\n",
       "      <td>Consolas Play Station 5 Slim Edicion Digital</td>\n",
       "      <td>new</td>\n",
       "      <td>790276-MLU77965322054_082024</td>\n",
       "      <td>MEC29001054</td>\n",
       "      <td>gold_pro</td>\n",
       "      <td></td>\n",
       "      <td>https://www.mercadolibre.com.ec/consolas-play-...</td>\n",
       "      <td>buy_it_now</td>\n",
       "      <td>MEC</td>\n",
       "      <td>MEC3533</td>\n",
       "      <td>MEC-GAME_CONSOLES</td>\n",
       "      <td>http://http2.mlstatic.com/D_790276-MLU77965322...</td>\n",
       "      <td>USD</td>\n",
       "      <td>1</td>\n",
       "      <td>659.00</td>\n",
       "      <td>NaN</td>\n",
       "      <td>{'amount': 659.0, 'conditions': {'context_rest...</td>\n",
       "      <td>50</td>\n",
       "      <td>NaN</td>\n",
       "      <td>True</td>\n",
       "      <td>True</td>\n",
       "      <td>{'benefits': None, 'free_shipping': True, 'log...</td>\n",
       "      <td>2044-11-15T04:00:00.000Z</td>\n",
       "      <td>{'id': 63228264, 'nickname': 'MEGACELLCOM'}</td>\n",
       "      <td>{'city_id': 'RUMtUUnDsWFxdWl0bw', 'city_name':...</td>\n",
       "      <td>[{'attribute_group_id': 'OTHERS', 'attribute_g...</td>\n",
       "      <td>None</td>\n",
       "      <td>None</td>\n",
       "      <td>True</td>\n",
       "      <td>None</td>\n",
       "      <td>None</td>\n",
       "      <td>None</td>\n",
       "      <td>None</td>\n",
       "      <td>None</td>\n",
       "      <td>None</td>\n",
       "      <td>None</td>\n",
       "    </tr>\n",
       "    <tr>\n",
       "      <th>1</th>\n",
       "      <td>MEC585311472</td>\n",
       "      <td>Auriculares Inalámbricos Xiaomi Redmi Buds 6 P...</td>\n",
       "      <td>new</td>\n",
       "      <td>742884-MLA79765825031_102024</td>\n",
       "      <td>MEC39962085</td>\n",
       "      <td>bronze</td>\n",
       "      <td></td>\n",
       "      <td>https://www.mercadolibre.com.ec/auriculares-in...</td>\n",
       "      <td>buy_it_now</td>\n",
       "      <td>MEC</td>\n",
       "      <td>MEC121963</td>\n",
       "      <td>MEC-HEADPHONES</td>\n",
       "      <td>http://http2.mlstatic.com/D_742884-MLA79765825...</td>\n",
       "      <td>USD</td>\n",
       "      <td>2</td>\n",
       "      <td>36.89</td>\n",
       "      <td>44.99</td>\n",
       "      <td>{'amount': 36.89, 'conditions': {'context_rest...</td>\n",
       "      <td>1</td>\n",
       "      <td>NaN</td>\n",
       "      <td>True</td>\n",
       "      <td>True</td>\n",
       "      <td>{'benefits': None, 'free_shipping': True, 'log...</td>\n",
       "      <td>2044-09-17T04:00:00.000Z</td>\n",
       "      <td>{'id': 173825591, 'nickname': 'MAS_STORE'}</td>\n",
       "      <td>{'city_id': 'RUMtUUNhcmNlbMOpbg', 'city_name':...</td>\n",
       "      <td>[{'attribute_group_id': 'OTHERS', 'attribute_g...</td>\n",
       "      <td>None</td>\n",
       "      <td>None</td>\n",
       "      <td>True</td>\n",
       "      <td>None</td>\n",
       "      <td>None</td>\n",
       "      <td>None</td>\n",
       "      <td>None</td>\n",
       "      <td>None</td>\n",
       "      <td>None</td>\n",
       "      <td>None</td>\n",
       "    </tr>\n",
       "    <tr>\n",
       "      <th>2</th>\n",
       "      <td>MEC573483608</td>\n",
       "      <td>Microsoft Xbox Series X 1tb Carbon Black</td>\n",
       "      <td>new</td>\n",
       "      <td>942133-MLA74651936102_022024</td>\n",
       "      <td>MEC16160759</td>\n",
       "      <td>bronze</td>\n",
       "      <td></td>\n",
       "      <td>https://www.mercadolibre.com.ec/microsoft-xbox...</td>\n",
       "      <td>buy_it_now</td>\n",
       "      <td>MEC</td>\n",
       "      <td>MEC3533</td>\n",
       "      <td>MEC-GAME_CONSOLES</td>\n",
       "      <td>http://http2.mlstatic.com/D_942133-MLA74651936...</td>\n",
       "      <td>USD</td>\n",
       "      <td>3</td>\n",
       "      <td>887.43</td>\n",
       "      <td>986.04</td>\n",
       "      <td>{'amount': 887.43, 'conditions': {'context_res...</td>\n",
       "      <td>50</td>\n",
       "      <td>63508.0</td>\n",
       "      <td>True</td>\n",
       "      <td>True</td>\n",
       "      <td>{'benefits': None, 'free_shipping': True, 'log...</td>\n",
       "      <td>2044-05-11T04:00:00.000Z</td>\n",
       "      <td>{'id': 200533006, 'nickname': 'GAMING.EC'}</td>\n",
       "      <td>{'city_id': 'RUMtWVFUYXJxdWk', 'city_name': 'T...</td>\n",
       "      <td>[{'attribute_group_id': 'OTHERS', 'attribute_g...</td>\n",
       "      <td>None</td>\n",
       "      <td>None</td>\n",
       "      <td>True</td>\n",
       "      <td>None</td>\n",
       "      <td>None</td>\n",
       "      <td>None</td>\n",
       "      <td>None</td>\n",
       "      <td>GAMINGEC</td>\n",
       "      <td>None</td>\n",
       "      <td>None</td>\n",
       "    </tr>\n",
       "    <tr>\n",
       "      <th>3</th>\n",
       "      <td>MEC571416556</td>\n",
       "      <td>Auriculares Gamer G435 Logitech G Wireless Gam...</td>\n",
       "      <td>new</td>\n",
       "      <td>681820-MLU77493029189_072024</td>\n",
       "      <td>MEC18651916</td>\n",
       "      <td>bronze</td>\n",
       "      <td></td>\n",
       "      <td>https://www.mercadolibre.com.ec/auriculares-ga...</td>\n",
       "      <td>buy_it_now</td>\n",
       "      <td>MEC</td>\n",
       "      <td>MEC116670</td>\n",
       "      <td>MEC-HEADPHONES</td>\n",
       "      <td>http://http2.mlstatic.com/D_681820-MLU77493029...</td>\n",
       "      <td>USD</td>\n",
       "      <td>4</td>\n",
       "      <td>82.22</td>\n",
       "      <td>91.36</td>\n",
       "      <td>{'amount': 82.22, 'conditions': {'context_rest...</td>\n",
       "      <td>1</td>\n",
       "      <td>63508.0</td>\n",
       "      <td>True</td>\n",
       "      <td>True</td>\n",
       "      <td>{'benefits': None, 'free_shipping': True, 'log...</td>\n",
       "      <td>2044-04-19T04:00:00.000Z</td>\n",
       "      <td>{'id': 200533006, 'nickname': 'GAMING.EC'}</td>\n",
       "      <td>{'city_id': 'RUMtWVFUYXJxdWk', 'city_name': 'T...</td>\n",
       "      <td>[{'attribute_group_id': 'OTHERS', 'attribute_g...</td>\n",
       "      <td>None</td>\n",
       "      <td>None</td>\n",
       "      <td>True</td>\n",
       "      <td>None</td>\n",
       "      <td>None</td>\n",
       "      <td>None</td>\n",
       "      <td>None</td>\n",
       "      <td>GAMINGEC</td>\n",
       "      <td>None</td>\n",
       "      <td>None</td>\n",
       "    </tr>\n",
       "    <tr>\n",
       "      <th>4</th>\n",
       "      <td>MEC568777050</td>\n",
       "      <td>Oculus Quest 2 Advanced All In One Casco Vr 12...</td>\n",
       "      <td>new</td>\n",
       "      <td>929895-MLA51988203957_102022</td>\n",
       "      <td>MEC21236885</td>\n",
       "      <td>bronze</td>\n",
       "      <td></td>\n",
       "      <td>https://www.mercadolibre.com.ec/oculus-quest-2...</td>\n",
       "      <td>buy_it_now</td>\n",
       "      <td>MEC</td>\n",
       "      <td>MEC3533</td>\n",
       "      <td>MEC-GAME_CONSOLES</td>\n",
       "      <td>http://http2.mlstatic.com/D_929895-MLA51988203...</td>\n",
       "      <td>USD</td>\n",
       "      <td>5</td>\n",
       "      <td>443.70</td>\n",
       "      <td>493.00</td>\n",
       "      <td>{'amount': 443.7, 'conditions': {'context_rest...</td>\n",
       "      <td>1</td>\n",
       "      <td>63508.0</td>\n",
       "      <td>True</td>\n",
       "      <td>True</td>\n",
       "      <td>{'benefits': None, 'free_shipping': True, 'log...</td>\n",
       "      <td>2044-04-11T18:10:25.097Z</td>\n",
       "      <td>{'id': 200533006, 'nickname': 'GAMING.EC'}</td>\n",
       "      <td>{'city_id': 'RUMtWVFUYXJxdWk', 'city_name': 'T...</td>\n",
       "      <td>[{'attribute_group_id': 'OTHERS', 'attribute_g...</td>\n",
       "      <td>None</td>\n",
       "      <td>None</td>\n",
       "      <td>True</td>\n",
       "      <td>None</td>\n",
       "      <td>None</td>\n",
       "      <td>None</td>\n",
       "      <td>None</td>\n",
       "      <td>GAMINGEC</td>\n",
       "      <td>None</td>\n",
       "      <td>None</td>\n",
       "    </tr>\n",
       "  </tbody>\n",
       "</table>\n",
       "</div>"
      ],
      "text/plain": [
       "             id                                              title condition  \\\n",
       "0  MEC591721600       Consolas Play Station 5 Slim Edicion Digital       new   \n",
       "1  MEC585311472  Auriculares Inalámbricos Xiaomi Redmi Buds 6 P...       new   \n",
       "2  MEC573483608           Microsoft Xbox Series X 1tb Carbon Black       new   \n",
       "3  MEC571416556  Auriculares Gamer G435 Logitech G Wireless Gam...       new   \n",
       "4  MEC568777050  Oculus Quest 2 Advanced All In One Casco Vr 12...       new   \n",
       "\n",
       "                   thumbnail_id catalog_product_id listing_type_id  \\\n",
       "0  790276-MLU77965322054_082024        MEC29001054        gold_pro   \n",
       "1  742884-MLA79765825031_102024        MEC39962085          bronze   \n",
       "2  942133-MLA74651936102_022024        MEC16160759          bronze   \n",
       "3  681820-MLU77493029189_072024        MEC18651916          bronze   \n",
       "4  929895-MLA51988203957_102022        MEC21236885          bronze   \n",
       "\n",
       "  sanitized_title                                          permalink  \\\n",
       "0                  https://www.mercadolibre.com.ec/consolas-play-...   \n",
       "1                  https://www.mercadolibre.com.ec/auriculares-in...   \n",
       "2                  https://www.mercadolibre.com.ec/microsoft-xbox...   \n",
       "3                  https://www.mercadolibre.com.ec/auriculares-ga...   \n",
       "4                  https://www.mercadolibre.com.ec/oculus-quest-2...   \n",
       "\n",
       "  buying_mode site_id category_id          domain_id  \\\n",
       "0  buy_it_now     MEC     MEC3533  MEC-GAME_CONSOLES   \n",
       "1  buy_it_now     MEC   MEC121963     MEC-HEADPHONES   \n",
       "2  buy_it_now     MEC     MEC3533  MEC-GAME_CONSOLES   \n",
       "3  buy_it_now     MEC   MEC116670     MEC-HEADPHONES   \n",
       "4  buy_it_now     MEC     MEC3533  MEC-GAME_CONSOLES   \n",
       "\n",
       "                                           thumbnail currency_id  \\\n",
       "0  http://http2.mlstatic.com/D_790276-MLU77965322...         USD   \n",
       "1  http://http2.mlstatic.com/D_742884-MLA79765825...         USD   \n",
       "2  http://http2.mlstatic.com/D_942133-MLA74651936...         USD   \n",
       "3  http://http2.mlstatic.com/D_681820-MLU77493029...         USD   \n",
       "4  http://http2.mlstatic.com/D_929895-MLA51988203...         USD   \n",
       "\n",
       "   order_backend   price  original_price  \\\n",
       "0              1  659.00             NaN   \n",
       "1              2   36.89           44.99   \n",
       "2              3  887.43          986.04   \n",
       "3              4   82.22           91.36   \n",
       "4              5  443.70          493.00   \n",
       "\n",
       "                                          sale_price  available_quantity  \\\n",
       "0  {'amount': 659.0, 'conditions': {'context_rest...                  50   \n",
       "1  {'amount': 36.89, 'conditions': {'context_rest...                   1   \n",
       "2  {'amount': 887.43, 'conditions': {'context_res...                  50   \n",
       "3  {'amount': 82.22, 'conditions': {'context_rest...                   1   \n",
       "4  {'amount': 443.7, 'conditions': {'context_rest...                   1   \n",
       "\n",
       "   official_store_id  use_thumbnail_id  accepts_mercadopago  \\\n",
       "0                NaN              True                 True   \n",
       "1                NaN              True                 True   \n",
       "2            63508.0              True                 True   \n",
       "3            63508.0              True                 True   \n",
       "4            63508.0              True                 True   \n",
       "\n",
       "                                            shipping  \\\n",
       "0  {'benefits': None, 'free_shipping': True, 'log...   \n",
       "1  {'benefits': None, 'free_shipping': True, 'log...   \n",
       "2  {'benefits': None, 'free_shipping': True, 'log...   \n",
       "3  {'benefits': None, 'free_shipping': True, 'log...   \n",
       "4  {'benefits': None, 'free_shipping': True, 'log...   \n",
       "\n",
       "                  stop_time                                       seller  \\\n",
       "0  2044-11-15T04:00:00.000Z  {'id': 63228264, 'nickname': 'MEGACELLCOM'}   \n",
       "1  2044-09-17T04:00:00.000Z   {'id': 173825591, 'nickname': 'MAS_STORE'}   \n",
       "2  2044-05-11T04:00:00.000Z   {'id': 200533006, 'nickname': 'GAMING.EC'}   \n",
       "3  2044-04-19T04:00:00.000Z   {'id': 200533006, 'nickname': 'GAMING.EC'}   \n",
       "4  2044-04-11T18:10:25.097Z   {'id': 200533006, 'nickname': 'GAMING.EC'}   \n",
       "\n",
       "                                             address  \\\n",
       "0  {'city_id': 'RUMtUUnDsWFxdWl0bw', 'city_name':...   \n",
       "1  {'city_id': 'RUMtUUNhcmNlbMOpbg', 'city_name':...   \n",
       "2  {'city_id': 'RUMtWVFUYXJxdWk', 'city_name': 'T...   \n",
       "3  {'city_id': 'RUMtWVFUYXJxdWk', 'city_name': 'T...   \n",
       "4  {'city_id': 'RUMtWVFUYXJxdWk', 'city_name': 'T...   \n",
       "\n",
       "                                          attributes installments  \\\n",
       "0  [{'attribute_group_id': 'OTHERS', 'attribute_g...         None   \n",
       "1  [{'attribute_group_id': 'OTHERS', 'attribute_g...         None   \n",
       "2  [{'attribute_group_id': 'OTHERS', 'attribute_g...         None   \n",
       "3  [{'attribute_group_id': 'OTHERS', 'attribute_g...         None   \n",
       "4  [{'attribute_group_id': 'OTHERS', 'attribute_g...         None   \n",
       "\n",
       "  winner_item_id  catalog_listing discounts promotion_decorations promotions  \\\n",
       "0           None             True      None                  None       None   \n",
       "1           None             True      None                  None       None   \n",
       "2           None             True      None                  None       None   \n",
       "3           None             True      None                  None       None   \n",
       "4           None             True      None                  None       None   \n",
       "\n",
       "  inventory_id official_store_name location seller_contact  \n",
       "0         None                None     None           None  \n",
       "1         None                None     None           None  \n",
       "2         None            GAMINGEC     None           None  \n",
       "3         None            GAMINGEC     None           None  \n",
       "4         None            GAMINGEC     None           None  "
      ]
     },
     "execution_count": 79,
     "metadata": {},
     "output_type": "execute_result"
    }
   ],
   "source": [
    "df_raw = pd.read_parquet(os.path.join('..', 'data', 'raw', 'amostra_raw.parquet'))\n",
    "\n",
    "print(df_raw.shape)\n",
    "df_raw.head()"
   ]
  },
  {
   "cell_type": "code",
   "execution_count": 80,
   "metadata": {},
   "outputs": [
    {
     "name": "stdout",
     "output_type": "stream",
     "text": [
      "<class 'pandas.core.frame.DataFrame'>\n",
      "RangeIndex: 285195 entries, 0 to 285194\n",
      "Data columns (total 37 columns):\n",
      " #   Column                 Non-Null Count   Dtype  \n",
      "---  ------                 --------------   -----  \n",
      " 0   id                     285195 non-null  object \n",
      " 1   title                  285195 non-null  object \n",
      " 2   condition              274680 non-null  object \n",
      " 3   thumbnail_id           285195 non-null  object \n",
      " 4   catalog_product_id     135672 non-null  object \n",
      " 5   listing_type_id        285195 non-null  object \n",
      " 6   sanitized_title        285195 non-null  object \n",
      " 7   permalink              285195 non-null  object \n",
      " 8   buying_mode            285195 non-null  object \n",
      " 9   site_id                285195 non-null  object \n",
      " 10  category_id            285195 non-null  object \n",
      " 11  domain_id              285195 non-null  object \n",
      " 12  thumbnail              285195 non-null  object \n",
      " 13  currency_id            278614 non-null  object \n",
      " 14  order_backend          285195 non-null  int64  \n",
      " 15  price                  278614 non-null  float64\n",
      " 16  original_price         67126 non-null   float64\n",
      " 17  sale_price             239128 non-null  object \n",
      " 18  available_quantity     285195 non-null  int64  \n",
      " 19  official_store_id      64146 non-null   float64\n",
      " 20  use_thumbnail_id       285195 non-null  bool   \n",
      " 21  accepts_mercadopago    285195 non-null  bool   \n",
      " 22  shipping               285195 non-null  object \n",
      " 23  stop_time              285195 non-null  object \n",
      " 24  seller                 285193 non-null  object \n",
      " 25  address                278765 non-null  object \n",
      " 26  attributes             285195 non-null  object \n",
      " 27  installments           124831 non-null  object \n",
      " 28  winner_item_id         0 non-null       object \n",
      " 29  catalog_listing        285195 non-null  bool   \n",
      " 30  discounts              0 non-null       object \n",
      " 31  promotion_decorations  0 non-null       object \n",
      " 32  promotions             0 non-null       object \n",
      " 33  inventory_id           47983 non-null   object \n",
      " 34  official_store_name    63010 non-null   object \n",
      " 35  location               29488 non-null   object \n",
      " 36  seller_contact         29488 non-null   object \n",
      "dtypes: bool(3), float64(3), int64(2), object(29)\n",
      "memory usage: 74.8+ MB\n"
     ]
    }
   ],
   "source": [
    "df_raw.info()"
   ]
  },
  {
   "cell_type": "code",
   "execution_count": 81,
   "metadata": {},
   "outputs": [
    {
     "data": {
      "text/plain": [
       "id                       1.000000\n",
       "title                    1.000000\n",
       "condition                0.963130\n",
       "thumbnail_id             1.000000\n",
       "catalog_product_id       0.475717\n",
       "listing_type_id          1.000000\n",
       "sanitized_title          1.000000\n",
       "permalink                1.000000\n",
       "buying_mode              1.000000\n",
       "site_id                  1.000000\n",
       "category_id              1.000000\n",
       "domain_id                1.000000\n",
       "thumbnail                1.000000\n",
       "currency_id              0.976925\n",
       "order_backend            1.000000\n",
       "price                    0.976925\n",
       "original_price           0.235369\n",
       "sale_price               0.838472\n",
       "available_quantity       1.000000\n",
       "official_store_id        0.224920\n",
       "use_thumbnail_id         1.000000\n",
       "accepts_mercadopago      1.000000\n",
       "shipping                 1.000000\n",
       "stop_time                1.000000\n",
       "seller                   0.999993\n",
       "address                  0.977454\n",
       "attributes               1.000000\n",
       "installments             0.437704\n",
       "winner_item_id           0.000000\n",
       "catalog_listing          1.000000\n",
       "discounts                0.000000\n",
       "promotion_decorations    0.000000\n",
       "promotions               0.000000\n",
       "inventory_id             0.168246\n",
       "official_store_name      0.220937\n",
       "location                 0.103396\n",
       "seller_contact           0.103396\n",
       "dtype: float64"
      ]
     },
     "execution_count": 81,
     "metadata": {},
     "output_type": "execute_result"
    }
   ],
   "source": [
    "(df_raw.shape[0] - df_raw.isnull().sum()) / (df_raw.shape[0])"
   ]
  },
  {
   "cell_type": "code",
   "execution_count": 82,
   "metadata": {},
   "outputs": [],
   "source": [
    "df_raw.loc[:, (~df_raw.columns.isin(list(features_struct.keys())))] = df_raw.loc[:, (~df_raw.columns.isin(list(features_struct.keys())))].replace('', None)"
   ]
  },
  {
   "cell_type": "code",
   "execution_count": 83,
   "metadata": {},
   "outputs": [
    {
     "data": {
      "text/plain": [
       "Index(['sanitized_title', 'winner_item_id', 'discounts',\n",
       "       'promotion_decorations', 'promotions'],\n",
       "      dtype='object')"
      ]
     },
     "execution_count": 83,
     "metadata": {},
     "output_type": "execute_result"
    }
   ],
   "source": [
    "df_raw.columns[df_raw.isnull().all()]"
   ]
  },
  {
   "cell_type": "code",
   "execution_count": 84,
   "metadata": {},
   "outputs": [
    {
     "name": "stdout",
     "output_type": "stream",
     "text": [
      "(285195, 32)\n"
     ]
    },
    {
     "data": {
      "text/html": [
       "<div>\n",
       "<style scoped>\n",
       "    .dataframe tbody tr th:only-of-type {\n",
       "        vertical-align: middle;\n",
       "    }\n",
       "\n",
       "    .dataframe tbody tr th {\n",
       "        vertical-align: top;\n",
       "    }\n",
       "\n",
       "    .dataframe thead th {\n",
       "        text-align: right;\n",
       "    }\n",
       "</style>\n",
       "<table border=\"1\" class=\"dataframe\">\n",
       "  <thead>\n",
       "    <tr style=\"text-align: right;\">\n",
       "      <th></th>\n",
       "      <th>id</th>\n",
       "      <th>title</th>\n",
       "      <th>condition</th>\n",
       "      <th>thumbnail_id</th>\n",
       "      <th>catalog_product_id</th>\n",
       "      <th>listing_type_id</th>\n",
       "      <th>permalink</th>\n",
       "      <th>buying_mode</th>\n",
       "      <th>site_id</th>\n",
       "      <th>category_id</th>\n",
       "      <th>domain_id</th>\n",
       "      <th>thumbnail</th>\n",
       "      <th>currency_id</th>\n",
       "      <th>order_backend</th>\n",
       "      <th>price</th>\n",
       "      <th>original_price</th>\n",
       "      <th>sale_price</th>\n",
       "      <th>available_quantity</th>\n",
       "      <th>official_store_id</th>\n",
       "      <th>use_thumbnail_id</th>\n",
       "      <th>accepts_mercadopago</th>\n",
       "      <th>shipping</th>\n",
       "      <th>stop_time</th>\n",
       "      <th>seller</th>\n",
       "      <th>address</th>\n",
       "      <th>attributes</th>\n",
       "      <th>installments</th>\n",
       "      <th>catalog_listing</th>\n",
       "      <th>inventory_id</th>\n",
       "      <th>official_store_name</th>\n",
       "      <th>location</th>\n",
       "      <th>seller_contact</th>\n",
       "    </tr>\n",
       "  </thead>\n",
       "  <tbody>\n",
       "    <tr>\n",
       "      <th>0</th>\n",
       "      <td>MEC591721600</td>\n",
       "      <td>Consolas Play Station 5 Slim Edicion Digital</td>\n",
       "      <td>new</td>\n",
       "      <td>790276-MLU77965322054_082024</td>\n",
       "      <td>MEC29001054</td>\n",
       "      <td>gold_pro</td>\n",
       "      <td>https://www.mercadolibre.com.ec/consolas-play-...</td>\n",
       "      <td>buy_it_now</td>\n",
       "      <td>MEC</td>\n",
       "      <td>MEC3533</td>\n",
       "      <td>MEC-GAME_CONSOLES</td>\n",
       "      <td>http://http2.mlstatic.com/D_790276-MLU77965322...</td>\n",
       "      <td>USD</td>\n",
       "      <td>1</td>\n",
       "      <td>659.00</td>\n",
       "      <td>NaN</td>\n",
       "      <td>{'amount': 659.0, 'conditions': {'context_rest...</td>\n",
       "      <td>50</td>\n",
       "      <td>NaN</td>\n",
       "      <td>True</td>\n",
       "      <td>True</td>\n",
       "      <td>{'benefits': None, 'free_shipping': True, 'log...</td>\n",
       "      <td>2044-11-15T04:00:00.000Z</td>\n",
       "      <td>{'id': 63228264, 'nickname': 'MEGACELLCOM'}</td>\n",
       "      <td>{'city_id': 'RUMtUUnDsWFxdWl0bw', 'city_name':...</td>\n",
       "      <td>[{'attribute_group_id': 'OTHERS', 'attribute_g...</td>\n",
       "      <td>None</td>\n",
       "      <td>True</td>\n",
       "      <td>None</td>\n",
       "      <td>None</td>\n",
       "      <td>None</td>\n",
       "      <td>None</td>\n",
       "    </tr>\n",
       "    <tr>\n",
       "      <th>1</th>\n",
       "      <td>MEC585311472</td>\n",
       "      <td>Auriculares Inalámbricos Xiaomi Redmi Buds 6 P...</td>\n",
       "      <td>new</td>\n",
       "      <td>742884-MLA79765825031_102024</td>\n",
       "      <td>MEC39962085</td>\n",
       "      <td>bronze</td>\n",
       "      <td>https://www.mercadolibre.com.ec/auriculares-in...</td>\n",
       "      <td>buy_it_now</td>\n",
       "      <td>MEC</td>\n",
       "      <td>MEC121963</td>\n",
       "      <td>MEC-HEADPHONES</td>\n",
       "      <td>http://http2.mlstatic.com/D_742884-MLA79765825...</td>\n",
       "      <td>USD</td>\n",
       "      <td>2</td>\n",
       "      <td>36.89</td>\n",
       "      <td>44.99</td>\n",
       "      <td>{'amount': 36.89, 'conditions': {'context_rest...</td>\n",
       "      <td>1</td>\n",
       "      <td>NaN</td>\n",
       "      <td>True</td>\n",
       "      <td>True</td>\n",
       "      <td>{'benefits': None, 'free_shipping': True, 'log...</td>\n",
       "      <td>2044-09-17T04:00:00.000Z</td>\n",
       "      <td>{'id': 173825591, 'nickname': 'MAS_STORE'}</td>\n",
       "      <td>{'city_id': 'RUMtUUNhcmNlbMOpbg', 'city_name':...</td>\n",
       "      <td>[{'attribute_group_id': 'OTHERS', 'attribute_g...</td>\n",
       "      <td>None</td>\n",
       "      <td>True</td>\n",
       "      <td>None</td>\n",
       "      <td>None</td>\n",
       "      <td>None</td>\n",
       "      <td>None</td>\n",
       "    </tr>\n",
       "    <tr>\n",
       "      <th>2</th>\n",
       "      <td>MEC573483608</td>\n",
       "      <td>Microsoft Xbox Series X 1tb Carbon Black</td>\n",
       "      <td>new</td>\n",
       "      <td>942133-MLA74651936102_022024</td>\n",
       "      <td>MEC16160759</td>\n",
       "      <td>bronze</td>\n",
       "      <td>https://www.mercadolibre.com.ec/microsoft-xbox...</td>\n",
       "      <td>buy_it_now</td>\n",
       "      <td>MEC</td>\n",
       "      <td>MEC3533</td>\n",
       "      <td>MEC-GAME_CONSOLES</td>\n",
       "      <td>http://http2.mlstatic.com/D_942133-MLA74651936...</td>\n",
       "      <td>USD</td>\n",
       "      <td>3</td>\n",
       "      <td>887.43</td>\n",
       "      <td>986.04</td>\n",
       "      <td>{'amount': 887.43, 'conditions': {'context_res...</td>\n",
       "      <td>50</td>\n",
       "      <td>63508.0</td>\n",
       "      <td>True</td>\n",
       "      <td>True</td>\n",
       "      <td>{'benefits': None, 'free_shipping': True, 'log...</td>\n",
       "      <td>2044-05-11T04:00:00.000Z</td>\n",
       "      <td>{'id': 200533006, 'nickname': 'GAMING.EC'}</td>\n",
       "      <td>{'city_id': 'RUMtWVFUYXJxdWk', 'city_name': 'T...</td>\n",
       "      <td>[{'attribute_group_id': 'OTHERS', 'attribute_g...</td>\n",
       "      <td>None</td>\n",
       "      <td>True</td>\n",
       "      <td>None</td>\n",
       "      <td>GAMINGEC</td>\n",
       "      <td>None</td>\n",
       "      <td>None</td>\n",
       "    </tr>\n",
       "    <tr>\n",
       "      <th>3</th>\n",
       "      <td>MEC571416556</td>\n",
       "      <td>Auriculares Gamer G435 Logitech G Wireless Gam...</td>\n",
       "      <td>new</td>\n",
       "      <td>681820-MLU77493029189_072024</td>\n",
       "      <td>MEC18651916</td>\n",
       "      <td>bronze</td>\n",
       "      <td>https://www.mercadolibre.com.ec/auriculares-ga...</td>\n",
       "      <td>buy_it_now</td>\n",
       "      <td>MEC</td>\n",
       "      <td>MEC116670</td>\n",
       "      <td>MEC-HEADPHONES</td>\n",
       "      <td>http://http2.mlstatic.com/D_681820-MLU77493029...</td>\n",
       "      <td>USD</td>\n",
       "      <td>4</td>\n",
       "      <td>82.22</td>\n",
       "      <td>91.36</td>\n",
       "      <td>{'amount': 82.22, 'conditions': {'context_rest...</td>\n",
       "      <td>1</td>\n",
       "      <td>63508.0</td>\n",
       "      <td>True</td>\n",
       "      <td>True</td>\n",
       "      <td>{'benefits': None, 'free_shipping': True, 'log...</td>\n",
       "      <td>2044-04-19T04:00:00.000Z</td>\n",
       "      <td>{'id': 200533006, 'nickname': 'GAMING.EC'}</td>\n",
       "      <td>{'city_id': 'RUMtWVFUYXJxdWk', 'city_name': 'T...</td>\n",
       "      <td>[{'attribute_group_id': 'OTHERS', 'attribute_g...</td>\n",
       "      <td>None</td>\n",
       "      <td>True</td>\n",
       "      <td>None</td>\n",
       "      <td>GAMINGEC</td>\n",
       "      <td>None</td>\n",
       "      <td>None</td>\n",
       "    </tr>\n",
       "    <tr>\n",
       "      <th>4</th>\n",
       "      <td>MEC568777050</td>\n",
       "      <td>Oculus Quest 2 Advanced All In One Casco Vr 12...</td>\n",
       "      <td>new</td>\n",
       "      <td>929895-MLA51988203957_102022</td>\n",
       "      <td>MEC21236885</td>\n",
       "      <td>bronze</td>\n",
       "      <td>https://www.mercadolibre.com.ec/oculus-quest-2...</td>\n",
       "      <td>buy_it_now</td>\n",
       "      <td>MEC</td>\n",
       "      <td>MEC3533</td>\n",
       "      <td>MEC-GAME_CONSOLES</td>\n",
       "      <td>http://http2.mlstatic.com/D_929895-MLA51988203...</td>\n",
       "      <td>USD</td>\n",
       "      <td>5</td>\n",
       "      <td>443.70</td>\n",
       "      <td>493.00</td>\n",
       "      <td>{'amount': 443.7, 'conditions': {'context_rest...</td>\n",
       "      <td>1</td>\n",
       "      <td>63508.0</td>\n",
       "      <td>True</td>\n",
       "      <td>True</td>\n",
       "      <td>{'benefits': None, 'free_shipping': True, 'log...</td>\n",
       "      <td>2044-04-11T18:10:25.097Z</td>\n",
       "      <td>{'id': 200533006, 'nickname': 'GAMING.EC'}</td>\n",
       "      <td>{'city_id': 'RUMtWVFUYXJxdWk', 'city_name': 'T...</td>\n",
       "      <td>[{'attribute_group_id': 'OTHERS', 'attribute_g...</td>\n",
       "      <td>None</td>\n",
       "      <td>True</td>\n",
       "      <td>None</td>\n",
       "      <td>GAMINGEC</td>\n",
       "      <td>None</td>\n",
       "      <td>None</td>\n",
       "    </tr>\n",
       "  </tbody>\n",
       "</table>\n",
       "</div>"
      ],
      "text/plain": [
       "             id                                              title condition  \\\n",
       "0  MEC591721600       Consolas Play Station 5 Slim Edicion Digital       new   \n",
       "1  MEC585311472  Auriculares Inalámbricos Xiaomi Redmi Buds 6 P...       new   \n",
       "2  MEC573483608           Microsoft Xbox Series X 1tb Carbon Black       new   \n",
       "3  MEC571416556  Auriculares Gamer G435 Logitech G Wireless Gam...       new   \n",
       "4  MEC568777050  Oculus Quest 2 Advanced All In One Casco Vr 12...       new   \n",
       "\n",
       "                   thumbnail_id catalog_product_id listing_type_id  \\\n",
       "0  790276-MLU77965322054_082024        MEC29001054        gold_pro   \n",
       "1  742884-MLA79765825031_102024        MEC39962085          bronze   \n",
       "2  942133-MLA74651936102_022024        MEC16160759          bronze   \n",
       "3  681820-MLU77493029189_072024        MEC18651916          bronze   \n",
       "4  929895-MLA51988203957_102022        MEC21236885          bronze   \n",
       "\n",
       "                                           permalink buying_mode site_id  \\\n",
       "0  https://www.mercadolibre.com.ec/consolas-play-...  buy_it_now     MEC   \n",
       "1  https://www.mercadolibre.com.ec/auriculares-in...  buy_it_now     MEC   \n",
       "2  https://www.mercadolibre.com.ec/microsoft-xbox...  buy_it_now     MEC   \n",
       "3  https://www.mercadolibre.com.ec/auriculares-ga...  buy_it_now     MEC   \n",
       "4  https://www.mercadolibre.com.ec/oculus-quest-2...  buy_it_now     MEC   \n",
       "\n",
       "  category_id          domain_id  \\\n",
       "0     MEC3533  MEC-GAME_CONSOLES   \n",
       "1   MEC121963     MEC-HEADPHONES   \n",
       "2     MEC3533  MEC-GAME_CONSOLES   \n",
       "3   MEC116670     MEC-HEADPHONES   \n",
       "4     MEC3533  MEC-GAME_CONSOLES   \n",
       "\n",
       "                                           thumbnail currency_id  \\\n",
       "0  http://http2.mlstatic.com/D_790276-MLU77965322...         USD   \n",
       "1  http://http2.mlstatic.com/D_742884-MLA79765825...         USD   \n",
       "2  http://http2.mlstatic.com/D_942133-MLA74651936...         USD   \n",
       "3  http://http2.mlstatic.com/D_681820-MLU77493029...         USD   \n",
       "4  http://http2.mlstatic.com/D_929895-MLA51988203...         USD   \n",
       "\n",
       "   order_backend   price  original_price  \\\n",
       "0              1  659.00             NaN   \n",
       "1              2   36.89           44.99   \n",
       "2              3  887.43          986.04   \n",
       "3              4   82.22           91.36   \n",
       "4              5  443.70          493.00   \n",
       "\n",
       "                                          sale_price  available_quantity  \\\n",
       "0  {'amount': 659.0, 'conditions': {'context_rest...                  50   \n",
       "1  {'amount': 36.89, 'conditions': {'context_rest...                   1   \n",
       "2  {'amount': 887.43, 'conditions': {'context_res...                  50   \n",
       "3  {'amount': 82.22, 'conditions': {'context_rest...                   1   \n",
       "4  {'amount': 443.7, 'conditions': {'context_rest...                   1   \n",
       "\n",
       "   official_store_id  use_thumbnail_id  accepts_mercadopago  \\\n",
       "0                NaN              True                 True   \n",
       "1                NaN              True                 True   \n",
       "2            63508.0              True                 True   \n",
       "3            63508.0              True                 True   \n",
       "4            63508.0              True                 True   \n",
       "\n",
       "                                            shipping  \\\n",
       "0  {'benefits': None, 'free_shipping': True, 'log...   \n",
       "1  {'benefits': None, 'free_shipping': True, 'log...   \n",
       "2  {'benefits': None, 'free_shipping': True, 'log...   \n",
       "3  {'benefits': None, 'free_shipping': True, 'log...   \n",
       "4  {'benefits': None, 'free_shipping': True, 'log...   \n",
       "\n",
       "                  stop_time                                       seller  \\\n",
       "0  2044-11-15T04:00:00.000Z  {'id': 63228264, 'nickname': 'MEGACELLCOM'}   \n",
       "1  2044-09-17T04:00:00.000Z   {'id': 173825591, 'nickname': 'MAS_STORE'}   \n",
       "2  2044-05-11T04:00:00.000Z   {'id': 200533006, 'nickname': 'GAMING.EC'}   \n",
       "3  2044-04-19T04:00:00.000Z   {'id': 200533006, 'nickname': 'GAMING.EC'}   \n",
       "4  2044-04-11T18:10:25.097Z   {'id': 200533006, 'nickname': 'GAMING.EC'}   \n",
       "\n",
       "                                             address  \\\n",
       "0  {'city_id': 'RUMtUUnDsWFxdWl0bw', 'city_name':...   \n",
       "1  {'city_id': 'RUMtUUNhcmNlbMOpbg', 'city_name':...   \n",
       "2  {'city_id': 'RUMtWVFUYXJxdWk', 'city_name': 'T...   \n",
       "3  {'city_id': 'RUMtWVFUYXJxdWk', 'city_name': 'T...   \n",
       "4  {'city_id': 'RUMtWVFUYXJxdWk', 'city_name': 'T...   \n",
       "\n",
       "                                          attributes installments  \\\n",
       "0  [{'attribute_group_id': 'OTHERS', 'attribute_g...         None   \n",
       "1  [{'attribute_group_id': 'OTHERS', 'attribute_g...         None   \n",
       "2  [{'attribute_group_id': 'OTHERS', 'attribute_g...         None   \n",
       "3  [{'attribute_group_id': 'OTHERS', 'attribute_g...         None   \n",
       "4  [{'attribute_group_id': 'OTHERS', 'attribute_g...         None   \n",
       "\n",
       "   catalog_listing inventory_id official_store_name location seller_contact  \n",
       "0             True         None                None     None           None  \n",
       "1             True         None                None     None           None  \n",
       "2             True         None            GAMINGEC     None           None  \n",
       "3             True         None            GAMINGEC     None           None  \n",
       "4             True         None            GAMINGEC     None           None  "
      ]
     },
     "execution_count": 84,
     "metadata": {},
     "output_type": "execute_result"
    }
   ],
   "source": [
    "df_raw = df_raw.dropna(axis=1, how='all')\n",
    "\n",
    "print(df_raw.shape)\n",
    "df_raw.head()"
   ]
  },
  {
   "cell_type": "code",
   "execution_count": 85,
   "metadata": {},
   "outputs": [
    {
     "data": {
      "text/plain": [
       "13555"
      ]
     },
     "execution_count": 85,
     "metadata": {},
     "output_type": "execute_result"
    }
   ],
   "source": [
    "(\n",
    "    df_raw.loc[:, (~df_raw.columns.isin(list(features_struct.keys()) + ['order_backend']))]\n",
    "    .duplicated()\n",
    "    .sum()\n",
    ")"
   ]
  },
  {
   "cell_type": "code",
   "execution_count": 86,
   "metadata": {},
   "outputs": [
    {
     "name": "stdout",
     "output_type": "stream",
     "text": [
      "(271640, 32)\n"
     ]
    },
    {
     "data": {
      "text/plain": [
       "0"
      ]
     },
     "execution_count": 86,
     "metadata": {},
     "output_type": "execute_result"
    }
   ],
   "source": [
    "df_raw = df_raw.drop_duplicates(subset='id', keep='first')\n",
    "\n",
    "print(df_raw.shape)\n",
    "\n",
    "(\n",
    "    df_raw.loc[:, (~df_raw.columns.isin(list(features_struct.keys()) + ['order_backend']))]\n",
    "    .duplicated()\n",
    "    .sum()\n",
    ")"
   ]
  },
  {
   "cell_type": "code",
   "execution_count": 87,
   "metadata": {},
   "outputs": [
    {
     "name": "stdout",
     "output_type": "stream",
     "text": [
      "Número de categorias distintas (considerando o ID do país): 25011\n",
      "Número de categorias distintas (após tratamento): 15210\n"
     ]
    }
   ],
   "source": [
    "df_raw['category_id_tratado'] = df_raw.category_id.apply(lambda x: x[3:])\n",
    "\n",
    "print(f\"Número de categorias distintas (considerando o ID do país): {df_raw['category_id'].nunique()}\")\n",
    "print(f\"Número de categorias distintas (após tratamento): {df_raw['category_id_tratado'].nunique()}\")\n",
    "\n",
    "df_raw = df_raw.drop('category_id', axis = 1)"
   ]
  },
  {
   "cell_type": "code",
   "execution_count": 88,
   "metadata": {},
   "outputs": [
    {
     "data": {
      "image/png": "[encoded data removed]",
      "text/plain": [
       "<Figure size 1200x500 with 1 Axes>"
      ]
     },
     "metadata": {},
     "output_type": "display_data"
    }
   ],
   "source": [
    "region_counts = df_raw['site_id'].value_counts()\n",
    "\n",
    "plt.figure(figsize = (12, 5))\n",
    "ax = sns.barplot(\n",
    "    x = region_counts.index,\n",
    "    y = region_counts.values,\n",
    "    color = 'lightblue'\n",
    ")\n",
    "\n",
    "plt.xticks(rotation=90)\n",
    "\n",
    "for container in ax.containers:\n",
    "    labels = [f\"{val.get_height():,.0f}\".replace(',', '.') for val in container]\n",
    "    ax.bar_label(container, labels=labels) \n",
    "\n",
    "plt.xlabel('País de atuação')\n",
    "plt.ylabel('Volumetria da amostra')\n",
    "plt.title('Volumetria da amostra por país')\n",
    "plt.grid(True, which='both', linestyle='--', linewidth=0.5, color='gray', alpha=0.5)\n",
    "\n",
    "plt.show()"
   ]
  },
  {
   "cell_type": "code",
   "execution_count": 89,
   "metadata": {},
   "outputs": [
    {
     "data": {
      "image/png": "[encoded data removed]",
      "text/plain": [
       "<Figure size 1200x500 with 1 Axes>"
      ]
     },
     "metadata": {},
     "output_type": "display_data"
    }
   ],
   "source": [
    "plt.figure(figsize = (12, 5))\n",
    "\n",
    "ax = sns.barplot(\n",
    "    x = 'site_id', \n",
    "    y = 'num_categories', \n",
    "    color = 'lightblue', \n",
    "    data = (\n",
    "        df_raw\n",
    "        .groupby('site_id', as_index=False)['category_id_tratado']\n",
    "        .nunique()\n",
    "        .rename(columns = {'category_id_tratado': 'num_categories'})\n",
    "    ).sort_values(by = 'num_categories', ascending = False)\n",
    ")\n",
    "\n",
    "plt.xticks(rotation=90)\n",
    "\n",
    "for container in ax.containers:\n",
    "    labels = [f\"{val.get_height():,.0f}\".replace(',', '.') for val in container]\n",
    "    ax.bar_label(container, labels=labels) \n",
    "\n",
    "plt.xlabel('País de atuação')\n",
    "plt.ylabel('Quantidade de categorias distintas')\n",
    "plt.title('Quantidade de categorias distintas da amostra por país')\n",
    "plt.grid(True, which='both', linestyle='--', linewidth=0.5, color='gray', alpha=0.5)\n",
    "\n",
    "plt.show()\n"
   ]
  },
  {
   "cell_type": "code",
   "execution_count": 90,
   "metadata": {},
   "outputs": [
    {
     "name": "stdout",
     "output_type": "stream",
     "text": [
      "Categorias da feature `buying_mode`: ['buy_it_now' 'classified']\n",
      "Categorias da feature `currency_id`: ['USD' None 'DOP' 'ARS' 'COP' 'BOB' 'CRC' 'UYU' 'BRL' 'PYG' 'GTQ' 'PEN'\n",
      " 'MXN' 'HNL' 'VES' 'NIO' 'PAB']\n"
     ]
    }
   ],
   "source": [
    "print(f'Categorias da feature `buying_mode`: {df_raw.buying_mode.unique()}')\n",
    "print(f'Categorias da feature `currency_id`: {df_raw.currency_id.unique()}')"
   ]
  },
  {
   "cell_type": "code",
   "execution_count": 91,
   "metadata": {},
   "outputs": [],
   "source": [
    "df_counts = (\n",
    "    df_raw\n",
    "    .groupby(['buying_mode', 'site_id'], as_index=False)\n",
    "    .size()\n",
    "    .rename(columns={'size': 'count'})\n",
    ")\n",
    "\n",
    "modes = df_counts['buying_mode'].unique()"
   ]
  },
  {
   "cell_type": "code",
   "execution_count": 92,
   "metadata": {},
   "outputs": [
    {
     "data": {
      "image/png": "[encoded data removed]",
      "text/plain": [
       "<Figure size 1200x600 with 2 Axes>"
      ]
     },
     "metadata": {},
     "output_type": "display_data"
    }
   ],
   "source": [
    "fig, axes = plt.subplots(nrows = 1, ncols = len(modes), figsize = (12, 6))\n",
    "\n",
    "for ax, mode in zip(axes, modes):\n",
    "    df_mode = df_counts[df_counts['buying_mode'] == mode]\n",
    "    \n",
    "    df_mode_sorted = df_mode.sort_values(by = 'count', ascending=False)\n",
    "    \n",
    "    sns.barplot(\n",
    "        data=df_mode_sorted,\n",
    "        y = 'site_id',\n",
    "        x = 'count',\n",
    "        ax = ax,\n",
    "        color = 'lightblue',\n",
    "        order=df_mode_sorted['site_id']\n",
    "    )\n",
    "    \n",
    "    ax.set_title(f\"Volumetria amostral por país | buying_mode: {mode}\")\n",
    "    ax.set_xlabel(\"Volumetria amostral\")\n",
    "    ax.set_ylabel(\"País (ID)\")\n",
    "    \n",
    "    for container in ax.containers:\n",
    "        labels = [f\"{bar.get_width():,.0f}\".replace(',', '.') for bar in container]\n",
    "        ax.bar_label(container, labels=labels, fmt=\"\", padding=3)\n",
    "    \n",
    "    ax.set_xlim(0, df_mode_sorted['count'].max() * 1.15)\n",
    "    ax.grid(True, which='both', linestyle='--', linewidth=0.5, color='gray', alpha=0.5)\n",
    "    \n",
    "plt.show()"
   ]
  },
  {
   "cell_type": "code",
   "execution_count": 93,
   "metadata": {},
   "outputs": [
    {
     "data": {
      "text/plain": [
       "array(['SUPPLEMENTS', 'ELECTRIC_AIR_PUMPS', 'BICYCLE_TRAINERS', ...,\n",
       "       'INSPECTION_CHAMBER_RISERS', 'TOILET_BASE_RISERS', 'WHEELBARROWS'],\n",
       "      dtype=object)"
      ]
     },
     "execution_count": 93,
     "metadata": {},
     "output_type": "execute_result"
    }
   ],
   "source": [
    "df_raw['domain_id_tratado'] = df_raw.domain_id.apply(lambda x: x[4:])\n",
    "df_raw[df_raw.site_id == 'MLB']['domain_id_tratado'].unique()"
   ]
  },
  {
   "cell_type": "code",
   "execution_count": 94,
   "metadata": {},
   "outputs": [
    {
     "data": {
      "text/plain": [
       "2764"
      ]
     },
     "execution_count": 94,
     "metadata": {},
     "output_type": "execute_result"
    }
   ],
   "source": [
    "count_domain_per_categ_id = (\n",
    "    df_raw\n",
    "    .groupby('domain_id_tratado')['category_id_tratado']\n",
    "    .nunique()\n",
    ")\n",
    "\n",
    "len(count_domain_per_categ_id[count_domain_per_categ_id > 1])\n"
   ]
  },
  {
   "cell_type": "code",
   "execution_count": 95,
   "metadata": {},
   "outputs": [
    {
     "data": {
      "text/html": [
       "<div>\n",
       "<style scoped>\n",
       "    .dataframe tbody tr th:only-of-type {\n",
       "        vertical-align: middle;\n",
       "    }\n",
       "\n",
       "    .dataframe tbody tr th {\n",
       "        vertical-align: top;\n",
       "    }\n",
       "\n",
       "    .dataframe thead th {\n",
       "        text-align: right;\n",
       "    }\n",
       "</style>\n",
       "<table border=\"1\" class=\"dataframe\">\n",
       "  <thead>\n",
       "    <tr style=\"text-align: right;\">\n",
       "      <th></th>\n",
       "      <th>site_id</th>\n",
       "      <th>domain_id_tratado</th>\n",
       "      <th>proportion</th>\n",
       "    </tr>\n",
       "  </thead>\n",
       "  <tbody>\n",
       "    <tr>\n",
       "      <th>0</th>\n",
       "      <td>MBO</td>\n",
       "      <td>CELLPHONES</td>\n",
       "      <td>0.098242</td>\n",
       "    </tr>\n",
       "    <tr>\n",
       "      <th>374</th>\n",
       "      <td>MCO</td>\n",
       "      <td>BOOKS</td>\n",
       "      <td>0.033421</td>\n",
       "    </tr>\n",
       "    <tr>\n",
       "      <th>2086</th>\n",
       "      <td>MCR</td>\n",
       "      <td>PERFUMES</td>\n",
       "      <td>0.051340</td>\n",
       "    </tr>\n",
       "    <tr>\n",
       "      <th>3381</th>\n",
       "      <td>MEC</td>\n",
       "      <td>BOOKS</td>\n",
       "      <td>0.035244</td>\n",
       "    </tr>\n",
       "    <tr>\n",
       "      <th>5185</th>\n",
       "      <td>MGT</td>\n",
       "      <td>OTHER_SERVICES</td>\n",
       "      <td>0.164371</td>\n",
       "    </tr>\n",
       "    <tr>\n",
       "      <th>5607</th>\n",
       "      <td>MHN</td>\n",
       "      <td>NOTEBOOKS</td>\n",
       "      <td>0.160452</td>\n",
       "    </tr>\n",
       "    <tr>\n",
       "      <th>5779</th>\n",
       "      <td>MLA</td>\n",
       "      <td>CARS_AND_VANS</td>\n",
       "      <td>0.032920</td>\n",
       "    </tr>\n",
       "    <tr>\n",
       "      <th>7926</th>\n",
       "      <td>MLB</td>\n",
       "      <td>CARS_AND_VANS</td>\n",
       "      <td>0.032799</td>\n",
       "    </tr>\n",
       "    <tr>\n",
       "      <th>10100</th>\n",
       "      <td>MLM</td>\n",
       "      <td>BOOKS</td>\n",
       "      <td>0.033063</td>\n",
       "    </tr>\n",
       "    <tr>\n",
       "      <th>12180</th>\n",
       "      <td>MLU</td>\n",
       "      <td>CARS_AND_VANS</td>\n",
       "      <td>0.030018</td>\n",
       "    </tr>\n",
       "    <tr>\n",
       "      <th>13878</th>\n",
       "      <td>MLV</td>\n",
       "      <td>CARS_AND_VANS</td>\n",
       "      <td>0.031962</td>\n",
       "    </tr>\n",
       "    <tr>\n",
       "      <th>15841</th>\n",
       "      <td>MNI</td>\n",
       "      <td>CELLPHONES</td>\n",
       "      <td>0.179554</td>\n",
       "    </tr>\n",
       "    <tr>\n",
       "      <th>15965</th>\n",
       "      <td>MPA</td>\n",
       "      <td>CARS_AND_VANS</td>\n",
       "      <td>0.280965</td>\n",
       "    </tr>\n",
       "    <tr>\n",
       "      <th>16222</th>\n",
       "      <td>MPE</td>\n",
       "      <td>BOOKS</td>\n",
       "      <td>0.034473</td>\n",
       "    </tr>\n",
       "    <tr>\n",
       "      <th>17903</th>\n",
       "      <td>MPY</td>\n",
       "      <td>CELLPHONES</td>\n",
       "      <td>0.129636</td>\n",
       "    </tr>\n",
       "    <tr>\n",
       "      <th>18346</th>\n",
       "      <td>MRD</td>\n",
       "      <td>CARS_AND_VANS</td>\n",
       "      <td>0.077234</td>\n",
       "    </tr>\n",
       "    <tr>\n",
       "      <th>19271</th>\n",
       "      <td>MSV</td>\n",
       "      <td>OTHER_SERVICES</td>\n",
       "      <td>0.143564</td>\n",
       "    </tr>\n",
       "  </tbody>\n",
       "</table>\n",
       "</div>"
      ],
      "text/plain": [
       "      site_id domain_id_tratado  proportion\n",
       "0         MBO        CELLPHONES    0.098242\n",
       "374       MCO             BOOKS    0.033421\n",
       "2086      MCR          PERFUMES    0.051340\n",
       "3381      MEC             BOOKS    0.035244\n",
       "5185      MGT    OTHER_SERVICES    0.164371\n",
       "5607      MHN         NOTEBOOKS    0.160452\n",
       "5779      MLA     CARS_AND_VANS    0.032920\n",
       "7926      MLB     CARS_AND_VANS    0.032799\n",
       "10100     MLM             BOOKS    0.033063\n",
       "12180     MLU     CARS_AND_VANS    0.030018\n",
       "13878     MLV     CARS_AND_VANS    0.031962\n",
       "15841     MNI        CELLPHONES    0.179554\n",
       "15965     MPA     CARS_AND_VANS    0.280965\n",
       "16222     MPE             BOOKS    0.034473\n",
       "17903     MPY        CELLPHONES    0.129636\n",
       "18346     MRD     CARS_AND_VANS    0.077234\n",
       "19271     MSV    OTHER_SERVICES    0.143564"
      ]
     },
     "execution_count": 95,
     "metadata": {},
     "output_type": "execute_result"
    }
   ],
   "source": [
    "df_raw['domain_id_tratado'] = df_raw.domain_id.apply(lambda x: x[4:])\n",
    "\n",
    "(\n",
    "    df_raw\n",
    "    .groupby('site_id',as_index=False)['domain_id_tratado']\n",
    "    .value_counts(normalize=True)\n",
    "    .groupby('site_id', as_index=False)\n",
    "    .head(1)\n",
    ")"
   ]
  },
  {
   "cell_type": "code",
   "execution_count": 96,
   "metadata": {},
   "outputs": [
    {
     "data": {
      "text/plain": [
       "buying_mode\n",
       "classified    1000\n",
       "dtype: int64"
      ]
     },
     "execution_count": 96,
     "metadata": {},
     "output_type": "execute_result"
    }
   ],
   "source": [
    "df_raw[(df_raw.site_id == 'MLB') & (df_raw.domain_id_tratado == 'CARS_AND_VANS')].groupby('buying_mode').size()"
   ]
  },
  {
   "cell_type": "code",
   "execution_count": 97,
   "metadata": {},
   "outputs": [],
   "source": [
    "df_raw = df_raw.drop('domain_id', axis = 1)"
   ]
  },
  {
   "cell_type": "markdown",
   "metadata": {},
   "source": [
    "# Análises de features no formato `Struct`"
   ]
  },
  {
   "cell_type": "markdown",
   "metadata": {},
   "source": [
    "## Feature: `sale_price`"
   ]
  },
  {
   "cell_type": "code",
   "execution_count": 98,
   "metadata": {},
   "outputs": [
    {
     "data": {
      "text/plain": [
       "{'amount': 36.89,\n",
       " 'conditions': {'context_restrictions': array(['channel_marketplace'], dtype=object),\n",
       "  'eligible': True,\n",
       "  'end_time': '2025-02-13T04:59:59Z',\n",
       "  'start_time': '2025-01-14T05:00:00Z'},\n",
       " 'currency_id': 'USD',\n",
       " 'exchange_rate': None,\n",
       " 'metadata': {'buy_quantity': None,\n",
       "  'campaign_discount_percentage': None,\n",
       "  'campaign_end_date': None,\n",
       "  'campaign_id': None,\n",
       "  'discount_meli_amount': None,\n",
       "  'experiment_id': None,\n",
       "  'funding_mode': None,\n",
       "  'order_item_price': None,\n",
       "  'pay_quantity': None,\n",
       "  'promotion_id': 'OFFER-MEC585311472-10735768559',\n",
       "  'promotion_type': 'custom',\n",
       "  'purchase_discount_campaign_id': None,\n",
       "  'purchase_discount_id': None,\n",
       "  'purchase_discount_percentage': None,\n",
       "  'purchase_discount_type': None,\n",
       "  'variation': None},\n",
       " 'payment_method_prices': array([], dtype=object),\n",
       " 'payment_method_type': 'TMP',\n",
       " 'price_id': '',\n",
       " 'regular_amount': 44.99,\n",
       " 'type': 'promotion'}"
      ]
     },
     "execution_count": 98,
     "metadata": {},
     "output_type": "execute_result"
    }
   ],
   "source": [
    "df_raw.sale_price.iloc[1]"
   ]
  },
  {
   "cell_type": "code",
   "execution_count": 99,
   "metadata": {},
   "outputs": [],
   "source": [
    "# Features de sale_price\n",
    "df_raw['sale_price_conditions'] = df_raw.sale_price.apply(lambda x: unpack_feature(x, 'conditions'))\n",
    "df_raw['sale_price_metadata'] = df_raw.sale_price.apply(lambda x: unpack_feature(x, 'metadata'))\n",
    "df_raw['sale_price_payment_method_type'] = df_raw.sale_price.apply(lambda x: unpack_feature(x, 'payment_method_type'))"
   ]
  },
  {
   "cell_type": "code",
   "execution_count": 100,
   "metadata": {},
   "outputs": [],
   "source": [
    "# Features de sale_price > conditions\n",
    "df_raw['sale_price_conditions_start_time'] = df_raw.sale_price_conditions.apply(lambda x: unpack_feature(x, 'start_time'))\n",
    "df_raw['sale_price_conditions_end_time'] = df_raw.sale_price_conditions.apply(lambda x: unpack_feature(x, 'end_time'))\n",
    "df_raw['sale_price_conditions_eligible'] = df_raw.sale_price_conditions.apply(lambda x: unpack_feature(x, 'eligible'))\n",
    "df_raw['sale_price_conditions_context_restrictions'] = df_raw.sale_price_conditions.apply(lambda x: unpack_feature(x, 'context_restrictions'))\n",
    "\n",
    "df_raw = df_raw.drop('sale_price_conditions', axis = 1)\n",
    "\n",
    "# Features de sale_price > metadata\n",
    "df_raw['sale_price_metadata_promotion_type'] = df_raw.sale_price_metadata.apply(lambda x: unpack_feature(x, 'promotion_type'))"
   ]
  },
  {
   "cell_type": "code",
   "execution_count": 101,
   "metadata": {},
   "outputs": [],
   "source": [
    "df_raw['sale_price_conditions_start_time'] = pd.to_datetime(df_raw['sale_price_conditions_start_time'], errors = 'coerce')\n",
    "df_raw['sale_price_conditions_end_time'] = pd.to_datetime(df_raw['sale_price_conditions_end_time'], errors = 'coerce')\n",
    "df_raw['stop_time'] = pd.to_datetime(df_raw['stop_time'], errors = 'coerce')"
   ]
  },
  {
   "cell_type": "code",
   "execution_count": 102,
   "metadata": {},
   "outputs": [
    {
     "data": {
      "text/html": [
       "<div>\n",
       "<style scoped>\n",
       "    .dataframe tbody tr th:only-of-type {\n",
       "        vertical-align: middle;\n",
       "    }\n",
       "\n",
       "    .dataframe tbody tr th {\n",
       "        vertical-align: top;\n",
       "    }\n",
       "\n",
       "    .dataframe thead th {\n",
       "        text-align: right;\n",
       "    }\n",
       "</style>\n",
       "<table border=\"1\" class=\"dataframe\">\n",
       "  <thead>\n",
       "    <tr style=\"text-align: right;\">\n",
       "      <th></th>\n",
       "      <th>diff_start_end_time</th>\n",
       "      <th>diff_start_stop_time</th>\n",
       "    </tr>\n",
       "  </thead>\n",
       "  <tbody>\n",
       "    <tr>\n",
       "      <th>0</th>\n",
       "      <td>NaN</td>\n",
       "      <td>NaN</td>\n",
       "    </tr>\n",
       "    <tr>\n",
       "      <th>1</th>\n",
       "      <td>29.0</td>\n",
       "      <td>7185.0</td>\n",
       "    </tr>\n",
       "    <tr>\n",
       "      <th>2</th>\n",
       "      <td>30.0</td>\n",
       "      <td>7062.0</td>\n",
       "    </tr>\n",
       "    <tr>\n",
       "      <th>3</th>\n",
       "      <td>30.0</td>\n",
       "      <td>7040.0</td>\n",
       "    </tr>\n",
       "    <tr>\n",
       "      <th>4</th>\n",
       "      <td>30.0</td>\n",
       "      <td>7033.0</td>\n",
       "    </tr>\n",
       "  </tbody>\n",
       "</table>\n",
       "</div>"
      ],
      "text/plain": [
       "   diff_start_end_time  diff_start_stop_time\n",
       "0                  NaN                   NaN\n",
       "1                 29.0                7185.0\n",
       "2                 30.0                7062.0\n",
       "3                 30.0                7040.0\n",
       "4                 30.0                7033.0"
      ]
     },
     "execution_count": 102,
     "metadata": {},
     "output_type": "execute_result"
    }
   ],
   "source": [
    "df_raw['diff_start_end_time'] = (df_raw['sale_price_conditions_end_time'] - df_raw['sale_price_conditions_start_time']).dt.days\n",
    "df_raw['diff_start_stop_time'] = (df_raw['stop_time'] - df_raw['sale_price_conditions_start_time']).dt.days\n",
    "\n",
    "df_raw[['diff_start_end_time', 'diff_start_stop_time']].head()"
   ]
  },
  {
   "cell_type": "code",
   "execution_count": 103,
   "metadata": {},
   "outputs": [
    {
     "data": {
      "text/plain": [
       "True    227834\n",
       "None     43806\n",
       "Name: sale_price_conditions_eligible, dtype: int64"
      ]
     },
     "execution_count": 103,
     "metadata": {},
     "output_type": "execute_result"
    }
   ],
   "source": [
    "df_raw['sale_price_conditions_eligible'].value_counts(dropna=False)"
   ]
  },
  {
   "cell_type": "code",
   "execution_count": 104,
   "metadata": {},
   "outputs": [
    {
     "name": "stdout",
     "output_type": "stream",
     "text": [
      "1\n",
      "['[]' \"['channel_marketplace']\" 0]\n"
     ]
    }
   ],
   "source": [
    "print(df_raw['sale_price_conditions_context_restrictions'].apply(lambda vec: 0 if vec is None else len(vec)).max())\n",
    "print(df_raw['sale_price_conditions_context_restrictions'].apply(lambda vec: 0 if vec is None else str(vec)).unique())"
   ]
  },
  {
   "cell_type": "code",
   "execution_count": 105,
   "metadata": {},
   "outputs": [
    {
     "data": {
      "text/plain": [
       "(66809, 42)"
      ]
     },
     "execution_count": 105,
     "metadata": {},
     "output_type": "execute_result"
    }
   ],
   "source": [
    "df_raw['channel_marketplace_flag'] = df_raw['sale_price_conditions_context_restrictions'].apply(lambda vec: 0 if vec is None or str(vec) == '[]' else 1)\n",
    "df_raw[df_raw['channel_marketplace_flag'] == 1].shape"
   ]
  },
  {
   "cell_type": "code",
   "execution_count": 106,
   "metadata": {},
   "outputs": [
    {
     "data": {
      "text/plain": [
       "TMP     227834\n",
       "None     43806\n",
       "Name: sale_price_payment_method_type, dtype: int64"
      ]
     },
     "execution_count": 106,
     "metadata": {},
     "output_type": "execute_result"
    }
   ],
   "source": [
    "df_raw['sale_price_payment_method_type'].value_counts(dropna = False)"
   ]
  },
  {
   "cell_type": "code",
   "execution_count": 107,
   "metadata": {},
   "outputs": [
    {
     "data": {
      "text/plain": [
       "standard     165789\n",
       "promotion     61759\n",
       "None          43806\n",
       "BNSP            185\n",
       "SPONTH           96\n",
       "BNGM              5\n",
       "Name: sale_price_type, dtype: int64"
      ]
     },
     "execution_count": 107,
     "metadata": {},
     "output_type": "execute_result"
    }
   ],
   "source": [
    "df_raw['sale_price_type'] = df_raw.sale_price.apply(lambda x: unpack_feature(x, 'type'))\n",
    "df_raw['sale_price_type'].value_counts(dropna=False)"
   ]
  },
  {
   "cell_type": "markdown",
   "metadata": {},
   "source": [
    "### Criação das targets (`promotion_flag` e `promotion_perc`)\n",
    "\n",
    "Como o objetivo do case é, em suma, predizer se um produto deve entrar em promoção, bem como quantificar esta. Logo, a primeira target é obtida diretamente da feature `sale_price`, em que há a indicadora `flag` com as categorias: 'promotion, 'standard', 'BNSP', 'SPONTH', 'BNGM'. Sendo assim, binarizando-a: se esta for igual a 'promotion', adotaremos uma flag 1 e 0 caso contrário. Ademais, após esse tratamento, pode-se notar que o caso passa a ser um pouco desbalanceado (aproximadamente, 77% items não promocionais e 23% promocionais).\n",
    "\n",
    "Por sua vez, para quantificar a promoção será adotado um modelo de regressão para prever o percentual do desconto, uma vez que há inúmeras moedas (dólar, peso, real, etc) e, portanto, as diferenças absolutas não são equiparáveis. Ainda, para essa abordagem, será utilizado somente amostras que foram (ou são) promoções para não confudir o modelo, dado que produtos que não são promocionais não apresentam descontos, obviamente."
   ]
  },
  {
   "cell_type": "code",
   "execution_count": 108,
   "metadata": {},
   "outputs": [],
   "source": [
    "df_raw['promotion_flag'] = (df_raw['sale_price_type'] == 'promotion').astype(int)"
   ]
  },
  {
   "cell_type": "code",
   "execution_count": 109,
   "metadata": {},
   "outputs": [
    {
     "data": {
      "image/png": "[encoded data removed]",
      "text/plain": [
       "<Figure size 600x400 with 1 Axes>"
      ]
     },
     "metadata": {},
     "output_type": "display_data"
    }
   ],
   "source": [
    "plt.figure(figsize=(6, 4))\n",
    "\n",
    "ax = sns.barplot(\n",
    "    x=df_raw.promotion_flag.value_counts().index, \n",
    "    y=df_raw.promotion_flag.value_counts(normalize=True).values\n",
    ")\n",
    "\n",
    "for p in ax.patches:\n",
    "    ax.annotate(\n",
    "        f'{p.get_height()*100:.2f}%', \n",
    "        (p.get_x() + p.get_width() / 2., p.get_height() + .01), \n",
    "        ha = 'center', \n",
    "        va = 'center', \n",
    "        fontsize = 10, \n",
    "        color = 'black', \n",
    "        xytext = (0, 5), \n",
    "        textcoords = 'offset points'\n",
    "    )\n",
    "\n",
    "plt.ylabel('Frequência relativa')\n",
    "plt.xlabel('Promoção')\n",
    "plt.ylim(0, 1)\n",
    "plt.grid(True, which = 'both', linestyle = '--', linewidth = 0.5, color = 'gray', alpha = 0.5)\n",
    "plt.show()"
   ]
  },
  {
   "cell_type": "markdown",
   "metadata": {},
   "source": [
    "Produtos promocionais tendem a ser, na extrema maioria das vezes, novos:"
   ]
  },
  {
   "cell_type": "code",
   "execution_count": 110,
   "metadata": {},
   "outputs": [
    {
     "data": {
      "text/html": [
       "<div>\n",
       "<style scoped>\n",
       "    .dataframe tbody tr th:only-of-type {\n",
       "        vertical-align: middle;\n",
       "    }\n",
       "\n",
       "    .dataframe tbody tr th {\n",
       "        vertical-align: top;\n",
       "    }\n",
       "\n",
       "    .dataframe thead th {\n",
       "        text-align: right;\n",
       "    }\n",
       "</style>\n",
       "<table border=\"1\" class=\"dataframe\">\n",
       "  <thead>\n",
       "    <tr style=\"text-align: right;\">\n",
       "      <th></th>\n",
       "      <th>promotion_flag</th>\n",
       "      <th>condition</th>\n",
       "      <th>relative_freq</th>\n",
       "    </tr>\n",
       "  </thead>\n",
       "  <tbody>\n",
       "    <tr>\n",
       "      <th>0</th>\n",
       "      <td>0</td>\n",
       "      <td>new</td>\n",
       "      <td>0.869762</td>\n",
       "    </tr>\n",
       "    <tr>\n",
       "      <th>1</th>\n",
       "      <td>0</td>\n",
       "      <td>used</td>\n",
       "      <td>0.119414</td>\n",
       "    </tr>\n",
       "    <tr>\n",
       "      <th>2</th>\n",
       "      <td>0</td>\n",
       "      <td>not_specified</td>\n",
       "      <td>0.010824</td>\n",
       "    </tr>\n",
       "    <tr>\n",
       "      <th>3</th>\n",
       "      <td>1</td>\n",
       "      <td>new</td>\n",
       "      <td>0.999887</td>\n",
       "    </tr>\n",
       "    <tr>\n",
       "      <th>4</th>\n",
       "      <td>1</td>\n",
       "      <td>used</td>\n",
       "      <td>0.000113</td>\n",
       "    </tr>\n",
       "  </tbody>\n",
       "</table>\n",
       "</div>"
      ],
      "text/plain": [
       "   promotion_flag      condition  relative_freq\n",
       "0               0            new       0.869762\n",
       "1               0           used       0.119414\n",
       "2               0  not_specified       0.010824\n",
       "3               1            new       0.999887\n",
       "4               1           used       0.000113"
      ]
     },
     "execution_count": 110,
     "metadata": {},
     "output_type": "execute_result"
    }
   ],
   "source": [
    "(\n",
    "    df_raw\n",
    "    .groupby('promotion_flag')['condition']\n",
    "    .value_counts(normalize=True)\n",
    "    .reset_index(name='relative_freq')\n",
    ")"
   ]
  },
  {
   "cell_type": "code",
   "execution_count": 111,
   "metadata": {},
   "outputs": [
    {
     "data": {
      "text/html": [
       "<div>\n",
       "<style scoped>\n",
       "    .dataframe tbody tr th:only-of-type {\n",
       "        vertical-align: middle;\n",
       "    }\n",
       "\n",
       "    .dataframe tbody tr th {\n",
       "        vertical-align: top;\n",
       "    }\n",
       "\n",
       "    .dataframe thead th {\n",
       "        text-align: right;\n",
       "    }\n",
       "</style>\n",
       "<table border=\"1\" class=\"dataframe\">\n",
       "  <thead>\n",
       "    <tr style=\"text-align: right;\">\n",
       "      <th></th>\n",
       "      <th>promotion_flag</th>\n",
       "      <th>sale_price_payment_method_type</th>\n",
       "      <th>relative_freq</th>\n",
       "    </tr>\n",
       "  </thead>\n",
       "  <tbody>\n",
       "    <tr>\n",
       "      <th>0</th>\n",
       "      <td>0</td>\n",
       "      <td>TMP</td>\n",
       "      <td>0.791282</td>\n",
       "    </tr>\n",
       "    <tr>\n",
       "      <th>1</th>\n",
       "      <td>0</td>\n",
       "      <td>NaN</td>\n",
       "      <td>0.208718</td>\n",
       "    </tr>\n",
       "    <tr>\n",
       "      <th>2</th>\n",
       "      <td>1</td>\n",
       "      <td>TMP</td>\n",
       "      <td>1.000000</td>\n",
       "    </tr>\n",
       "  </tbody>\n",
       "</table>\n",
       "</div>"
      ],
      "text/plain": [
       "   promotion_flag sale_price_payment_method_type  relative_freq\n",
       "0               0                            TMP       0.791282\n",
       "1               0                            NaN       0.208718\n",
       "2               1                            TMP       1.000000"
      ]
     },
     "execution_count": 111,
     "metadata": {},
     "output_type": "execute_result"
    }
   ],
   "source": [
    "(\n",
    "    df_raw\n",
    "    .groupby('promotion_flag')['sale_price_payment_method_type']\n",
    "    .value_counts(normalize=True, dropna = False)\n",
    "    .reset_index(name='relative_freq')\n",
    ")"
   ]
  },
  {
   "cell_type": "code",
   "execution_count": 112,
   "metadata": {},
   "outputs": [
    {
     "data": {
      "text/html": [
       "<div>\n",
       "<style scoped>\n",
       "    .dataframe tbody tr th:only-of-type {\n",
       "        vertical-align: middle;\n",
       "    }\n",
       "\n",
       "    .dataframe tbody tr th {\n",
       "        vertical-align: top;\n",
       "    }\n",
       "\n",
       "    .dataframe thead th {\n",
       "        text-align: right;\n",
       "    }\n",
       "</style>\n",
       "<table border=\"1\" class=\"dataframe\">\n",
       "  <thead>\n",
       "    <tr style=\"text-align: right;\">\n",
       "      <th></th>\n",
       "      <th>promotion_flag</th>\n",
       "      <th>sale_price_metadata_promotion_type</th>\n",
       "      <th>relative_freq</th>\n",
       "    </tr>\n",
       "  </thead>\n",
       "  <tbody>\n",
       "    <tr>\n",
       "      <th>0</th>\n",
       "      <td>0</td>\n",
       "      <td>NaN</td>\n",
       "      <td>1.000000</td>\n",
       "    </tr>\n",
       "    <tr>\n",
       "      <th>1</th>\n",
       "      <td>1</td>\n",
       "      <td>campaign</td>\n",
       "      <td>0.372998</td>\n",
       "    </tr>\n",
       "    <tr>\n",
       "      <th>2</th>\n",
       "      <td>1</td>\n",
       "      <td>custom</td>\n",
       "      <td>0.344986</td>\n",
       "    </tr>\n",
       "    <tr>\n",
       "      <th>3</th>\n",
       "      <td>1</td>\n",
       "      <td>marketplace_campaign</td>\n",
       "      <td>0.256967</td>\n",
       "    </tr>\n",
       "    <tr>\n",
       "      <th>4</th>\n",
       "      <td>1</td>\n",
       "      <td>deal_of_the_day</td>\n",
       "      <td>0.018394</td>\n",
       "    </tr>\n",
       "    <tr>\n",
       "      <th>5</th>\n",
       "      <td>1</td>\n",
       "      <td>lightning</td>\n",
       "      <td>0.006655</td>\n",
       "    </tr>\n",
       "  </tbody>\n",
       "</table>\n",
       "</div>"
      ],
      "text/plain": [
       "   promotion_flag sale_price_metadata_promotion_type  relative_freq\n",
       "0               0                                NaN       1.000000\n",
       "1               1                           campaign       0.372998\n",
       "2               1                             custom       0.344986\n",
       "3               1               marketplace_campaign       0.256967\n",
       "4               1                    deal_of_the_day       0.018394\n",
       "5               1                          lightning       0.006655"
      ]
     },
     "execution_count": 112,
     "metadata": {},
     "output_type": "execute_result"
    }
   ],
   "source": [
    "(\n",
    "    df_raw\n",
    "    .groupby('promotion_flag')['sale_price_metadata_promotion_type']\n",
    "    .value_counts(normalize=True, dropna = False)\n",
    "    .reset_index(name='relative_freq')\n",
    ")"
   ]
  },
  {
   "cell_type": "markdown",
   "metadata": {},
   "source": [
    "A feature `diff_start_end_time` (diferença entre o tempo final de listagem e tempo inicial) aparenta discriminar bastante um item promocional do não promocional, no entanto, as análises abaixo colocam em dúvida se apenas items promocionais tendem a ter marcação de listagem, podendo ocasionar vazamento de dado futuro no treinamento do modelo. Logo, não será considerada para o desenvolvimento."
   ]
  },
  {
   "cell_type": "code",
   "execution_count": 113,
   "metadata": {},
   "outputs": [
    {
     "data": {
      "image/png": "[encoded data removed]",
      "text/plain": [
       "<Figure size 500x500 with 1 Axes>"
      ]
     },
     "metadata": {},
     "output_type": "display_data"
    }
   ],
   "source": [
    "plt.figure(figsize=(5, 5))\n",
    "\n",
    "sns.boxplot(x = 'promotion_flag', y = 'diff_start_end_time', data = df_raw)\n",
    "plt.title('Boxplot da # dias de listagem por flag de promoção')\n",
    "plt.xlabel('Promoção')\n",
    "plt.ylabel('# de dias de listagem')\n",
    "plt.grid(True, which = 'both', linestyle = '--', linewidth = 0.5, color = 'gray', alpha = 0.5)\n",
    "\n",
    "plt.show()"
   ]
  },
  {
   "cell_type": "code",
   "execution_count": 115,
   "metadata": {},
   "outputs": [
    {
     "name": "stdout",
     "output_type": "stream",
     "text": [
      "Quantidade de nulos (não promoção): 209595\n",
      "Quantidade de nulos (promoção): 0\n"
     ]
    }
   ],
   "source": [
    "print(f\"Quantidade de nulos (não promoção): {df_raw[df_raw.promotion_flag != 1].diff_start_end_time.isna().sum()}\")\n",
    "print(f\"Quantidade de nulos (promoção): {df_raw[df_raw.promotion_flag == 1].diff_start_end_time.isna().sum()}\")"
   ]
  },
  {
   "cell_type": "code",
   "execution_count": 120,
   "metadata": {},
   "outputs": [
    {
     "data": {
      "text/plain": [
       "BNSP      185\n",
       "SPONTH     96\n",
       "BNGM        5\n",
       "Name: sale_price_type, dtype: int64"
      ]
     },
     "execution_count": 120,
     "metadata": {},
     "output_type": "execute_result"
    }
   ],
   "source": [
    "df_raw[(df_raw.promotion_flag != 1) & (df_raw.diff_start_end_time.notna())].sale_price_type.value_counts(dropna=False)"
   ]
  },
  {
   "cell_type": "code",
   "execution_count": 44,
   "metadata": {},
   "outputs": [
    {
     "data": {
      "image/png": "[encoded data removed]",
      "text/plain": [
       "<Figure size 1000x500 with 1 Axes>"
      ]
     },
     "metadata": {},
     "output_type": "display_data"
    }
   ],
   "source": [
    "plt.figure(figsize=(10, 5))\n",
    "\n",
    "sns.boxplot(\n",
    "    x = 'sale_price_metadata_promotion_type', \n",
    "    y = 'diff_start_end_time', \n",
    "    data = df_raw[df_raw.promotion_flag == 1]\n",
    "    )\n",
    "\n",
    "plt.title('Boxplot da # dias de listagem por categoria de promoção')\n",
    "plt.xlabel('Categoria da promoção')\n",
    "plt.ylabel('# de dias de listagem')\n",
    "plt.grid(True, which = 'both', linestyle = '--', linewidth = 0.5, color = 'gray', alpha = 0.5)\n",
    "\n",
    "plt.show()"
   ]
  },
  {
   "cell_type": "markdown",
   "metadata": {},
   "source": [
    "Na célula abaixo, notou-se que a feature `channel_marketplace_flag` assume valores igual a 1, na maioria das vezes, quando o produto é promocional. Além disso, como não foi encontrado uma descrição clara da variável `sale_price.conditions.context_restrictions`, decidiu-se não a considerar na modelagem, uma vez que esta poderia trazer informação futura (evento de data leaky)."
   ]
  },
  {
   "cell_type": "code",
   "execution_count": 45,
   "metadata": {},
   "outputs": [
    {
     "data": {
      "text/plain": [
       "1    61759\n",
       "0     5050\n",
       "Name: promotion_flag, dtype: int64"
      ]
     },
     "execution_count": 45,
     "metadata": {},
     "output_type": "execute_result"
    }
   ],
   "source": [
    "df_raw[df_raw['channel_marketplace_flag'] == 1].promotion_flag.value_counts()"
   ]
  },
  {
   "cell_type": "markdown",
   "metadata": {},
   "source": [
    "### Construção da target referente a quantidade de desconto atribuído a um produto."
   ]
  },
  {
   "cell_type": "code",
   "execution_count": 46,
   "metadata": {},
   "outputs": [
    {
     "name": "stdout",
     "output_type": "stream",
     "text": [
      "\n",
      "    Quantidade de produtos com o preço original nulos (não promocional): 208865\n",
      "    Quantidade de produtos com o preço original nulos (promocional): 0\n",
      "\n"
     ]
    }
   ],
   "source": [
    "print(f\"\"\"\n",
    "    Quantidade de produtos com o preço original nulos (não promocional): {df_raw[df_raw.promotion_flag != 1].original_price.isnull().sum()}\n",
    "    Quantidade de produtos com o preço original nulos (promocional): {df_raw[df_raw.promotion_flag == 1].original_price.isnull().sum()}\n",
    "\"\"\")"
   ]
  },
  {
   "cell_type": "code",
   "execution_count": 47,
   "metadata": {},
   "outputs": [],
   "source": [
    "df_raw.loc[(df_raw.promotion_flag == 1), 'price_tratado'] = df_raw['original_price']\n",
    "df_raw.loc[(df_raw.promotion_flag != 1), 'price_tratado'] = df_raw['price']"
   ]
  },
  {
   "cell_type": "code",
   "execution_count": 48,
   "metadata": {},
   "outputs": [],
   "source": [
    "df_raw = df_raw.drop(\n",
    "    df_raw[(df_raw.price_tratado.isna())].index\n",
    ").reset_index(drop=True)"
   ]
  },
  {
   "cell_type": "markdown",
   "metadata": {},
   "source": [
    "Calcularemos o desconto por meio de:  \n",
    "\n",
    "desconto = $\\left(\\frac{X - Y}{X} \\right)$, \n",
    "\n",
    "sendo $X$ e $Y$ os valores de `original_price` e `price`, respectivamente."
   ]
  },
  {
   "cell_type": "code",
   "execution_count": 49,
   "metadata": {},
   "outputs": [
    {
     "data": {
      "text/plain": [
       "count    61759.000000\n",
       "mean         0.227065\n",
       "std          0.151044\n",
       "min          0.000043\n",
       "0%           0.000043\n",
       "10%          0.050026\n",
       "20%          0.090943\n",
       "30%          0.120000\n",
       "40%          0.150000\n",
       "50%          0.200000\n",
       "60%          0.247989\n",
       "70%          0.291391\n",
       "80%          0.353385\n",
       "90%          0.450000\n",
       "100%         0.787402\n",
       "max          0.787402\n",
       "Name: discount, dtype: float64"
      ]
     },
     "execution_count": 49,
     "metadata": {},
     "output_type": "execute_result"
    }
   ],
   "source": [
    "df_raw['discount'] = ((df_raw['original_price'] - df_raw['price'].fillna(0)) / df_raw['original_price']).fillna(0)\n",
    "\n",
    "df_raw[df_raw.promotion_flag == 1]['discount'].describe(percentiles = [i/100 for i in range(0, 101, 10)])"
   ]
  },
  {
   "cell_type": "code",
   "execution_count": 50,
   "metadata": {},
   "outputs": [
    {
     "data": {
      "image/png": "[encoded data removed]",
      "text/plain": [
       "<Figure size 1000x500 with 1 Axes>"
      ]
     },
     "metadata": {},
     "output_type": "display_data"
    }
   ],
   "source": [
    "plt.figure(figsize=(10, 5))\n",
    "\n",
    "sns.kdeplot(\n",
    "    data = df_raw[df_raw.promotion_flag == 1],\n",
    "    x = 'discount',\n",
    "    hue = 'sale_price_metadata_promotion_type',\n",
    "    fill = True,\n",
    "    common_norm = False,\n",
    "    alpha = 0.3\n",
    ")\n",
    "\n",
    "plt.title(\"Função de densidade de probabilidade do desconto para cada tipo de promoção\")\n",
    "plt.xlabel(\"Desconto\")\n",
    "plt.ylabel(\"Densidade\")\n",
    "\n",
    "plt.grid(True, linestyle = '--', linewidth = 0.5, color = 'gray', alpha = 0.5)\n",
    "plt.show()"
   ]
  },
  {
   "cell_type": "code",
   "execution_count": 51,
   "metadata": {},
   "outputs": [
    {
     "data": {
      "text/html": [
       "<div>\n",
       "<style scoped>\n",
       "    .dataframe tbody tr th:only-of-type {\n",
       "        vertical-align: middle;\n",
       "    }\n",
       "\n",
       "    .dataframe tbody tr th {\n",
       "        vertical-align: top;\n",
       "    }\n",
       "\n",
       "    .dataframe thead th {\n",
       "        text-align: right;\n",
       "    }\n",
       "</style>\n",
       "<table border=\"1\" class=\"dataframe\">\n",
       "  <thead>\n",
       "    <tr style=\"text-align: right;\">\n",
       "      <th></th>\n",
       "      <th>count</th>\n",
       "      <th>mean</th>\n",
       "      <th>std</th>\n",
       "      <th>min</th>\n",
       "      <th>0%</th>\n",
       "      <th>10%</th>\n",
       "      <th>20%</th>\n",
       "      <th>30%</th>\n",
       "      <th>40%</th>\n",
       "      <th>50%</th>\n",
       "      <th>60%</th>\n",
       "      <th>70%</th>\n",
       "      <th>80%</th>\n",
       "      <th>90%</th>\n",
       "      <th>100%</th>\n",
       "      <th>max</th>\n",
       "    </tr>\n",
       "    <tr>\n",
       "      <th>sale_price_metadata_promotion_type</th>\n",
       "      <th></th>\n",
       "      <th></th>\n",
       "      <th></th>\n",
       "      <th></th>\n",
       "      <th></th>\n",
       "      <th></th>\n",
       "      <th></th>\n",
       "      <th></th>\n",
       "      <th></th>\n",
       "      <th></th>\n",
       "      <th></th>\n",
       "      <th></th>\n",
       "      <th></th>\n",
       "      <th></th>\n",
       "      <th></th>\n",
       "      <th></th>\n",
       "    </tr>\n",
       "  </thead>\n",
       "  <tbody>\n",
       "    <tr>\n",
       "      <th>campaign</th>\n",
       "      <td>23036.0</td>\n",
       "      <td>0.208314</td>\n",
       "      <td>0.159238</td>\n",
       "      <td>0.000043</td>\n",
       "      <td>0.000043</td>\n",
       "      <td>0.050000</td>\n",
       "      <td>0.059839</td>\n",
       "      <td>0.090038</td>\n",
       "      <td>0.120000</td>\n",
       "      <td>0.160000</td>\n",
       "      <td>0.200669</td>\n",
       "      <td>0.269715</td>\n",
       "      <td>0.350000</td>\n",
       "      <td>0.450000</td>\n",
       "      <td>0.787402</td>\n",
       "      <td>0.787402</td>\n",
       "    </tr>\n",
       "    <tr>\n",
       "      <th>custom</th>\n",
       "      <td>21306.0</td>\n",
       "      <td>0.225868</td>\n",
       "      <td>0.150943</td>\n",
       "      <td>0.049989</td>\n",
       "      <td>0.049989</td>\n",
       "      <td>0.050043</td>\n",
       "      <td>0.090393</td>\n",
       "      <td>0.100124</td>\n",
       "      <td>0.150000</td>\n",
       "      <td>0.200000</td>\n",
       "      <td>0.240000</td>\n",
       "      <td>0.300000</td>\n",
       "      <td>0.351759</td>\n",
       "      <td>0.449979</td>\n",
       "      <td>0.700088</td>\n",
       "      <td>0.700088</td>\n",
       "    </tr>\n",
       "    <tr>\n",
       "      <th>deal_of_the_day</th>\n",
       "      <td>1136.0</td>\n",
       "      <td>0.317628</td>\n",
       "      <td>0.164161</td>\n",
       "      <td>0.031793</td>\n",
       "      <td>0.031793</td>\n",
       "      <td>0.100000</td>\n",
       "      <td>0.163201</td>\n",
       "      <td>0.220000</td>\n",
       "      <td>0.257689</td>\n",
       "      <td>0.300000</td>\n",
       "      <td>0.350000</td>\n",
       "      <td>0.406226</td>\n",
       "      <td>0.471160</td>\n",
       "      <td>0.550000</td>\n",
       "      <td>0.717852</td>\n",
       "      <td>0.717852</td>\n",
       "    </tr>\n",
       "    <tr>\n",
       "      <th>lightning</th>\n",
       "      <td>411.0</td>\n",
       "      <td>0.315314</td>\n",
       "      <td>0.176090</td>\n",
       "      <td>0.030000</td>\n",
       "      <td>0.030000</td>\n",
       "      <td>0.080000</td>\n",
       "      <td>0.130127</td>\n",
       "      <td>0.190000</td>\n",
       "      <td>0.250000</td>\n",
       "      <td>0.300000</td>\n",
       "      <td>0.350101</td>\n",
       "      <td>0.428299</td>\n",
       "      <td>0.490000</td>\n",
       "      <td>0.571510</td>\n",
       "      <td>0.700000</td>\n",
       "      <td>0.700000</td>\n",
       "    </tr>\n",
       "    <tr>\n",
       "      <th>marketplace_campaign</th>\n",
       "      <td>15870.0</td>\n",
       "      <td>0.247123</td>\n",
       "      <td>0.130229</td>\n",
       "      <td>0.001658</td>\n",
       "      <td>0.001658</td>\n",
       "      <td>0.100000</td>\n",
       "      <td>0.130003</td>\n",
       "      <td>0.150066</td>\n",
       "      <td>0.197426</td>\n",
       "      <td>0.230002</td>\n",
       "      <td>0.250119</td>\n",
       "      <td>0.299289</td>\n",
       "      <td>0.358649</td>\n",
       "      <td>0.425223</td>\n",
       "      <td>0.757086</td>\n",
       "      <td>0.757086</td>\n",
       "    </tr>\n",
       "  </tbody>\n",
       "</table>\n",
       "</div>"
      ],
      "text/plain": [
       "                                      count      mean       std       min  \\\n",
       "sale_price_metadata_promotion_type                                          \n",
       "campaign                            23036.0  0.208314  0.159238  0.000043   \n",
       "custom                              21306.0  0.225868  0.150943  0.049989   \n",
       "deal_of_the_day                      1136.0  0.317628  0.164161  0.031793   \n",
       "lightning                             411.0  0.315314  0.176090  0.030000   \n",
       "marketplace_campaign                15870.0  0.247123  0.130229  0.001658   \n",
       "\n",
       "                                          0%       10%       20%       30%  \\\n",
       "sale_price_metadata_promotion_type                                           \n",
       "campaign                            0.000043  0.050000  0.059839  0.090038   \n",
       "custom                              0.049989  0.050043  0.090393  0.100124   \n",
       "deal_of_the_day                     0.031793  0.100000  0.163201  0.220000   \n",
       "lightning                           0.030000  0.080000  0.130127  0.190000   \n",
       "marketplace_campaign                0.001658  0.100000  0.130003  0.150066   \n",
       "\n",
       "                                         40%       50%       60%       70%  \\\n",
       "sale_price_metadata_promotion_type                                           \n",
       "campaign                            0.120000  0.160000  0.200669  0.269715   \n",
       "custom                              0.150000  0.200000  0.240000  0.300000   \n",
       "deal_of_the_day                     0.257689  0.300000  0.350000  0.406226   \n",
       "lightning                           0.250000  0.300000  0.350101  0.428299   \n",
       "marketplace_campaign                0.197426  0.230002  0.250119  0.299289   \n",
       "\n",
       "                                         80%       90%      100%       max  \n",
       "sale_price_metadata_promotion_type                                          \n",
       "campaign                            0.350000  0.450000  0.787402  0.787402  \n",
       "custom                              0.351759  0.449979  0.700088  0.700088  \n",
       "deal_of_the_day                     0.471160  0.550000  0.717852  0.717852  \n",
       "lightning                           0.490000  0.571510  0.700000  0.700000  \n",
       "marketplace_campaign                0.358649  0.425223  0.757086  0.757086  "
      ]
     },
     "execution_count": 51,
     "metadata": {},
     "output_type": "execute_result"
    }
   ],
   "source": [
    "(\n",
    "    df_raw[df_raw.promotion_flag == 1]\n",
    "    .groupby('sale_price_metadata_promotion_type')['discount']\n",
    "    .describe(percentiles = [i/100 for i in range(0, 101, 10)])\n",
    ")"
   ]
  },
  {
   "cell_type": "code",
   "execution_count": 52,
   "metadata": {},
   "outputs": [],
   "source": [
    "df_raw = df_raw.drop(['sale_price', 'sale_price_metadata'], axis = 1)"
   ]
  },
  {
   "cell_type": "markdown",
   "metadata": {},
   "source": [
    "## Feature: `attributes`"
   ]
  },
  {
   "cell_type": "code",
   "execution_count": 53,
   "metadata": {},
   "outputs": [
    {
     "data": {
      "text/plain": [
       "array([{'attribute_group_id': 'OTHERS', 'attribute_group_name': 'Otros', 'id': 'ALPHANUMERIC_MODEL', 'name': 'Modelo alfanumérico', 'source': 1.0, 'value_id': '41660440', 'value_name': 'M2420E1', 'value_struct': None, 'value_type': 'string', 'values': array([{'id': '41660440', 'name': 'M2420E1', 'source': 1.0, 'struct': None}],\n",
       "             dtype=object)}                                                                                                                                                                                                                                                                                                              ,\n",
       "       {'attribute_group_id': 'OTHERS', 'attribute_group_name': 'Otros', 'id': 'BRAND', 'name': 'Marca', 'source': 1.0, 'value_id': '59387', 'value_name': 'Xiaomi', 'value_struct': None, 'value_type': 'string', 'values': array([{'id': '59387', 'name': 'Xiaomi', 'source': 1.0, 'struct': None}],\n",
       "             dtype=object)}                                                                                                                                                                                                                                                                           ,\n",
       "       {'attribute_group_id': 'OTHERS', 'attribute_group_name': 'Otros', 'id': 'CABLE_LENGTH', 'name': 'Largo del cable', 'source': 4709228965570453.0, 'value_id': '13048060', 'value_name': '0 cm', 'value_struct': {'number': 0.0, 'unit': 'cm'}, 'value_type': 'number_unit', 'values': array([{'id': '13048060', 'name': '0 cm', 'source': 4709228965570453.0, 'struct': {'number': 0.0, 'unit': 'cm'}}],\n",
       "             dtype=object)}                                                                                                                                                                                                                                                                                                                                                                                   ,\n",
       "       {'attribute_group_id': 'OTHERS', 'attribute_group_name': 'Otros', 'id': 'COLOR', 'name': 'Color', 'source': 1.0, 'value_id': '52049', 'value_name': 'Negro', 'value_struct': None, 'value_type': 'string', 'values': array([{'id': '52049', 'name': 'Negro', 'source': 1.0, 'struct': None}],\n",
       "             dtype=object)}                                                                                                                                                                                                                                                                         ,\n",
       "       {'attribute_group_id': 'OTHERS', 'attribute_group_name': 'Otros', 'id': 'DETAILED_MODEL', 'name': 'Modelo detallado', 'source': 4709228965570453.0, 'value_id': '46334757', 'value_name': 'M2420E1', 'value_struct': None, 'value_type': 'string', 'values': array([{'id': '46334757', 'name': 'M2420E1', 'source': 4709228965570453.0, 'struct': None}],\n",
       "             dtype=object)}                                                                                                                                                                                                                                                                                                                                     ,\n",
       "       {'attribute_group_id': 'OTHERS', 'attribute_group_name': 'Otros', 'id': 'GTIN', 'name': 'Código universal de producto', 'source': 6288553339613210.0, 'value_id': None, 'value_name': '190997007127', 'value_struct': None, 'value_type': 'string', 'values': array([{'id': None, 'name': '190997007127', 'source': 6288553339613210.0, 'struct': None}],\n",
       "             dtype=object)}                                                                                                                                                                                                                                                                                                                                     ,\n",
       "       {'attribute_group_id': 'OTHERS', 'attribute_group_name': 'Otros', 'id': 'ITEM_CONDITION', 'name': 'Condición del ítem', 'source': 6288553339613210.0, 'value_id': '2230284', 'value_name': 'Nuevo', 'value_struct': None, 'value_type': 'list', 'values': array([{'id': '2230284', 'name': 'Nuevo', 'source': 6288553339613210.0, 'struct': None}],\n",
       "             dtype=object)}                                                                                                                                                                                                                                                                                                                               ,\n",
       "       {'attribute_group_id': 'OTHERS', 'attribute_group_name': 'Otros', 'id': 'LINE', 'name': 'Línea', 'source': 1.0, 'value_id': '13777381', 'value_name': 'Buds', 'value_struct': None, 'value_type': 'string', 'values': array([{'id': '13777381', 'name': 'Buds', 'source': 1.0, 'struct': None}],\n",
       "             dtype=object)}                                                                                                                                                                                                                                                                            ,\n",
       "       {'attribute_group_id': 'OTHERS', 'attribute_group_name': 'Otros', 'id': 'MAIN_COLOR', 'name': 'Color principal', 'source': 1.0, 'value_id': '2450295', 'value_name': 'Negro', 'value_struct': None, 'value_type': 'list', 'values': array([{'id': '2450295', 'name': 'Negro', 'source': 1.0, 'struct': None}],\n",
       "             dtype=object)}                                                                                                                                                                                                                                                                                          ,\n",
       "       {'attribute_group_id': 'OTHERS', 'attribute_group_name': 'Otros', 'id': 'MODEL', 'name': 'Modelo', 'source': 1.0, 'value_id': '43209774', 'value_name': 'Redmi Buds 6 Play', 'value_struct': None, 'value_type': 'string', 'values': array([{'id': '43209774', 'name': 'Redmi Buds 6 Play', 'source': 1.0, 'struct': None}],\n",
       "             dtype=object)}                                                                                                                                                                                                                                                                                                        ],\n",
       "      dtype=object)"
      ]
     },
     "execution_count": 53,
     "metadata": {},
     "output_type": "execute_result"
    }
   ],
   "source": [
    "df_raw.attributes.iloc[1]"
   ]
  },
  {
   "cell_type": "code",
   "execution_count": 54,
   "metadata": {},
   "outputs": [],
   "source": [
    "features_attribute = ['brand', 'color', 'main_color', 'weight']\n",
    "\n",
    "for feature in features_attribute:\n",
    "    df_raw[f'attributes_{feature}_value'] = df_raw.attributes.apply(lambda x: attribute_extract(x, feature.upper()))"
   ]
  },
  {
   "cell_type": "code",
   "execution_count": 55,
   "metadata": {},
   "outputs": [
    {
     "data": {
      "text/plain": [
       "(220906, 48)"
      ]
     },
     "execution_count": 55,
     "metadata": {},
     "output_type": "execute_result"
    }
   ],
   "source": [
    "df_raw[df_raw.attributes_brand_value.notna()].shape"
   ]
  },
  {
   "cell_type": "markdown",
   "metadata": {},
   "source": [
    "### Atributo: `brand_value` (marca)\n",
    "\n",
    "Como é de se esperar, o Mercado Livre vende produtos de diversas marcas no seu marketplace. Assim, para um modelo de machine learning é válido analisar as categorias (marcas) mais frequentes na amostra e agrupar as demais em uma mesma classe, por exemplo, `<outros>`. Portanto, analisou-se as 10 marcas mais frequentes de produtos que não estavam em promoção, bem como as mais frequentes de produtos que estavam."
   ]
  },
  {
   "cell_type": "code",
   "execution_count": 56,
   "metadata": {},
   "outputs": [],
   "source": [
    "df_raw['attributes_brand_value'] = df_raw['attributes_brand_value'].apply(brand_processing)"
   ]
  },
  {
   "cell_type": "code",
   "execution_count": 57,
   "metadata": {},
   "outputs": [
    {
     "data": {
      "text/plain": [
       "genérica     0.048613\n",
       "samsung      0.013324\n",
       "sony         0.012965\n",
       "xiaomi       0.008895\n",
       "apple        0.008852\n",
       "casio        0.007811\n",
       "nintendo     0.006572\n",
       "toyota       0.006380\n",
       "chevrolet    0.005655\n",
       "canon        0.004571\n",
       "Name: attributes_brand_value, dtype: float64"
      ]
     },
     "execution_count": 57,
     "metadata": {},
     "output_type": "execute_result"
    }
   ],
   "source": [
    "df_raw[df_raw.promotion_flag != 1].attributes_brand_value.value_counts(normalize=True).head(10)"
   ]
  },
  {
   "cell_type": "code",
   "execution_count": 58,
   "metadata": {},
   "outputs": [
    {
     "data": {
      "text/plain": [
       "genérica    0.043098\n",
       "truper      0.010039\n",
       "samsung     0.009316\n",
       "xiaomi      0.008122\n",
       "sony        0.007987\n",
       "total       0.007483\n",
       "casio       0.006306\n",
       "apple       0.005936\n",
       "lenovo      0.005835\n",
       "gadnic      0.004742\n",
       "Name: attributes_brand_value, dtype: float64"
      ]
     },
     "execution_count": 58,
     "metadata": {},
     "output_type": "execute_result"
    }
   ],
   "source": [
    "df_raw[df_raw.promotion_flag == 1].attributes_brand_value.value_counts(normalize=True).head(10)"
   ]
  },
  {
   "cell_type": "markdown",
   "metadata": {},
   "source": [
    "Observe que, embora a ordem não seja a mesma (o que pode ser útil para discriminar), muitas marcas estão presentes em ambas subpopulações de tipo de venda (`sale_price_type`)."
   ]
  },
  {
   "cell_type": "markdown",
   "metadata": {},
   "source": [
    "### Atributo: `color_value` e `main_color_value` (cor)\n",
    "\n",
    "Uma outra hipótese é que a cor do produto pode discriminar e ditar se deve ser uma promoção e seu respectivo desconto, uma vez que produtos menos desejados possam ocupar mais tempo no estoque e, portanto, necessitar de promoções para serem \"queimados\".\n",
    "\n",
    "Ainda, abaixo veremos que, dependendo do região, o nome da cor pode estar em inglês, espanhol ou português. Portanto, decidiu-se padronizar (pelo menos para as cores mais frequentes) para a língua inglesa."
   ]
  },
  {
   "cell_type": "code",
   "execution_count": 59,
   "metadata": {},
   "outputs": [
    {
     "data": {
      "text/plain": [
       "Negro           0.259266\n",
       "Blanco          0.122497\n",
       "Preto           0.054001\n",
       "Gris            0.053282\n",
       "Azul            0.049867\n",
       "Plateado        0.035521\n",
       "Rojo            0.028962\n",
       "Branco          0.023691\n",
       "Verde           0.019183\n",
       "Rosa            0.017027\n",
       "Amarillo        0.015245\n",
       "Naranja         0.012160\n",
       "Transparente    0.009674\n",
       "BLACK           0.008251\n",
       "Black           0.008057\n",
       "Name: attributes_color_value, dtype: float64"
      ]
     },
     "execution_count": 59,
     "metadata": {},
     "output_type": "execute_result"
    }
   ],
   "source": [
    "df_raw.attributes_color_value.value_counts(normalize=True).head(15)"
   ]
  },
  {
   "cell_type": "code",
   "execution_count": 60,
   "metadata": {},
   "outputs": [],
   "source": [
    "df_raw['attributes_color_value'] = df_raw.attributes_color_value.apply(color_name_processing)"
   ]
  },
  {
   "cell_type": "code",
   "execution_count": 61,
   "metadata": {},
   "outputs": [
    {
     "data": {
      "text/plain": [
       "black      0.328791\n",
       "<other>    0.201360\n",
       "white      0.159686\n",
       "gray       0.064814\n",
       "silver     0.050112\n",
       "blue       0.048827\n",
       "red        0.037724\n",
       "green      0.018815\n",
       "yellow     0.017927\n",
       "pink       0.015520\n",
       "Name: attributes_color_value, dtype: float64"
      ]
     },
     "execution_count": 61,
     "metadata": {},
     "output_type": "execute_result"
    }
   ],
   "source": [
    "df_raw[df_raw.promotion_flag != 1].attributes_color_value.value_counts(normalize=True, dropna=True).head(10)"
   ]
  },
  {
   "cell_type": "code",
   "execution_count": 62,
   "metadata": {},
   "outputs": [
    {
     "data": {
      "text/plain": [
       "black      0.332430\n",
       "<other>    0.230567\n",
       "white      0.126912\n",
       "blue       0.054016\n",
       "gray       0.052724\n",
       "silver     0.042846\n",
       "red        0.026424\n",
       "yellow     0.023090\n",
       "green      0.020756\n",
       "pink       0.020548\n",
       "Name: attributes_color_value, dtype: float64"
      ]
     },
     "execution_count": 62,
     "metadata": {},
     "output_type": "execute_result"
    }
   ],
   "source": [
    "df_raw[df_raw.promotion_flag == 1].attributes_color_value.value_counts(normalize=True, dropna=True).head(10)"
   ]
  },
  {
   "cell_type": "code",
   "execution_count": 67,
   "metadata": {},
   "outputs": [
    {
     "data": {
      "text/plain": [
       "198282"
      ]
     },
     "execution_count": 67,
     "metadata": {},
     "output_type": "execute_result"
    }
   ],
   "source": [
    "df_raw[df_raw.attributes_color_value.isna()].shape[0]"
   ]
  },
  {
   "cell_type": "code",
   "execution_count": 63,
   "metadata": {},
   "outputs": [],
   "source": [
    "df_raw['attributes_main_color_value'] = df_raw.attributes_main_color_value.apply(color_name_processing)"
   ]
  },
  {
   "cell_type": "code",
   "execution_count": 65,
   "metadata": {},
   "outputs": [
    {
     "data": {
      "text/plain": [
       "black      0.425411\n",
       "white      0.169028\n",
       "blue       0.073945\n",
       "gray       0.067657\n",
       "<other>    0.065081\n",
       "silver     0.041594\n",
       "red        0.032806\n",
       "green      0.028942\n",
       "pink       0.028411\n",
       "yellow     0.019698\n",
       "Name: attributes_main_color_value, dtype: float64"
      ]
     },
     "execution_count": 65,
     "metadata": {},
     "output_type": "execute_result"
    }
   ],
   "source": [
    "df_raw[df_raw.promotion_flag != 1].attributes_main_color_value.value_counts(normalize=True, dropna=True).head(10)\n"
   ]
  },
  {
   "cell_type": "code",
   "execution_count": 66,
   "metadata": {},
   "outputs": [
    {
     "data": {
      "text/plain": [
       "black      0.416489\n",
       "white      0.150656\n",
       "gray       0.089661\n",
       "blue       0.074413\n",
       "<other>    0.067094\n",
       "silver     0.048084\n",
       "red        0.030192\n",
       "pink       0.026837\n",
       "green      0.026228\n",
       "yellow     0.018400\n",
       "Name: attributes_main_color_value, dtype: float64"
      ]
     },
     "execution_count": 66,
     "metadata": {},
     "output_type": "execute_result"
    }
   ],
   "source": [
    "df_raw[df_raw.promotion_flag == 1].attributes_main_color_value.value_counts(normalize=True, dropna=True).head(10)\n"
   ]
  },
  {
   "cell_type": "code",
   "execution_count": 68,
   "metadata": {},
   "outputs": [
    {
     "data": {
      "text/plain": [
       "242023"
      ]
     },
     "execution_count": 68,
     "metadata": {},
     "output_type": "execute_result"
    }
   ],
   "source": [
    "df_raw[df_raw.attributes_main_color_value.isna()].shape[0]"
   ]
  },
  {
   "cell_type": "markdown",
   "metadata": {},
   "source": [
    "### Atributo: `weight_value` (peso)\n",
    "\n",
    "Notou-se que a variável referente ao peso (`weight_value`) é uma string que acompanha o valor e sua unidade de medida. Então, decidiu-se uniformizá-la para uma única unidade (`g`) e transformá-la em numérica. Assim, primeiramente, analisou-se quais eram as unidades de medidas presente na amostra e, posteriormente, fez o mapping de sua respectiva conversão para grama."
   ]
  },
  {
   "cell_type": "code",
   "execution_count": 66,
   "metadata": {},
   "outputs": [
    {
     "data": {
      "text/plain": [
       "array(['kg', nan, 'g', 'lb', 'oz', 'mg', 't', 'mcg'], dtype=object)"
      ]
     },
     "execution_count": 66,
     "metadata": {},
     "output_type": "execute_result"
    }
   ],
   "source": [
    "pattern = r'([\\d.,]+)\\s*([a-zA-Z]+)'\n",
    "\n",
    "unit_analyses = df_raw['attributes_weight_value'].str.extract(pattern, flags=re.IGNORECASE)\n",
    "unit_analyses.columns = ['valor', 'unidade']\n",
    "unit_analyses.unidade.unique()"
   ]
  },
  {
   "cell_type": "code",
   "execution_count": 68,
   "metadata": {},
   "outputs": [],
   "source": [
    "df_raw['attributes_weight_value'] = df_raw['attributes_weight_value'].apply(weight_processing)"
   ]
  },
  {
   "cell_type": "code",
   "execution_count": 69,
   "metadata": {},
   "outputs": [
    {
     "data": {
      "text/plain": [
       "count    3.004300e+04\n",
       "mean     3.393758e+06\n",
       "std      5.237565e+08\n",
       "min     -3.000000e+04\n",
       "25%      1.500000e+02\n",
       "50%      4.000000e+02\n",
       "75%      1.810000e+03\n",
       "max      9.010011e+10\n",
       "Name: attributes_weight_value, dtype: float64"
      ]
     },
     "execution_count": 69,
     "metadata": {},
     "output_type": "execute_result"
    }
   ],
   "source": [
    "df_raw[df_raw.promotion_flag != 1]['attributes_weight_value'].describe()"
   ]
  },
  {
   "cell_type": "code",
   "execution_count": 70,
   "metadata": {},
   "outputs": [
    {
     "data": {
      "text/plain": [
       "count    1.653200e+04\n",
       "mean     1.402131e+04\n",
       "std      1.803660e+05\n",
       "min     -1.000000e+03\n",
       "25%      1.860000e+02\n",
       "50%      8.700000e+02\n",
       "75%      3.200000e+03\n",
       "max      1.111100e+07\n",
       "Name: attributes_weight_value, dtype: float64"
      ]
     },
     "execution_count": 70,
     "metadata": {},
     "output_type": "execute_result"
    }
   ],
   "source": [
    "df_raw[df_raw.promotion_flag == 1]['attributes_weight_value'].describe()"
   ]
  },
  {
   "cell_type": "code",
   "execution_count": 71,
   "metadata": {},
   "outputs": [
    {
     "data": {
      "text/plain": [
       "count    1.652900e+04\n",
       "mean     1.402397e+04\n",
       "std      1.803823e+05\n",
       "min      0.000000e+00\n",
       "25%      1.860000e+02\n",
       "50%      8.770000e+02\n",
       "75%      3.200000e+03\n",
       "max      1.111100e+07\n",
       "Name: attributes_weight_value, dtype: float64"
      ]
     },
     "execution_count": 71,
     "metadata": {},
     "output_type": "execute_result"
    }
   ],
   "source": [
    "df_raw.loc[df_raw.attributes_weight_value < 0] = np.nan\n",
    "df_raw[df_raw.promotion_flag == 1]['attributes_weight_value'].describe()"
   ]
  },
  {
   "cell_type": "code",
   "execution_count": null,
   "metadata": {},
   "outputs": [
    {
     "data": {
      "image/png": "[encoded data removed]",
      "text/plain": [
       "<Figure size 800x600 with 1 Axes>"
      ]
     },
     "metadata": {},
     "output_type": "display_data"
    }
   ],
   "source": [
    "plt.figure(figsize=(8, 6))\n",
    "\n",
    "sns.boxplot(\n",
    "    x = 'promotion_flag', \n",
    "    y = 'attributes_weight_value', \n",
    "    data = remove_outliers_iqr(df_raw, 'attributes_weight_value')\n",
    ")\n",
    "\n",
    "plt.title('Boxplot de weight_value por promotion_flag')\n",
    "plt.xlabel('Tipo de Preço de Venda')\n",
    "plt.ylabel('Valor do Peso')\n",
    "plt.grid(True, linestyle = '--', linewidth = 0.5, color = 'gray', alpha = 0.5)\n",
    "plt.show()"
   ]
  },
  {
   "cell_type": "code",
   "execution_count": 74,
   "metadata": {},
   "outputs": [],
   "source": [
    "df_raw = df_raw.drop('attributes', axis = 1)"
   ]
  },
  {
   "cell_type": "markdown",
   "metadata": {},
   "source": [
    "## Feature: `shipping` (envio)"
   ]
  },
  {
   "cell_type": "code",
   "execution_count": 75,
   "metadata": {},
   "outputs": [
    {
     "data": {
      "text/plain": [
       "{'benefits': None,\n",
       " 'free_shipping': True,\n",
       " 'logistic_type': 'drop_off',\n",
       " 'mode': 'me2',\n",
       " 'promise': None,\n",
       " 'shipping_score': -1,\n",
       " 'store_pick_up': False,\n",
       " 'tags': array(['self_service_in', 'mandatory_free_shipping'], dtype=object)}"
      ]
     },
     "execution_count": 75,
     "metadata": {},
     "output_type": "execute_result"
    }
   ],
   "source": [
    "df_raw.shipping.iloc[1]"
   ]
  },
  {
   "cell_type": "code",
   "execution_count": 76,
   "metadata": {},
   "outputs": [],
   "source": [
    "df_raw['shipping_benefits'] = df_raw.shipping.replace({np.nan: None}).apply(lambda x: unpack_feature(x, 'benefits'))\n",
    "df_raw['shipping_free_shipping'] = df_raw.shipping.replace({np.nan: None}).apply(lambda x: unpack_feature(x, 'free_shipping'))\n",
    "df_raw['shipping_logistic_type'] = df_raw.shipping.replace({np.nan: None}).apply(lambda x: unpack_feature(x, 'logistic_type'))\n",
    "df_raw['shipping_store_pick_up'] = df_raw.shipping.replace({np.nan: None}).apply(lambda x: unpack_feature(x, 'store_pick_up'))"
   ]
  },
  {
   "cell_type": "code",
   "execution_count": 77,
   "metadata": {},
   "outputs": [
    {
     "name": "stdout",
     "output_type": "stream",
     "text": [
      "\n",
      "        Taxa de preenchimento da shipping_benefits: 0.0\n",
      "    \n",
      "\n",
      "        Taxa de preenchimento da shipping_free_shipping: 0.9999622725506396\n",
      "    \n",
      "\n",
      "        Taxa de preenchimento da shipping_logistic_type: 0.9186973466284865\n",
      "    \n",
      "\n",
      "        Taxa de preenchimento da shipping_store_pick_up: 0.9999622725506396\n",
      "    \n"
     ]
    }
   ],
   "source": [
    "for feature in df_raw.filter(like='shipping_').columns:\n",
    "    print(f'''\n",
    "        Taxa de preenchimento da {feature}: {df_raw[feature].notna().sum() / df_raw.shape[0]}\n",
    "    ''')"
   ]
  },
  {
   "cell_type": "code",
   "execution_count": 78,
   "metadata": {},
   "outputs": [
    {
     "name": "stdout",
     "output_type": "stream",
     "text": [
      "feature: shipping_benefits\n",
      "None    1.0\n",
      "Name: shipping_benefits, dtype: float64\n",
      "\n",
      "feature: shipping_free_shipping\n",
      "False    0.562107\n",
      "True     0.437844\n",
      "None     0.000049\n",
      "Name: shipping_free_shipping, dtype: float64\n",
      "\n",
      "feature: shipping_logistic_type\n",
      "not_specified    0.303360\n",
      "drop_off         0.197518\n",
      "cross_docking    0.137480\n",
      "xd_drop_off      0.134873\n",
      "None             0.105965\n",
      "fulfillment      0.083973\n",
      "custom           0.033541\n",
      "default          0.002228\n",
      "self_service     0.001062\n",
      "Name: shipping_logistic_type, dtype: float64\n",
      "\n",
      "feature: shipping_store_pick_up\n",
      "False    0.999951\n",
      "None     0.000049\n",
      "Name: shipping_store_pick_up, dtype: float64\n",
      "\n"
     ]
    }
   ],
   "source": [
    "for feature in df_raw.filter(like='shipping_').columns:\n",
    "    print(f\"feature: {feature}\")\n",
    "    print(df_raw[df_raw.promotion_flag != 1][feature].value_counts(normalize=True, dropna = False))\n",
    "    print()"
   ]
  },
  {
   "cell_type": "code",
   "execution_count": 79,
   "metadata": {},
   "outputs": [
    {
     "name": "stdout",
     "output_type": "stream",
     "text": [
      "feature: shipping_benefits\n",
      "None    1.0\n",
      "Name: shipping_benefits, dtype: float64\n",
      "\n",
      "feature: shipping_free_shipping\n",
      "True     0.590809\n",
      "False    0.409191\n",
      "Name: shipping_free_shipping, dtype: float64\n",
      "\n",
      "feature: shipping_logistic_type\n",
      "fulfillment      0.338688\n",
      "cross_docking    0.262598\n",
      "drop_off         0.228593\n",
      "xd_drop_off      0.110273\n",
      "not_specified    0.039834\n",
      "default          0.013391\n",
      "self_service     0.003643\n",
      "custom           0.002866\n",
      "None             0.000113\n",
      "Name: shipping_logistic_type, dtype: float64\n",
      "\n",
      "feature: shipping_store_pick_up\n",
      "False    1.0\n",
      "Name: shipping_store_pick_up, dtype: float64\n",
      "\n"
     ]
    }
   ],
   "source": [
    "for feature in df_raw.filter(like='shipping_').columns:\n",
    "    print(f\"feature: {feature}\")\n",
    "    print(df_raw[df_raw.promotion_flag == 1][feature].value_counts(normalize=True, dropna = False))\n",
    "    print()"
   ]
  },
  {
   "cell_type": "code",
   "execution_count": 80,
   "metadata": {},
   "outputs": [],
   "source": [
    "df_raw = df_raw.drop(['shipping', 'shipping_benefits', 'shipping_store_pick_up'], axis=1)"
   ]
  },
  {
   "cell_type": "markdown",
   "metadata": {},
   "source": [
    "## Feature: `address` (endereço)"
   ]
  },
  {
   "cell_type": "code",
   "execution_count": 81,
   "metadata": {},
   "outputs": [
    {
     "data": {
      "text/plain": [
       "{'city_id': 'RUMtUUNhcmNlbMOpbg',\n",
       " 'city_name': 'Carcelén',\n",
       " 'state_id': 'EC-Q',\n",
       " 'state_name': 'Quito'}"
      ]
     },
     "execution_count": 81,
     "metadata": {},
     "output_type": "execute_result"
    }
   ],
   "source": [
    "df_raw.address.iloc[1]"
   ]
  },
  {
   "cell_type": "code",
   "execution_count": 82,
   "metadata": {},
   "outputs": [],
   "source": [
    "df_raw['address_city_name'] = df_raw.address.replace({np.nan: None}).apply(lambda x: unpack_feature(x, 'city_name'))\n",
    "df_raw['address_state_name'] = df_raw.address.replace({np.nan: None}).apply(lambda x: unpack_feature(x, 'state_name'))"
   ]
  },
  {
   "cell_type": "code",
   "execution_count": 83,
   "metadata": {},
   "outputs": [],
   "source": [
    "df_raw['address_city_name'] = df_raw['address_city_name'].apply(\n",
    "    lambda x: unidecode(x).lower() if x is not None else x\n",
    ")\n",
    "\n",
    "\n",
    "df_raw['address_state_name'] = df_raw['address_state_name'].apply(\n",
    "    lambda x: unidecode(x).lower() if x is not None else x\n",
    ")"
   ]
  },
  {
   "cell_type": "code",
   "execution_count": 84,
   "metadata": {},
   "outputs": [
    {
     "name": "stdout",
     "output_type": "stream",
     "text": [
      "feature: address_city_name\n",
      "tepotzotlan               0.055897\n",
      "sao paulo                 0.040239\n",
      "lima                      0.028807\n",
      "centro                    0.025957\n",
      "santiago de surco         0.017164\n",
      "cuauhtemoc                0.017002\n",
      "san juan de lurigancho    0.011853\n",
      "cordon                    0.011837\n",
      "tarqui                    0.011222\n",
      "chorrillos                0.011076\n",
      "martires                  0.010541\n",
      "naucalpan                 0.010023\n",
      "medellin                  0.009538\n",
      "la victoria               0.009278\n",
      "aguada                    0.009084\n",
      "Name: address_city_name, dtype: float64\n",
      "\n",
      "feature: address_state_name\n",
      "lima metropolitana    0.160567\n",
      "sao paulo             0.112669\n",
      "montevideo            0.108799\n",
      "estado de mexico      0.102678\n",
      "capital federal       0.101140\n",
      "buenos aires          0.064998\n",
      "bogota d.c.           0.063119\n",
      "distrito federal      0.051234\n",
      "distrito capital      0.019010\n",
      "cundinamarca          0.015302\n",
      "antioquia             0.014347\n",
      "quito                 0.014072\n",
      "minas gerais          0.012128\n",
      "jalisco               0.011934\n",
      "guayaquil             0.011416\n",
      "Name: address_state_name, dtype: float64\n",
      "\n"
     ]
    }
   ],
   "source": [
    "for feature in df_raw.filter(like='address_').columns:\n",
    "    print(f\"feature: {feature}\")\n",
    "    print(df_raw[df_raw.promotion_flag == 1][feature].value_counts(normalize=True, dropna = False).head(15))\n",
    "    print()"
   ]
  },
  {
   "cell_type": "code",
   "execution_count": 85,
   "metadata": {},
   "outputs": [
    {
     "name": "stdout",
     "output_type": "stream",
     "text": [
      "feature: address_city_name\n",
      "tepotzotlan          0.055897\n",
      "sao paulo            0.040239\n",
      "lima                 0.028807\n",
      "centro               0.025957\n",
      "santiago de surco    0.017164\n",
      "Name: address_city_name, dtype: float64\n",
      "\n",
      "feature: address_state_name\n",
      "lima metropolitana    0.160567\n",
      "sao paulo             0.112669\n",
      "montevideo            0.108799\n",
      "estado de mexico      0.102678\n",
      "capital federal       0.101140\n",
      "Name: address_state_name, dtype: float64\n",
      "\n"
     ]
    }
   ],
   "source": [
    "for feature in df_raw.filter(like='address_').columns:\n",
    "    print(f\"feature: {feature}\")\n",
    "    print(df_raw[df_raw.promotion_flag == 1][feature].value_counts(normalize=True, dropna = False).head())\n",
    "    print()"
   ]
  },
  {
   "cell_type": "code",
   "execution_count": 86,
   "metadata": {},
   "outputs": [],
   "source": [
    "df_raw = df_raw.drop('address', axis = 1)"
   ]
  },
  {
   "cell_type": "markdown",
   "metadata": {},
   "source": [
    "## Feature: `location`  (localização)"
   ]
  },
  {
   "cell_type": "code",
   "execution_count": 87,
   "metadata": {},
   "outputs": [
    {
     "data": {
      "text/plain": [
       "10119     {'address_line': 'Av. Occidental N46-09, Quito...\n",
       "10120     {'address_line': 'Pasaje Joaquín Lalama, Quito...\n",
       "10121     {'address_line': 'PGH3+8X Quito, Ecuador', 'ci...\n",
       "10122     {'address_line': 'Rcto La Victoria alta 31 y 3...\n",
       "10123     {'address_line': 'Manuel Cabeza de Vaca 516, Q...\n",
       "                                ...                        \n",
       "264562    {'address_line': 'Sin salida 144', 'city': {'i...\n",
       "264563    {'address_line': '1 32', 'city': {'id': 'TVBBQ...\n",
       "264564    {'address_line': 'Calle Bugabita SN', 'city': ...\n",
       "264565    {'address_line': 'Subida delta Hosanna la cres...\n",
       "264566    {'address_line': '1 SN', 'city': {'id': 'TVBBQ...\n",
       "Name: location, Length: 22907, dtype: object"
      ]
     },
     "execution_count": 87,
     "metadata": {},
     "output_type": "execute_result"
    }
   ],
   "source": [
    "df_raw[df_raw.location.notna()].location"
   ]
  },
  {
   "cell_type": "code",
   "execution_count": 88,
   "metadata": {},
   "outputs": [
    {
     "data": {
      "text/plain": [
       "{'address_line': '',\n",
       " 'city': {'id': 'TUxVQ01PTjc2Nzc', 'name': 'Montevideo'},\n",
       " 'country': {'id': 'UY', 'name': 'Uruguay'},\n",
       " 'latitude': -34.9055016,\n",
       " 'longitude': -56.1851147,\n",
       " 'neighborhood': {'id': None, 'name': None},\n",
       " 'state': {'id': 'TUxVUE1PTlo2MDIy', 'name': 'Montevideo'},\n",
       " 'subneighborhood': None,\n",
       " 'zip_code': ''}"
      ]
     },
     "execution_count": 88,
     "metadata": {},
     "output_type": "execute_result"
    }
   ],
   "source": [
    "df_raw[df_raw.location.notna()].location.iloc[10119]"
   ]
  },
  {
   "cell_type": "code",
   "execution_count": 122,
   "metadata": {},
   "outputs": [
    {
     "data": {
      "text/html": [
       "<div>\n",
       "<style scoped>\n",
       "    .dataframe tbody tr th:only-of-type {\n",
       "        vertical-align: middle;\n",
       "    }\n",
       "\n",
       "    .dataframe tbody tr th {\n",
       "        vertical-align: top;\n",
       "    }\n",
       "\n",
       "    .dataframe thead th {\n",
       "        text-align: right;\n",
       "    }\n",
       "</style>\n",
       "<table border=\"1\" class=\"dataframe\">\n",
       "  <thead>\n",
       "    <tr style=\"text-align: right;\">\n",
       "      <th></th>\n",
       "      <th>location_city</th>\n",
       "      <th>location_city_id</th>\n",
       "      <th>location_city_name</th>\n",
       "      <th>address_city_name</th>\n",
       "    </tr>\n",
       "  </thead>\n",
       "  <tbody>\n",
       "    <tr>\n",
       "      <th>10119</th>\n",
       "      <td>{'id': 'TUVDQ1FVSTIxOGZi', 'name': 'Quito'}</td>\n",
       "      <td>TUVDQ1FVSTIxOGZi</td>\n",
       "      <td>Quito</td>\n",
       "      <td>quito</td>\n",
       "    </tr>\n",
       "    <tr>\n",
       "      <th>10120</th>\n",
       "      <td>{'id': 'TUVDQ1FVSTIxOGZi', 'name': 'Quito'}</td>\n",
       "      <td>TUVDQ1FVSTIxOGZi</td>\n",
       "      <td>Quito</td>\n",
       "      <td>quito</td>\n",
       "    </tr>\n",
       "    <tr>\n",
       "      <th>10121</th>\n",
       "      <td>{'id': 'TUVDQ1FVSTIxOGZi', 'name': 'Quito'}</td>\n",
       "      <td>TUVDQ1FVSTIxOGZi</td>\n",
       "      <td>Quito</td>\n",
       "      <td>quito</td>\n",
       "    </tr>\n",
       "    <tr>\n",
       "      <th>10122</th>\n",
       "      <td>{'id': 'TUVDQ0NVTWU2MmEx', 'name': 'Cumandá'}</td>\n",
       "      <td>TUVDQ0NVTWU2MmEx</td>\n",
       "      <td>Cumandá</td>\n",
       "      <td>cumanda</td>\n",
       "    </tr>\n",
       "    <tr>\n",
       "      <th>10123</th>\n",
       "      <td>{'id': 'TUVDQ1FVSTIxOGZi', 'name': 'Quito'}</td>\n",
       "      <td>TUVDQ1FVSTIxOGZi</td>\n",
       "      <td>Quito</td>\n",
       "      <td>quito</td>\n",
       "    </tr>\n",
       "    <tr>\n",
       "      <th>...</th>\n",
       "      <td>...</td>\n",
       "      <td>...</td>\n",
       "      <td>...</td>\n",
       "      <td>...</td>\n",
       "    </tr>\n",
       "    <tr>\n",
       "      <th>264562</th>\n",
       "      <td>{'id': 'TVBBQ01QQVNBTlRJQQ', 'name': 'Santiago'}</td>\n",
       "      <td>TVBBQ01QQVNBTlRJQQ</td>\n",
       "      <td>Santiago</td>\n",
       "      <td>santiago</td>\n",
       "    </tr>\n",
       "    <tr>\n",
       "      <th>264563</th>\n",
       "      <td>{'id': 'TVBBQ01QQVNBTlRJQQ', 'name': 'Santiago'}</td>\n",
       "      <td>TVBBQ01QQVNBTlRJQQ</td>\n",
       "      <td>Santiago</td>\n",
       "      <td>santiago</td>\n",
       "    </tr>\n",
       "    <tr>\n",
       "      <th>264564</th>\n",
       "      <td>{'id': 'TVBBQ01QQUJVR0FCQQ', 'name': 'Bugaba'}</td>\n",
       "      <td>TVBBQ01QQUJVR0FCQQ</td>\n",
       "      <td>Bugaba</td>\n",
       "      <td>bugaba</td>\n",
       "    </tr>\n",
       "    <tr>\n",
       "      <th>264565</th>\n",
       "      <td>{'id': 'TVBBQ01QQVBBTkFNwQ', 'name': 'Panamá'}</td>\n",
       "      <td>TVBBQ01QQVBBTkFNwQ</td>\n",
       "      <td>Panamá</td>\n",
       "      <td>panama</td>\n",
       "    </tr>\n",
       "    <tr>\n",
       "      <th>264566</th>\n",
       "      <td>{'id': 'TVBBQ01QQVBFTk9OTw', 'name': 'Penonomé'}</td>\n",
       "      <td>TVBBQ01QQVBFTk9OTw</td>\n",
       "      <td>Penonomé</td>\n",
       "      <td>penonome</td>\n",
       "    </tr>\n",
       "  </tbody>\n",
       "</table>\n",
       "<p>22907 rows × 4 columns</p>\n",
       "</div>"
      ],
      "text/plain": [
       "                                           location_city    location_city_id  \\\n",
       "10119        {'id': 'TUVDQ1FVSTIxOGZi', 'name': 'Quito'}    TUVDQ1FVSTIxOGZi   \n",
       "10120        {'id': 'TUVDQ1FVSTIxOGZi', 'name': 'Quito'}    TUVDQ1FVSTIxOGZi   \n",
       "10121        {'id': 'TUVDQ1FVSTIxOGZi', 'name': 'Quito'}    TUVDQ1FVSTIxOGZi   \n",
       "10122      {'id': 'TUVDQ0NVTWU2MmEx', 'name': 'Cumandá'}    TUVDQ0NVTWU2MmEx   \n",
       "10123        {'id': 'TUVDQ1FVSTIxOGZi', 'name': 'Quito'}    TUVDQ1FVSTIxOGZi   \n",
       "...                                                  ...                 ...   \n",
       "264562  {'id': 'TVBBQ01QQVNBTlRJQQ', 'name': 'Santiago'}  TVBBQ01QQVNBTlRJQQ   \n",
       "264563  {'id': 'TVBBQ01QQVNBTlRJQQ', 'name': 'Santiago'}  TVBBQ01QQVNBTlRJQQ   \n",
       "264564    {'id': 'TVBBQ01QQUJVR0FCQQ', 'name': 'Bugaba'}  TVBBQ01QQUJVR0FCQQ   \n",
       "264565    {'id': 'TVBBQ01QQVBBTkFNwQ', 'name': 'Panamá'}  TVBBQ01QQVBBTkFNwQ   \n",
       "264566  {'id': 'TVBBQ01QQVBFTk9OTw', 'name': 'Penonomé'}  TVBBQ01QQVBFTk9OTw   \n",
       "\n",
       "       location_city_name address_city_name  \n",
       "10119               Quito             quito  \n",
       "10120               Quito             quito  \n",
       "10121               Quito             quito  \n",
       "10122             Cumandá           cumanda  \n",
       "10123               Quito             quito  \n",
       "...                   ...               ...  \n",
       "264562           Santiago          santiago  \n",
       "264563           Santiago          santiago  \n",
       "264564             Bugaba            bugaba  \n",
       "264565             Panamá            panama  \n",
       "264566           Penonomé          penonome  \n",
       "\n",
       "[22907 rows x 4 columns]"
      ]
     },
     "execution_count": 122,
     "metadata": {},
     "output_type": "execute_result"
    }
   ],
   "source": [
    "df_raw['location_city'] = df_raw.location.replace({np.nan: None}).apply(lambda x: unpack_feature(x, 'city'))\n",
    "df_raw['location_city_id'] = df_raw.location_city.replace({np.nan: None}).apply(lambda x: unpack_feature(x, 'id'))\n",
    "df_raw['location_city_name'] = df_raw.location_city.replace({np.nan: None}).apply(lambda x: unpack_feature(x, 'name'))\n",
    "\n",
    "df_raw[df_raw.location.notna()][['location_city', 'location_city_id', 'location_city_name', 'address_city_name']]"
   ]
  },
  {
   "cell_type": "code",
   "execution_count": 125,
   "metadata": {},
   "outputs": [
    {
     "name": "stdout",
     "output_type": "stream",
     "text": [
      "Quantidade de missing na feature `location_city_name`: 242152\n",
      "Quantidade de missing na feature `address_city_name`: 6209\n"
     ]
    }
   ],
   "source": [
    "print(f\"Quantidade de missing na feature `location_city_name`: {df_raw[df_raw.location_city_name.isna()].shape[0]}\")\n",
    "print(f\"Quantidade de missing na feature `address_city_name`: {df_raw[df_raw.address_city_name.isna()].shape[0]}\")"
   ]
  },
  {
   "cell_type": "code",
   "execution_count": 127,
   "metadata": {},
   "outputs": [
    {
     "data": {
      "text/html": [
       "<div>\n",
       "<style scoped>\n",
       "    .dataframe tbody tr th:only-of-type {\n",
       "        vertical-align: middle;\n",
       "    }\n",
       "\n",
       "    .dataframe tbody tr th {\n",
       "        vertical-align: top;\n",
       "    }\n",
       "\n",
       "    .dataframe thead th {\n",
       "        text-align: right;\n",
       "    }\n",
       "</style>\n",
       "<table border=\"1\" class=\"dataframe\">\n",
       "  <thead>\n",
       "    <tr style=\"text-align: right;\">\n",
       "      <th></th>\n",
       "      <th>location_state_name</th>\n",
       "      <th>address_state_name</th>\n",
       "    </tr>\n",
       "  </thead>\n",
       "  <tbody>\n",
       "    <tr>\n",
       "      <th>10119</th>\n",
       "      <td>Pichincha ( Quito )</td>\n",
       "      <td>pichincha ( quito )</td>\n",
       "    </tr>\n",
       "    <tr>\n",
       "      <th>10120</th>\n",
       "      <td>Pichincha ( Quito )</td>\n",
       "      <td>pichincha ( quito )</td>\n",
       "    </tr>\n",
       "    <tr>\n",
       "      <th>10121</th>\n",
       "      <td>Pichincha ( Quito )</td>\n",
       "      <td>pichincha ( quito )</td>\n",
       "    </tr>\n",
       "    <tr>\n",
       "      <th>10122</th>\n",
       "      <td>Chimborazo</td>\n",
       "      <td>chimborazo</td>\n",
       "    </tr>\n",
       "    <tr>\n",
       "      <th>10123</th>\n",
       "      <td>Pichincha ( Quito )</td>\n",
       "      <td>pichincha ( quito )</td>\n",
       "    </tr>\n",
       "  </tbody>\n",
       "</table>\n",
       "</div>"
      ],
      "text/plain": [
       "       location_state_name   address_state_name\n",
       "10119  Pichincha ( Quito )  pichincha ( quito )\n",
       "10120  Pichincha ( Quito )  pichincha ( quito )\n",
       "10121  Pichincha ( Quito )  pichincha ( quito )\n",
       "10122           Chimborazo           chimborazo\n",
       "10123  Pichincha ( Quito )  pichincha ( quito )"
      ]
     },
     "execution_count": 127,
     "metadata": {},
     "output_type": "execute_result"
    }
   ],
   "source": [
    "df_raw['location_state'] = df_raw.location.replace({np.nan: None}).apply(lambda x: unpack_feature(x, 'state'))\n",
    "df_raw['location_state_name'] = df_raw.location_state.replace({np.nan: None}).apply(lambda x: unpack_feature(x, 'name'))\n",
    "\n",
    "df_raw[df_raw.location.notna()][['location_state_name', 'address_state_name']].head()"
   ]
  },
  {
   "cell_type": "code",
   "execution_count": 128,
   "metadata": {},
   "outputs": [
    {
     "name": "stdout",
     "output_type": "stream",
     "text": [
      "Quantidade de missing na feature `location_state_name`: 242152\n",
      "Quantidade de missing na feature `address_state_name`: 6209\n"
     ]
    }
   ],
   "source": [
    "print(f\"Quantidade de missing na feature `location_state_name`: {df_raw[df_raw.location_state_name.isna()].shape[0]}\")\n",
    "print(f\"Quantidade de missing na feature `address_state_name`: {df_raw[df_raw.address_state_name.isna()].shape[0]}\")"
   ]
  },
  {
   "cell_type": "markdown",
   "metadata": {},
   "source": [
    "A feature `location` contém informações que já extraímos da feature `address` (como cidade e estado) e se aplica somente a items classificados. Ainda, informações como rua/bairro é muito granular, podendo dificultar o poder de generalização dos modelos e, portanto, não foi considerada."
   ]
  },
  {
   "cell_type": "code",
   "execution_count": 89,
   "metadata": {},
   "outputs": [],
   "source": [
    "df_raw = df_raw.drop('location', axis = 1)"
   ]
  },
  {
   "cell_type": "markdown",
   "metadata": {},
   "source": [
    "## Feature: `seller` (vendedor(a))"
   ]
  },
  {
   "cell_type": "markdown",
   "metadata": {},
   "source": [
    "Como a feature `seller` traz informações sobre o(a) vendedor(a), decidiu-se por não enriquecer no modelo, uma vez que pode trazer viés de estabelecimento."
   ]
  },
  {
   "cell_type": "code",
   "execution_count": 129,
   "metadata": {},
   "outputs": [
    {
     "data": {
      "text/plain": [
       "0               {'id': 63228264, 'nickname': 'MEGACELLCOM'}\n",
       "1                {'id': 173825591, 'nickname': 'MAS_STORE'}\n",
       "2                {'id': 200533006, 'nickname': 'GAMING.EC'}\n",
       "3                {'id': 200533006, 'nickname': 'GAMING.EC'}\n",
       "4                {'id': 200533006, 'nickname': 'GAMING.EC'}\n",
       "                                ...                        \n",
       "265054         {'id': 715488763, 'nickname': 'BANA3491054'}\n",
       "265055         {'id': 715488763, 'nickname': 'BANA3491054'}\n",
       "265056         {'id': 715488763, 'nickname': 'BANA3491054'}\n",
       "265057    {'id': 809306702, 'nickname': 'ROSIBELDEESPINO...\n",
       "265058         {'id': 599723638, 'nickname': 'AVVA4169656'}\n",
       "Name: seller, Length: 265047, dtype: object"
      ]
     },
     "execution_count": 129,
     "metadata": {},
     "output_type": "execute_result"
    }
   ],
   "source": [
    "df_raw[df_raw.seller.notna()].seller"
   ]
  },
  {
   "cell_type": "code",
   "execution_count": 131,
   "metadata": {},
   "outputs": [],
   "source": [
    "df_raw = df_raw.drop('seller', axis = 1)"
   ]
  },
  {
   "cell_type": "markdown",
   "metadata": {},
   "source": [
    "## Feature: `installments` (prestação)"
   ]
  },
  {
   "cell_type": "markdown",
   "metadata": {},
   "source": [
    "Abaixo, observa-se que o número de prestações permitidas de um produto não apresenta uma distribuição diferente entre os produtos promocionais e não promocionais. Ainda, há alguns outliers, correspondente a 36 parcelas máximas, aparentemente se referem algum ingresso de evento festivo.\n",
    "\n",
    "Por sua vez, as outras duas features extraídas (`additional_bank_interest` e `meliplus_installments`) apresentam distribuições bem diferentes entre as duas categorias da target, no entanto, assumem apenas valores nulos ou 'False'. Devido a essa incerteza, não serão consideradas no desenvolvimento dos modelos."
   ]
  },
  {
   "cell_type": "code",
   "execution_count": 132,
   "metadata": {},
   "outputs": [
    {
     "data": {
      "text/plain": [
       "34633     {'amount': 6266.81, 'currency_id': 'ARS', 'met...\n",
       "34634     {'amount': 12756.02, 'currency_id': 'ARS', 'me...\n",
       "34635     {'amount': 2694.95, 'currency_id': 'ARS', 'met...\n",
       "34636     {'amount': 6796.94, 'currency_id': 'ARS', 'met...\n",
       "34637     {'amount': 16102.28, 'currency_id': 'ARS', 'me...\n",
       "                                ...                        \n",
       "232829    {'amount': 8.76, 'currency_id': 'MXN', 'metada...\n",
       "232830    {'amount': 57.41, 'currency_id': 'MXN', 'metad...\n",
       "232831    {'amount': 83.0, 'currency_id': 'MXN', 'metada...\n",
       "232832    {'amount': 15.28, 'currency_id': 'MXN', 'metad...\n",
       "232833    {'amount': 49.0, 'currency_id': 'MXN', 'metada...\n",
       "Name: installments, Length: 118407, dtype: object"
      ]
     },
     "execution_count": 132,
     "metadata": {},
     "output_type": "execute_result"
    }
   ],
   "source": [
    "df_raw[df_raw.installments.notna()].installments"
   ]
  },
  {
   "cell_type": "code",
   "execution_count": 133,
   "metadata": {},
   "outputs": [
    {
     "data": {
      "text/plain": [
       "{'amount': 6400.0,\n",
       " 'currency_id': 'COP',\n",
       " 'metadata': {'additional_bank_interest': False,\n",
       "  'meliplus_installments': False},\n",
       " 'quantity': 12.0,\n",
       " 'rate': 0.0}"
      ]
     },
     "execution_count": 133,
     "metadata": {},
     "output_type": "execute_result"
    }
   ],
   "source": [
    "df_raw[df_raw.installments.notna()].installments.iloc[34633]"
   ]
  },
  {
   "cell_type": "code",
   "execution_count": 138,
   "metadata": {},
   "outputs": [],
   "source": [
    "df_raw['installments_metadata'] = df_raw.installments.replace({np.nan: None}).apply(lambda x: unpack_feature(x, 'metadata'))\n",
    "df_raw['installments_quantity'] = df_raw.installments.replace({np.nan: None}).apply(lambda x: unpack_feature(x, 'quantity'))"
   ]
  },
  {
   "cell_type": "code",
   "execution_count": 139,
   "metadata": {},
   "outputs": [],
   "source": [
    "df_raw['installments_metadata_additional_bank_interest'] = df_raw.installments_metadata.replace({np.nan: None}).apply(lambda x: unpack_feature(x, 'additional_bank_interest'))\n",
    "df_raw['installments_metadata_meliplus_installments'] = df_raw.installments_metadata.replace({np.nan: None}).apply(lambda x: unpack_feature(x, 'meliplus_installments'))"
   ]
  },
  {
   "cell_type": "code",
   "execution_count": 142,
   "metadata": {},
   "outputs": [
    {
     "data": {
      "text/html": [
       "<div>\n",
       "<style scoped>\n",
       "    .dataframe tbody tr th:only-of-type {\n",
       "        vertical-align: middle;\n",
       "    }\n",
       "\n",
       "    .dataframe tbody tr th {\n",
       "        vertical-align: top;\n",
       "    }\n",
       "\n",
       "    .dataframe thead th {\n",
       "        text-align: right;\n",
       "    }\n",
       "</style>\n",
       "<table border=\"1\" class=\"dataframe\">\n",
       "  <thead>\n",
       "    <tr style=\"text-align: right;\">\n",
       "      <th></th>\n",
       "      <th>count</th>\n",
       "      <th>mean</th>\n",
       "      <th>std</th>\n",
       "      <th>min</th>\n",
       "      <th>0%</th>\n",
       "      <th>10%</th>\n",
       "      <th>20%</th>\n",
       "      <th>30%</th>\n",
       "      <th>40%</th>\n",
       "      <th>50%</th>\n",
       "      <th>60%</th>\n",
       "      <th>70%</th>\n",
       "      <th>80%</th>\n",
       "      <th>90%</th>\n",
       "      <th>100%</th>\n",
       "      <th>max</th>\n",
       "    </tr>\n",
       "    <tr>\n",
       "      <th>promotion_flag</th>\n",
       "      <th></th>\n",
       "      <th></th>\n",
       "      <th></th>\n",
       "      <th></th>\n",
       "      <th></th>\n",
       "      <th></th>\n",
       "      <th></th>\n",
       "      <th></th>\n",
       "      <th></th>\n",
       "      <th></th>\n",
       "      <th></th>\n",
       "      <th></th>\n",
       "      <th></th>\n",
       "      <th></th>\n",
       "      <th></th>\n",
       "      <th></th>\n",
       "    </tr>\n",
       "  </thead>\n",
       "  <tbody>\n",
       "    <tr>\n",
       "      <th>0.0</th>\n",
       "      <td>72290.0</td>\n",
       "      <td>10.145940</td>\n",
       "      <td>6.256065</td>\n",
       "      <td>1.0</td>\n",
       "      <td>1.0</td>\n",
       "      <td>3.0</td>\n",
       "      <td>3.0</td>\n",
       "      <td>6.0</td>\n",
       "      <td>6.0</td>\n",
       "      <td>12.0</td>\n",
       "      <td>12.0</td>\n",
       "      <td>12.0</td>\n",
       "      <td>12.0</td>\n",
       "      <td>24.0</td>\n",
       "      <td>36.0</td>\n",
       "      <td>36.0</td>\n",
       "    </tr>\n",
       "    <tr>\n",
       "      <th>1.0</th>\n",
       "      <td>46117.0</td>\n",
       "      <td>10.751393</td>\n",
       "      <td>6.714560</td>\n",
       "      <td>1.0</td>\n",
       "      <td>1.0</td>\n",
       "      <td>3.0</td>\n",
       "      <td>5.0</td>\n",
       "      <td>6.0</td>\n",
       "      <td>6.0</td>\n",
       "      <td>12.0</td>\n",
       "      <td>12.0</td>\n",
       "      <td>12.0</td>\n",
       "      <td>12.0</td>\n",
       "      <td>24.0</td>\n",
       "      <td>24.0</td>\n",
       "      <td>24.0</td>\n",
       "    </tr>\n",
       "  </tbody>\n",
       "</table>\n",
       "</div>"
      ],
      "text/plain": [
       "                  count       mean       std  min   0%  10%  20%  30%  40%  \\\n",
       "promotion_flag                                                               \n",
       "0.0             72290.0  10.145940  6.256065  1.0  1.0  3.0  3.0  6.0  6.0   \n",
       "1.0             46117.0  10.751393  6.714560  1.0  1.0  3.0  5.0  6.0  6.0   \n",
       "\n",
       "                 50%   60%   70%   80%   90%  100%   max  \n",
       "promotion_flag                                            \n",
       "0.0             12.0  12.0  12.0  12.0  24.0  36.0  36.0  \n",
       "1.0             12.0  12.0  12.0  12.0  24.0  24.0  24.0  "
      ]
     },
     "execution_count": 142,
     "metadata": {},
     "output_type": "execute_result"
    }
   ],
   "source": [
    "df_raw.groupby('promotion_flag')['installments_quantity'].describe(percentiles=[i/100 for i in range(0, 110, 10)])"
   ]
  },
  {
   "cell_type": "code",
   "execution_count": 147,
   "metadata": {},
   "outputs": [
    {
     "data": {
      "image/png": "[encoded data removed]",
      "text/plain": [
       "<Figure size 500x500 with 1 Axes>"
      ]
     },
     "metadata": {},
     "output_type": "display_data"
    }
   ],
   "source": [
    "plt.figure(figsize=(5, 5))\n",
    "\n",
    "sns.boxplot(x = 'promotion_flag', y = 'installments_quantity', data = df_raw)\n",
    "plt.title('Boxplot do número de parcelas por flag de promoção')\n",
    "plt.xlabel('Promoção')\n",
    "plt.ylabel('Número de parcelas permitidas')\n",
    "plt.grid(True, which = 'both', linestyle = '--', linewidth = 0.5, color = 'gray', alpha = 0.5)\n",
    "\n",
    "plt.show()"
   ]
  },
  {
   "cell_type": "code",
   "execution_count": 152,
   "metadata": {},
   "outputs": [
    {
     "data": {
      "text/plain": [
       "71107    Vendo Colección De Boletos Conciertos  Shakira...\n",
       "71110    Boletas Concierto Ferxxo Calipsis Tour 2024 Me...\n",
       "71112    Boleta Concierto Feid 6 Diciembre Medellín Ori...\n",
       "71113                      Boleta Shakira Barranquilla Vip\n",
       "71114    Entradas Aventura Cali 21/dic/2024 Acceso Gene...\n",
       "71115                              Boleta Concierto Fercho\n",
       "Name: title, dtype: object"
      ]
     },
     "execution_count": 152,
     "metadata": {},
     "output_type": "execute_result"
    }
   ],
   "source": [
    "df_raw[df_raw['installments_quantity'] == df_raw['installments_quantity'].max()].title"
   ]
  },
  {
   "cell_type": "code",
   "execution_count": 145,
   "metadata": {},
   "outputs": [
    {
     "data": {
      "text/plain": [
       "promotion_flag  installments_metadata_additional_bank_interest\n",
       "0.0             NaN                                               0.718884\n",
       "                False                                             0.281087\n",
       "                True                                              0.000030\n",
       "1.0             False                                             0.589967\n",
       "                NaN                                               0.410033\n",
       "Name: installments_metadata_additional_bank_interest, dtype: float64"
      ]
     },
     "execution_count": 145,
     "metadata": {},
     "output_type": "execute_result"
    }
   ],
   "source": [
    "(\n",
    "    df_raw\n",
    "    .groupby('promotion_flag')['installments_metadata_additional_bank_interest']\n",
    "    .value_counts(normalize=True, dropna=False)\n",
    ")"
   ]
  },
  {
   "cell_type": "code",
   "execution_count": 146,
   "metadata": {},
   "outputs": [
    {
     "data": {
      "text/plain": [
       "promotion_flag  installments_metadata_meliplus_installments\n",
       "0.0             NaN                                            0.718884\n",
       "                False                                          0.281116\n",
       "1.0             False                                          0.589967\n",
       "                NaN                                            0.410033\n",
       "Name: installments_metadata_meliplus_installments, dtype: float64"
      ]
     },
     "execution_count": 146,
     "metadata": {},
     "output_type": "execute_result"
    }
   ],
   "source": [
    "(\n",
    "    df_raw\n",
    "    .groupby('promotion_flag')['installments_metadata_meliplus_installments']\n",
    "    .value_counts(normalize=True, dropna=False)\n",
    ")"
   ]
  },
  {
   "cell_type": "code",
   "execution_count": null,
   "metadata": {},
   "outputs": [],
   "source": []
  }
 ],
 "metadata": {
  "kernelspec": {
   "display_name": "CASE_ENV",
   "language": "python",
   "name": "python3"
  },
  "language_info": {
   "codemirror_mode": {
    "name": "ipython",
    "version": 3
   },
   "file_extension": ".py",
   "mimetype": "text/x-python",
   "name": "python",
   "nbconvert_exporter": "python",
   "pygments_lexer": "ipython3",
   "version": "3.8.5"
  }
 },
 "nbformat": 4,
 "nbformat_minor": 2
}
