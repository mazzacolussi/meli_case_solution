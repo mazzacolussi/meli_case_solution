{
 "cells": [
  {
   "cell_type": "code",
   "execution_count": 25,
   "metadata": {},
   "outputs": [],
   "source": [
    "import os\n",
    "import pandas as pd\n",
    "import numpy as np\n",
    "import yaml\n",
    "\n",
    "import seaborn as sns\n",
    "import matplotlib.pyplot as plt\n",
    "\n",
    "import re\n",
    "\n",
    "from utils.training_utils import get_features_attribute\n",
    "\n",
    "import warnings\n",
    "warnings.filterwarnings('ignore')\n",
    "\n",
    "\n",
    "pd.set_option('display.max_rows', 50)\n",
    "pd.set_option('display.max_columns', 50)"
   ]
  },
  {
   "cell_type": "code",
   "execution_count": 2,
   "metadata": {},
   "outputs": [
    {
     "name": "stdout",
     "output_type": "stream",
     "text": [
      "(285195, 37)\n"
     ]
    },
    {
     "data": {
      "text/html": [
       "<div>\n",
       "<style scoped>\n",
       "    .dataframe tbody tr th:only-of-type {\n",
       "        vertical-align: middle;\n",
       "    }\n",
       "\n",
       "    .dataframe tbody tr th {\n",
       "        vertical-align: top;\n",
       "    }\n",
       "\n",
       "    .dataframe thead th {\n",
       "        text-align: right;\n",
       "    }\n",
       "</style>\n",
       "<table border=\"1\" class=\"dataframe\">\n",
       "  <thead>\n",
       "    <tr style=\"text-align: right;\">\n",
       "      <th></th>\n",
       "      <th>id</th>\n",
       "      <th>title</th>\n",
       "      <th>condition</th>\n",
       "      <th>thumbnail_id</th>\n",
       "      <th>catalog_product_id</th>\n",
       "      <th>listing_type_id</th>\n",
       "      <th>sanitized_title</th>\n",
       "      <th>permalink</th>\n",
       "      <th>buying_mode</th>\n",
       "      <th>site_id</th>\n",
       "      <th>category_id</th>\n",
       "      <th>domain_id</th>\n",
       "      <th>thumbnail</th>\n",
       "      <th>currency_id</th>\n",
       "      <th>order_backend</th>\n",
       "      <th>price</th>\n",
       "      <th>original_price</th>\n",
       "      <th>sale_price</th>\n",
       "      <th>available_quantity</th>\n",
       "      <th>official_store_id</th>\n",
       "      <th>use_thumbnail_id</th>\n",
       "      <th>accepts_mercadopago</th>\n",
       "      <th>shipping</th>\n",
       "      <th>stop_time</th>\n",
       "      <th>seller</th>\n",
       "      <th>address</th>\n",
       "      <th>attributes</th>\n",
       "      <th>installments</th>\n",
       "      <th>winner_item_id</th>\n",
       "      <th>catalog_listing</th>\n",
       "      <th>discounts</th>\n",
       "      <th>promotion_decorations</th>\n",
       "      <th>promotions</th>\n",
       "      <th>inventory_id</th>\n",
       "      <th>official_store_name</th>\n",
       "      <th>location</th>\n",
       "      <th>seller_contact</th>\n",
       "    </tr>\n",
       "  </thead>\n",
       "  <tbody>\n",
       "    <tr>\n",
       "      <th>0</th>\n",
       "      <td>MEC591721600</td>\n",
       "      <td>Consolas Play Station 5 Slim Edicion Digital</td>\n",
       "      <td>new</td>\n",
       "      <td>790276-MLU77965322054_082024</td>\n",
       "      <td>MEC29001054</td>\n",
       "      <td>gold_pro</td>\n",
       "      <td></td>\n",
       "      <td>https://www.mercadolibre.com.ec/consolas-play-...</td>\n",
       "      <td>buy_it_now</td>\n",
       "      <td>MEC</td>\n",
       "      <td>MEC3533</td>\n",
       "      <td>MEC-GAME_CONSOLES</td>\n",
       "      <td>http://http2.mlstatic.com/D_790276-MLU77965322...</td>\n",
       "      <td>USD</td>\n",
       "      <td>1</td>\n",
       "      <td>659.00</td>\n",
       "      <td>NaN</td>\n",
       "      <td>{'amount': 659.0, 'conditions': {'context_rest...</td>\n",
       "      <td>50</td>\n",
       "      <td>NaN</td>\n",
       "      <td>True</td>\n",
       "      <td>True</td>\n",
       "      <td>{'benefits': None, 'free_shipping': True, 'log...</td>\n",
       "      <td>2044-11-15T04:00:00.000Z</td>\n",
       "      <td>{'id': 63228264, 'nickname': 'MEGACELLCOM'}</td>\n",
       "      <td>{'city_id': 'RUMtUUnDsWFxdWl0bw', 'city_name':...</td>\n",
       "      <td>[{'attribute_group_id': 'OTHERS', 'attribute_g...</td>\n",
       "      <td>None</td>\n",
       "      <td>None</td>\n",
       "      <td>True</td>\n",
       "      <td>None</td>\n",
       "      <td>None</td>\n",
       "      <td>None</td>\n",
       "      <td>None</td>\n",
       "      <td>None</td>\n",
       "      <td>None</td>\n",
       "      <td>None</td>\n",
       "    </tr>\n",
       "    <tr>\n",
       "      <th>1</th>\n",
       "      <td>MEC585311472</td>\n",
       "      <td>Auriculares Inalámbricos Xiaomi Redmi Buds 6 P...</td>\n",
       "      <td>new</td>\n",
       "      <td>742884-MLA79765825031_102024</td>\n",
       "      <td>MEC39962085</td>\n",
       "      <td>bronze</td>\n",
       "      <td></td>\n",
       "      <td>https://www.mercadolibre.com.ec/auriculares-in...</td>\n",
       "      <td>buy_it_now</td>\n",
       "      <td>MEC</td>\n",
       "      <td>MEC121963</td>\n",
       "      <td>MEC-HEADPHONES</td>\n",
       "      <td>http://http2.mlstatic.com/D_742884-MLA79765825...</td>\n",
       "      <td>USD</td>\n",
       "      <td>2</td>\n",
       "      <td>36.89</td>\n",
       "      <td>44.99</td>\n",
       "      <td>{'amount': 36.89, 'conditions': {'context_rest...</td>\n",
       "      <td>1</td>\n",
       "      <td>NaN</td>\n",
       "      <td>True</td>\n",
       "      <td>True</td>\n",
       "      <td>{'benefits': None, 'free_shipping': True, 'log...</td>\n",
       "      <td>2044-09-17T04:00:00.000Z</td>\n",
       "      <td>{'id': 173825591, 'nickname': 'MAS_STORE'}</td>\n",
       "      <td>{'city_id': 'RUMtUUNhcmNlbMOpbg', 'city_name':...</td>\n",
       "      <td>[{'attribute_group_id': 'OTHERS', 'attribute_g...</td>\n",
       "      <td>None</td>\n",
       "      <td>None</td>\n",
       "      <td>True</td>\n",
       "      <td>None</td>\n",
       "      <td>None</td>\n",
       "      <td>None</td>\n",
       "      <td>None</td>\n",
       "      <td>None</td>\n",
       "      <td>None</td>\n",
       "      <td>None</td>\n",
       "    </tr>\n",
       "    <tr>\n",
       "      <th>2</th>\n",
       "      <td>MEC573483608</td>\n",
       "      <td>Microsoft Xbox Series X 1tb Carbon Black</td>\n",
       "      <td>new</td>\n",
       "      <td>942133-MLA74651936102_022024</td>\n",
       "      <td>MEC16160759</td>\n",
       "      <td>bronze</td>\n",
       "      <td></td>\n",
       "      <td>https://www.mercadolibre.com.ec/microsoft-xbox...</td>\n",
       "      <td>buy_it_now</td>\n",
       "      <td>MEC</td>\n",
       "      <td>MEC3533</td>\n",
       "      <td>MEC-GAME_CONSOLES</td>\n",
       "      <td>http://http2.mlstatic.com/D_942133-MLA74651936...</td>\n",
       "      <td>USD</td>\n",
       "      <td>3</td>\n",
       "      <td>887.43</td>\n",
       "      <td>986.04</td>\n",
       "      <td>{'amount': 887.43, 'conditions': {'context_res...</td>\n",
       "      <td>50</td>\n",
       "      <td>63508.0</td>\n",
       "      <td>True</td>\n",
       "      <td>True</td>\n",
       "      <td>{'benefits': None, 'free_shipping': True, 'log...</td>\n",
       "      <td>2044-05-11T04:00:00.000Z</td>\n",
       "      <td>{'id': 200533006, 'nickname': 'GAMING.EC'}</td>\n",
       "      <td>{'city_id': 'RUMtWVFUYXJxdWk', 'city_name': 'T...</td>\n",
       "      <td>[{'attribute_group_id': 'OTHERS', 'attribute_g...</td>\n",
       "      <td>None</td>\n",
       "      <td>None</td>\n",
       "      <td>True</td>\n",
       "      <td>None</td>\n",
       "      <td>None</td>\n",
       "      <td>None</td>\n",
       "      <td>None</td>\n",
       "      <td>GAMINGEC</td>\n",
       "      <td>None</td>\n",
       "      <td>None</td>\n",
       "    </tr>\n",
       "    <tr>\n",
       "      <th>3</th>\n",
       "      <td>MEC571416556</td>\n",
       "      <td>Auriculares Gamer G435 Logitech G Wireless Gam...</td>\n",
       "      <td>new</td>\n",
       "      <td>681820-MLU77493029189_072024</td>\n",
       "      <td>MEC18651916</td>\n",
       "      <td>bronze</td>\n",
       "      <td></td>\n",
       "      <td>https://www.mercadolibre.com.ec/auriculares-ga...</td>\n",
       "      <td>buy_it_now</td>\n",
       "      <td>MEC</td>\n",
       "      <td>MEC116670</td>\n",
       "      <td>MEC-HEADPHONES</td>\n",
       "      <td>http://http2.mlstatic.com/D_681820-MLU77493029...</td>\n",
       "      <td>USD</td>\n",
       "      <td>4</td>\n",
       "      <td>82.22</td>\n",
       "      <td>91.36</td>\n",
       "      <td>{'amount': 82.22, 'conditions': {'context_rest...</td>\n",
       "      <td>1</td>\n",
       "      <td>63508.0</td>\n",
       "      <td>True</td>\n",
       "      <td>True</td>\n",
       "      <td>{'benefits': None, 'free_shipping': True, 'log...</td>\n",
       "      <td>2044-04-19T04:00:00.000Z</td>\n",
       "      <td>{'id': 200533006, 'nickname': 'GAMING.EC'}</td>\n",
       "      <td>{'city_id': 'RUMtWVFUYXJxdWk', 'city_name': 'T...</td>\n",
       "      <td>[{'attribute_group_id': 'OTHERS', 'attribute_g...</td>\n",
       "      <td>None</td>\n",
       "      <td>None</td>\n",
       "      <td>True</td>\n",
       "      <td>None</td>\n",
       "      <td>None</td>\n",
       "      <td>None</td>\n",
       "      <td>None</td>\n",
       "      <td>GAMINGEC</td>\n",
       "      <td>None</td>\n",
       "      <td>None</td>\n",
       "    </tr>\n",
       "    <tr>\n",
       "      <th>4</th>\n",
       "      <td>MEC568777050</td>\n",
       "      <td>Oculus Quest 2 Advanced All In One Casco Vr 12...</td>\n",
       "      <td>new</td>\n",
       "      <td>929895-MLA51988203957_102022</td>\n",
       "      <td>MEC21236885</td>\n",
       "      <td>bronze</td>\n",
       "      <td></td>\n",
       "      <td>https://www.mercadolibre.com.ec/oculus-quest-2...</td>\n",
       "      <td>buy_it_now</td>\n",
       "      <td>MEC</td>\n",
       "      <td>MEC3533</td>\n",
       "      <td>MEC-GAME_CONSOLES</td>\n",
       "      <td>http://http2.mlstatic.com/D_929895-MLA51988203...</td>\n",
       "      <td>USD</td>\n",
       "      <td>5</td>\n",
       "      <td>443.70</td>\n",
       "      <td>493.00</td>\n",
       "      <td>{'amount': 443.7, 'conditions': {'context_rest...</td>\n",
       "      <td>1</td>\n",
       "      <td>63508.0</td>\n",
       "      <td>True</td>\n",
       "      <td>True</td>\n",
       "      <td>{'benefits': None, 'free_shipping': True, 'log...</td>\n",
       "      <td>2044-04-11T18:10:25.097Z</td>\n",
       "      <td>{'id': 200533006, 'nickname': 'GAMING.EC'}</td>\n",
       "      <td>{'city_id': 'RUMtWVFUYXJxdWk', 'city_name': 'T...</td>\n",
       "      <td>[{'attribute_group_id': 'OTHERS', 'attribute_g...</td>\n",
       "      <td>None</td>\n",
       "      <td>None</td>\n",
       "      <td>True</td>\n",
       "      <td>None</td>\n",
       "      <td>None</td>\n",
       "      <td>None</td>\n",
       "      <td>None</td>\n",
       "      <td>GAMINGEC</td>\n",
       "      <td>None</td>\n",
       "      <td>None</td>\n",
       "    </tr>\n",
       "  </tbody>\n",
       "</table>\n",
       "</div>"
      ],
      "text/plain": [
       "             id                                              title condition  \\\n",
       "0  MEC591721600       Consolas Play Station 5 Slim Edicion Digital       new   \n",
       "1  MEC585311472  Auriculares Inalámbricos Xiaomi Redmi Buds 6 P...       new   \n",
       "2  MEC573483608           Microsoft Xbox Series X 1tb Carbon Black       new   \n",
       "3  MEC571416556  Auriculares Gamer G435 Logitech G Wireless Gam...       new   \n",
       "4  MEC568777050  Oculus Quest 2 Advanced All In One Casco Vr 12...       new   \n",
       "\n",
       "                   thumbnail_id catalog_product_id listing_type_id  \\\n",
       "0  790276-MLU77965322054_082024        MEC29001054        gold_pro   \n",
       "1  742884-MLA79765825031_102024        MEC39962085          bronze   \n",
       "2  942133-MLA74651936102_022024        MEC16160759          bronze   \n",
       "3  681820-MLU77493029189_072024        MEC18651916          bronze   \n",
       "4  929895-MLA51988203957_102022        MEC21236885          bronze   \n",
       "\n",
       "  sanitized_title                                          permalink  \\\n",
       "0                  https://www.mercadolibre.com.ec/consolas-play-...   \n",
       "1                  https://www.mercadolibre.com.ec/auriculares-in...   \n",
       "2                  https://www.mercadolibre.com.ec/microsoft-xbox...   \n",
       "3                  https://www.mercadolibre.com.ec/auriculares-ga...   \n",
       "4                  https://www.mercadolibre.com.ec/oculus-quest-2...   \n",
       "\n",
       "  buying_mode site_id category_id          domain_id  \\\n",
       "0  buy_it_now     MEC     MEC3533  MEC-GAME_CONSOLES   \n",
       "1  buy_it_now     MEC   MEC121963     MEC-HEADPHONES   \n",
       "2  buy_it_now     MEC     MEC3533  MEC-GAME_CONSOLES   \n",
       "3  buy_it_now     MEC   MEC116670     MEC-HEADPHONES   \n",
       "4  buy_it_now     MEC     MEC3533  MEC-GAME_CONSOLES   \n",
       "\n",
       "                                           thumbnail currency_id  \\\n",
       "0  http://http2.mlstatic.com/D_790276-MLU77965322...         USD   \n",
       "1  http://http2.mlstatic.com/D_742884-MLA79765825...         USD   \n",
       "2  http://http2.mlstatic.com/D_942133-MLA74651936...         USD   \n",
       "3  http://http2.mlstatic.com/D_681820-MLU77493029...         USD   \n",
       "4  http://http2.mlstatic.com/D_929895-MLA51988203...         USD   \n",
       "\n",
       "   order_backend   price  original_price  \\\n",
       "0              1  659.00             NaN   \n",
       "1              2   36.89           44.99   \n",
       "2              3  887.43          986.04   \n",
       "3              4   82.22           91.36   \n",
       "4              5  443.70          493.00   \n",
       "\n",
       "                                          sale_price  available_quantity  \\\n",
       "0  {'amount': 659.0, 'conditions': {'context_rest...                  50   \n",
       "1  {'amount': 36.89, 'conditions': {'context_rest...                   1   \n",
       "2  {'amount': 887.43, 'conditions': {'context_res...                  50   \n",
       "3  {'amount': 82.22, 'conditions': {'context_rest...                   1   \n",
       "4  {'amount': 443.7, 'conditions': {'context_rest...                   1   \n",
       "\n",
       "   official_store_id  use_thumbnail_id  accepts_mercadopago  \\\n",
       "0                NaN              True                 True   \n",
       "1                NaN              True                 True   \n",
       "2            63508.0              True                 True   \n",
       "3            63508.0              True                 True   \n",
       "4            63508.0              True                 True   \n",
       "\n",
       "                                            shipping  \\\n",
       "0  {'benefits': None, 'free_shipping': True, 'log...   \n",
       "1  {'benefits': None, 'free_shipping': True, 'log...   \n",
       "2  {'benefits': None, 'free_shipping': True, 'log...   \n",
       "3  {'benefits': None, 'free_shipping': True, 'log...   \n",
       "4  {'benefits': None, 'free_shipping': True, 'log...   \n",
       "\n",
       "                  stop_time                                       seller  \\\n",
       "0  2044-11-15T04:00:00.000Z  {'id': 63228264, 'nickname': 'MEGACELLCOM'}   \n",
       "1  2044-09-17T04:00:00.000Z   {'id': 173825591, 'nickname': 'MAS_STORE'}   \n",
       "2  2044-05-11T04:00:00.000Z   {'id': 200533006, 'nickname': 'GAMING.EC'}   \n",
       "3  2044-04-19T04:00:00.000Z   {'id': 200533006, 'nickname': 'GAMING.EC'}   \n",
       "4  2044-04-11T18:10:25.097Z   {'id': 200533006, 'nickname': 'GAMING.EC'}   \n",
       "\n",
       "                                             address  \\\n",
       "0  {'city_id': 'RUMtUUnDsWFxdWl0bw', 'city_name':...   \n",
       "1  {'city_id': 'RUMtUUNhcmNlbMOpbg', 'city_name':...   \n",
       "2  {'city_id': 'RUMtWVFUYXJxdWk', 'city_name': 'T...   \n",
       "3  {'city_id': 'RUMtWVFUYXJxdWk', 'city_name': 'T...   \n",
       "4  {'city_id': 'RUMtWVFUYXJxdWk', 'city_name': 'T...   \n",
       "\n",
       "                                          attributes installments  \\\n",
       "0  [{'attribute_group_id': 'OTHERS', 'attribute_g...         None   \n",
       "1  [{'attribute_group_id': 'OTHERS', 'attribute_g...         None   \n",
       "2  [{'attribute_group_id': 'OTHERS', 'attribute_g...         None   \n",
       "3  [{'attribute_group_id': 'OTHERS', 'attribute_g...         None   \n",
       "4  [{'attribute_group_id': 'OTHERS', 'attribute_g...         None   \n",
       "\n",
       "  winner_item_id  catalog_listing discounts promotion_decorations promotions  \\\n",
       "0           None             True      None                  None       None   \n",
       "1           None             True      None                  None       None   \n",
       "2           None             True      None                  None       None   \n",
       "3           None             True      None                  None       None   \n",
       "4           None             True      None                  None       None   \n",
       "\n",
       "  inventory_id official_store_name location seller_contact  \n",
       "0         None                None     None           None  \n",
       "1         None                None     None           None  \n",
       "2         None            GAMINGEC     None           None  \n",
       "3         None            GAMINGEC     None           None  \n",
       "4         None            GAMINGEC     None           None  "
      ]
     },
     "execution_count": 2,
     "metadata": {},
     "output_type": "execute_result"
    }
   ],
   "source": [
    "df_raw = pd.read_parquet(os.path.join('..', 'data', 'raw', 'amostra_raw.parquet'))\n",
    "\n",
    "print(df_raw.shape)\n",
    "df_raw.head()"
   ]
  },
  {
   "cell_type": "code",
   "execution_count": 3,
   "metadata": {},
   "outputs": [
    {
     "name": "stdout",
     "output_type": "stream",
     "text": [
      "<class 'pandas.core.frame.DataFrame'>\n",
      "RangeIndex: 285195 entries, 0 to 285194\n",
      "Data columns (total 37 columns):\n",
      " #   Column                 Non-Null Count   Dtype  \n",
      "---  ------                 --------------   -----  \n",
      " 0   id                     285195 non-null  object \n",
      " 1   title                  285195 non-null  object \n",
      " 2   condition              274680 non-null  object \n",
      " 3   thumbnail_id           285195 non-null  object \n",
      " 4   catalog_product_id     135672 non-null  object \n",
      " 5   listing_type_id        285195 non-null  object \n",
      " 6   sanitized_title        285195 non-null  object \n",
      " 7   permalink              285195 non-null  object \n",
      " 8   buying_mode            285195 non-null  object \n",
      " 9   site_id                285195 non-null  object \n",
      " 10  category_id            285195 non-null  object \n",
      " 11  domain_id              285195 non-null  object \n",
      " 12  thumbnail              285195 non-null  object \n",
      " 13  currency_id            278614 non-null  object \n",
      " 14  order_backend          285195 non-null  int64  \n",
      " 15  price                  278614 non-null  float64\n",
      " 16  original_price         67126 non-null   float64\n",
      " 17  sale_price             239128 non-null  object \n",
      " 18  available_quantity     285195 non-null  int64  \n",
      " 19  official_store_id      64146 non-null   float64\n",
      " 20  use_thumbnail_id       285195 non-null  bool   \n",
      " 21  accepts_mercadopago    285195 non-null  bool   \n",
      " 22  shipping               285195 non-null  object \n",
      " 23  stop_time              285195 non-null  object \n",
      " 24  seller                 285193 non-null  object \n",
      " 25  address                278765 non-null  object \n",
      " 26  attributes             285195 non-null  object \n",
      " 27  installments           124831 non-null  object \n",
      " 28  winner_item_id         0 non-null       object \n",
      " 29  catalog_listing        285195 non-null  bool   \n",
      " 30  discounts              0 non-null       object \n",
      " 31  promotion_decorations  0 non-null       object \n",
      " 32  promotions             0 non-null       object \n",
      " 33  inventory_id           47983 non-null   object \n",
      " 34  official_store_name    63010 non-null   object \n",
      " 35  location               29488 non-null   object \n",
      " 36  seller_contact         29488 non-null   object \n",
      "dtypes: bool(3), float64(3), int64(2), object(29)\n",
      "memory usage: 74.8+ MB\n"
     ]
    }
   ],
   "source": [
    "df_raw.info()"
   ]
  },
  {
   "cell_type": "code",
   "execution_count": 4,
   "metadata": {},
   "outputs": [
    {
     "data": {
      "text/plain": [
       "id                       1.000000\n",
       "title                    1.000000\n",
       "condition                0.963130\n",
       "thumbnail_id             1.000000\n",
       "catalog_product_id       0.475717\n",
       "listing_type_id          1.000000\n",
       "sanitized_title          1.000000\n",
       "permalink                1.000000\n",
       "buying_mode              1.000000\n",
       "site_id                  1.000000\n",
       "category_id              1.000000\n",
       "domain_id                1.000000\n",
       "thumbnail                1.000000\n",
       "currency_id              0.976925\n",
       "order_backend            1.000000\n",
       "price                    0.976925\n",
       "original_price           0.235369\n",
       "sale_price               0.838472\n",
       "available_quantity       1.000000\n",
       "official_store_id        0.224920\n",
       "use_thumbnail_id         1.000000\n",
       "accepts_mercadopago      1.000000\n",
       "shipping                 1.000000\n",
       "stop_time                1.000000\n",
       "seller                   0.999993\n",
       "address                  0.977454\n",
       "attributes               1.000000\n",
       "installments             0.437704\n",
       "winner_item_id           0.000000\n",
       "catalog_listing          1.000000\n",
       "discounts                0.000000\n",
       "promotion_decorations    0.000000\n",
       "promotions               0.000000\n",
       "inventory_id             0.168246\n",
       "official_store_name      0.220937\n",
       "location                 0.103396\n",
       "seller_contact           0.103396\n",
       "dtype: float64"
      ]
     },
     "execution_count": 4,
     "metadata": {},
     "output_type": "execute_result"
    }
   ],
   "source": [
    "(df_raw.shape[0] - df_raw.isnull().sum()) / (df_raw.shape[0])"
   ]
  },
  {
   "cell_type": "code",
   "execution_count": 5,
   "metadata": {},
   "outputs": [
    {
     "data": {
      "text/plain": [
       "Index(['winner_item_id', 'discounts', 'promotion_decorations', 'promotions'], dtype='object')"
      ]
     },
     "execution_count": 5,
     "metadata": {},
     "output_type": "execute_result"
    }
   ],
   "source": [
    "df_raw.columns[df_raw.isnull().all()]"
   ]
  },
  {
   "cell_type": "code",
   "execution_count": 6,
   "metadata": {},
   "outputs": [
    {
     "name": "stdout",
     "output_type": "stream",
     "text": [
      "(285195, 33)\n"
     ]
    },
    {
     "data": {
      "text/html": [
       "<div>\n",
       "<style scoped>\n",
       "    .dataframe tbody tr th:only-of-type {\n",
       "        vertical-align: middle;\n",
       "    }\n",
       "\n",
       "    .dataframe tbody tr th {\n",
       "        vertical-align: top;\n",
       "    }\n",
       "\n",
       "    .dataframe thead th {\n",
       "        text-align: right;\n",
       "    }\n",
       "</style>\n",
       "<table border=\"1\" class=\"dataframe\">\n",
       "  <thead>\n",
       "    <tr style=\"text-align: right;\">\n",
       "      <th></th>\n",
       "      <th>id</th>\n",
       "      <th>title</th>\n",
       "      <th>condition</th>\n",
       "      <th>thumbnail_id</th>\n",
       "      <th>catalog_product_id</th>\n",
       "      <th>listing_type_id</th>\n",
       "      <th>sanitized_title</th>\n",
       "      <th>permalink</th>\n",
       "      <th>buying_mode</th>\n",
       "      <th>site_id</th>\n",
       "      <th>category_id</th>\n",
       "      <th>domain_id</th>\n",
       "      <th>thumbnail</th>\n",
       "      <th>currency_id</th>\n",
       "      <th>order_backend</th>\n",
       "      <th>price</th>\n",
       "      <th>original_price</th>\n",
       "      <th>sale_price</th>\n",
       "      <th>available_quantity</th>\n",
       "      <th>official_store_id</th>\n",
       "      <th>use_thumbnail_id</th>\n",
       "      <th>accepts_mercadopago</th>\n",
       "      <th>shipping</th>\n",
       "      <th>stop_time</th>\n",
       "      <th>seller</th>\n",
       "      <th>address</th>\n",
       "      <th>attributes</th>\n",
       "      <th>installments</th>\n",
       "      <th>catalog_listing</th>\n",
       "      <th>inventory_id</th>\n",
       "      <th>official_store_name</th>\n",
       "      <th>location</th>\n",
       "      <th>seller_contact</th>\n",
       "    </tr>\n",
       "  </thead>\n",
       "  <tbody>\n",
       "    <tr>\n",
       "      <th>0</th>\n",
       "      <td>MEC591721600</td>\n",
       "      <td>Consolas Play Station 5 Slim Edicion Digital</td>\n",
       "      <td>new</td>\n",
       "      <td>790276-MLU77965322054_082024</td>\n",
       "      <td>MEC29001054</td>\n",
       "      <td>gold_pro</td>\n",
       "      <td></td>\n",
       "      <td>https://www.mercadolibre.com.ec/consolas-play-...</td>\n",
       "      <td>buy_it_now</td>\n",
       "      <td>MEC</td>\n",
       "      <td>MEC3533</td>\n",
       "      <td>MEC-GAME_CONSOLES</td>\n",
       "      <td>http://http2.mlstatic.com/D_790276-MLU77965322...</td>\n",
       "      <td>USD</td>\n",
       "      <td>1</td>\n",
       "      <td>659.00</td>\n",
       "      <td>NaN</td>\n",
       "      <td>{'amount': 659.0, 'conditions': {'context_rest...</td>\n",
       "      <td>50</td>\n",
       "      <td>NaN</td>\n",
       "      <td>True</td>\n",
       "      <td>True</td>\n",
       "      <td>{'benefits': None, 'free_shipping': True, 'log...</td>\n",
       "      <td>2044-11-15T04:00:00.000Z</td>\n",
       "      <td>{'id': 63228264, 'nickname': 'MEGACELLCOM'}</td>\n",
       "      <td>{'city_id': 'RUMtUUnDsWFxdWl0bw', 'city_name':...</td>\n",
       "      <td>[{'attribute_group_id': 'OTHERS', 'attribute_g...</td>\n",
       "      <td>None</td>\n",
       "      <td>True</td>\n",
       "      <td>None</td>\n",
       "      <td>None</td>\n",
       "      <td>None</td>\n",
       "      <td>None</td>\n",
       "    </tr>\n",
       "    <tr>\n",
       "      <th>1</th>\n",
       "      <td>MEC585311472</td>\n",
       "      <td>Auriculares Inalámbricos Xiaomi Redmi Buds 6 P...</td>\n",
       "      <td>new</td>\n",
       "      <td>742884-MLA79765825031_102024</td>\n",
       "      <td>MEC39962085</td>\n",
       "      <td>bronze</td>\n",
       "      <td></td>\n",
       "      <td>https://www.mercadolibre.com.ec/auriculares-in...</td>\n",
       "      <td>buy_it_now</td>\n",
       "      <td>MEC</td>\n",
       "      <td>MEC121963</td>\n",
       "      <td>MEC-HEADPHONES</td>\n",
       "      <td>http://http2.mlstatic.com/D_742884-MLA79765825...</td>\n",
       "      <td>USD</td>\n",
       "      <td>2</td>\n",
       "      <td>36.89</td>\n",
       "      <td>44.99</td>\n",
       "      <td>{'amount': 36.89, 'conditions': {'context_rest...</td>\n",
       "      <td>1</td>\n",
       "      <td>NaN</td>\n",
       "      <td>True</td>\n",
       "      <td>True</td>\n",
       "      <td>{'benefits': None, 'free_shipping': True, 'log...</td>\n",
       "      <td>2044-09-17T04:00:00.000Z</td>\n",
       "      <td>{'id': 173825591, 'nickname': 'MAS_STORE'}</td>\n",
       "      <td>{'city_id': 'RUMtUUNhcmNlbMOpbg', 'city_name':...</td>\n",
       "      <td>[{'attribute_group_id': 'OTHERS', 'attribute_g...</td>\n",
       "      <td>None</td>\n",
       "      <td>True</td>\n",
       "      <td>None</td>\n",
       "      <td>None</td>\n",
       "      <td>None</td>\n",
       "      <td>None</td>\n",
       "    </tr>\n",
       "    <tr>\n",
       "      <th>2</th>\n",
       "      <td>MEC573483608</td>\n",
       "      <td>Microsoft Xbox Series X 1tb Carbon Black</td>\n",
       "      <td>new</td>\n",
       "      <td>942133-MLA74651936102_022024</td>\n",
       "      <td>MEC16160759</td>\n",
       "      <td>bronze</td>\n",
       "      <td></td>\n",
       "      <td>https://www.mercadolibre.com.ec/microsoft-xbox...</td>\n",
       "      <td>buy_it_now</td>\n",
       "      <td>MEC</td>\n",
       "      <td>MEC3533</td>\n",
       "      <td>MEC-GAME_CONSOLES</td>\n",
       "      <td>http://http2.mlstatic.com/D_942133-MLA74651936...</td>\n",
       "      <td>USD</td>\n",
       "      <td>3</td>\n",
       "      <td>887.43</td>\n",
       "      <td>986.04</td>\n",
       "      <td>{'amount': 887.43, 'conditions': {'context_res...</td>\n",
       "      <td>50</td>\n",
       "      <td>63508.0</td>\n",
       "      <td>True</td>\n",
       "      <td>True</td>\n",
       "      <td>{'benefits': None, 'free_shipping': True, 'log...</td>\n",
       "      <td>2044-05-11T04:00:00.000Z</td>\n",
       "      <td>{'id': 200533006, 'nickname': 'GAMING.EC'}</td>\n",
       "      <td>{'city_id': 'RUMtWVFUYXJxdWk', 'city_name': 'T...</td>\n",
       "      <td>[{'attribute_group_id': 'OTHERS', 'attribute_g...</td>\n",
       "      <td>None</td>\n",
       "      <td>True</td>\n",
       "      <td>None</td>\n",
       "      <td>GAMINGEC</td>\n",
       "      <td>None</td>\n",
       "      <td>None</td>\n",
       "    </tr>\n",
       "    <tr>\n",
       "      <th>3</th>\n",
       "      <td>MEC571416556</td>\n",
       "      <td>Auriculares Gamer G435 Logitech G Wireless Gam...</td>\n",
       "      <td>new</td>\n",
       "      <td>681820-MLU77493029189_072024</td>\n",
       "      <td>MEC18651916</td>\n",
       "      <td>bronze</td>\n",
       "      <td></td>\n",
       "      <td>https://www.mercadolibre.com.ec/auriculares-ga...</td>\n",
       "      <td>buy_it_now</td>\n",
       "      <td>MEC</td>\n",
       "      <td>MEC116670</td>\n",
       "      <td>MEC-HEADPHONES</td>\n",
       "      <td>http://http2.mlstatic.com/D_681820-MLU77493029...</td>\n",
       "      <td>USD</td>\n",
       "      <td>4</td>\n",
       "      <td>82.22</td>\n",
       "      <td>91.36</td>\n",
       "      <td>{'amount': 82.22, 'conditions': {'context_rest...</td>\n",
       "      <td>1</td>\n",
       "      <td>63508.0</td>\n",
       "      <td>True</td>\n",
       "      <td>True</td>\n",
       "      <td>{'benefits': None, 'free_shipping': True, 'log...</td>\n",
       "      <td>2044-04-19T04:00:00.000Z</td>\n",
       "      <td>{'id': 200533006, 'nickname': 'GAMING.EC'}</td>\n",
       "      <td>{'city_id': 'RUMtWVFUYXJxdWk', 'city_name': 'T...</td>\n",
       "      <td>[{'attribute_group_id': 'OTHERS', 'attribute_g...</td>\n",
       "      <td>None</td>\n",
       "      <td>True</td>\n",
       "      <td>None</td>\n",
       "      <td>GAMINGEC</td>\n",
       "      <td>None</td>\n",
       "      <td>None</td>\n",
       "    </tr>\n",
       "    <tr>\n",
       "      <th>4</th>\n",
       "      <td>MEC568777050</td>\n",
       "      <td>Oculus Quest 2 Advanced All In One Casco Vr 12...</td>\n",
       "      <td>new</td>\n",
       "      <td>929895-MLA51988203957_102022</td>\n",
       "      <td>MEC21236885</td>\n",
       "      <td>bronze</td>\n",
       "      <td></td>\n",
       "      <td>https://www.mercadolibre.com.ec/oculus-quest-2...</td>\n",
       "      <td>buy_it_now</td>\n",
       "      <td>MEC</td>\n",
       "      <td>MEC3533</td>\n",
       "      <td>MEC-GAME_CONSOLES</td>\n",
       "      <td>http://http2.mlstatic.com/D_929895-MLA51988203...</td>\n",
       "      <td>USD</td>\n",
       "      <td>5</td>\n",
       "      <td>443.70</td>\n",
       "      <td>493.00</td>\n",
       "      <td>{'amount': 443.7, 'conditions': {'context_rest...</td>\n",
       "      <td>1</td>\n",
       "      <td>63508.0</td>\n",
       "      <td>True</td>\n",
       "      <td>True</td>\n",
       "      <td>{'benefits': None, 'free_shipping': True, 'log...</td>\n",
       "      <td>2044-04-11T18:10:25.097Z</td>\n",
       "      <td>{'id': 200533006, 'nickname': 'GAMING.EC'}</td>\n",
       "      <td>{'city_id': 'RUMtWVFUYXJxdWk', 'city_name': 'T...</td>\n",
       "      <td>[{'attribute_group_id': 'OTHERS', 'attribute_g...</td>\n",
       "      <td>None</td>\n",
       "      <td>True</td>\n",
       "      <td>None</td>\n",
       "      <td>GAMINGEC</td>\n",
       "      <td>None</td>\n",
       "      <td>None</td>\n",
       "    </tr>\n",
       "  </tbody>\n",
       "</table>\n",
       "</div>"
      ],
      "text/plain": [
       "             id                                              title condition  \\\n",
       "0  MEC591721600       Consolas Play Station 5 Slim Edicion Digital       new   \n",
       "1  MEC585311472  Auriculares Inalámbricos Xiaomi Redmi Buds 6 P...       new   \n",
       "2  MEC573483608           Microsoft Xbox Series X 1tb Carbon Black       new   \n",
       "3  MEC571416556  Auriculares Gamer G435 Logitech G Wireless Gam...       new   \n",
       "4  MEC568777050  Oculus Quest 2 Advanced All In One Casco Vr 12...       new   \n",
       "\n",
       "                   thumbnail_id catalog_product_id listing_type_id  \\\n",
       "0  790276-MLU77965322054_082024        MEC29001054        gold_pro   \n",
       "1  742884-MLA79765825031_102024        MEC39962085          bronze   \n",
       "2  942133-MLA74651936102_022024        MEC16160759          bronze   \n",
       "3  681820-MLU77493029189_072024        MEC18651916          bronze   \n",
       "4  929895-MLA51988203957_102022        MEC21236885          bronze   \n",
       "\n",
       "  sanitized_title                                          permalink  \\\n",
       "0                  https://www.mercadolibre.com.ec/consolas-play-...   \n",
       "1                  https://www.mercadolibre.com.ec/auriculares-in...   \n",
       "2                  https://www.mercadolibre.com.ec/microsoft-xbox...   \n",
       "3                  https://www.mercadolibre.com.ec/auriculares-ga...   \n",
       "4                  https://www.mercadolibre.com.ec/oculus-quest-2...   \n",
       "\n",
       "  buying_mode site_id category_id          domain_id  \\\n",
       "0  buy_it_now     MEC     MEC3533  MEC-GAME_CONSOLES   \n",
       "1  buy_it_now     MEC   MEC121963     MEC-HEADPHONES   \n",
       "2  buy_it_now     MEC     MEC3533  MEC-GAME_CONSOLES   \n",
       "3  buy_it_now     MEC   MEC116670     MEC-HEADPHONES   \n",
       "4  buy_it_now     MEC     MEC3533  MEC-GAME_CONSOLES   \n",
       "\n",
       "                                           thumbnail currency_id  \\\n",
       "0  http://http2.mlstatic.com/D_790276-MLU77965322...         USD   \n",
       "1  http://http2.mlstatic.com/D_742884-MLA79765825...         USD   \n",
       "2  http://http2.mlstatic.com/D_942133-MLA74651936...         USD   \n",
       "3  http://http2.mlstatic.com/D_681820-MLU77493029...         USD   \n",
       "4  http://http2.mlstatic.com/D_929895-MLA51988203...         USD   \n",
       "\n",
       "   order_backend   price  original_price  \\\n",
       "0              1  659.00             NaN   \n",
       "1              2   36.89           44.99   \n",
       "2              3  887.43          986.04   \n",
       "3              4   82.22           91.36   \n",
       "4              5  443.70          493.00   \n",
       "\n",
       "                                          sale_price  available_quantity  \\\n",
       "0  {'amount': 659.0, 'conditions': {'context_rest...                  50   \n",
       "1  {'amount': 36.89, 'conditions': {'context_rest...                   1   \n",
       "2  {'amount': 887.43, 'conditions': {'context_res...                  50   \n",
       "3  {'amount': 82.22, 'conditions': {'context_rest...                   1   \n",
       "4  {'amount': 443.7, 'conditions': {'context_rest...                   1   \n",
       "\n",
       "   official_store_id  use_thumbnail_id  accepts_mercadopago  \\\n",
       "0                NaN              True                 True   \n",
       "1                NaN              True                 True   \n",
       "2            63508.0              True                 True   \n",
       "3            63508.0              True                 True   \n",
       "4            63508.0              True                 True   \n",
       "\n",
       "                                            shipping  \\\n",
       "0  {'benefits': None, 'free_shipping': True, 'log...   \n",
       "1  {'benefits': None, 'free_shipping': True, 'log...   \n",
       "2  {'benefits': None, 'free_shipping': True, 'log...   \n",
       "3  {'benefits': None, 'free_shipping': True, 'log...   \n",
       "4  {'benefits': None, 'free_shipping': True, 'log...   \n",
       "\n",
       "                  stop_time                                       seller  \\\n",
       "0  2044-11-15T04:00:00.000Z  {'id': 63228264, 'nickname': 'MEGACELLCOM'}   \n",
       "1  2044-09-17T04:00:00.000Z   {'id': 173825591, 'nickname': 'MAS_STORE'}   \n",
       "2  2044-05-11T04:00:00.000Z   {'id': 200533006, 'nickname': 'GAMING.EC'}   \n",
       "3  2044-04-19T04:00:00.000Z   {'id': 200533006, 'nickname': 'GAMING.EC'}   \n",
       "4  2044-04-11T18:10:25.097Z   {'id': 200533006, 'nickname': 'GAMING.EC'}   \n",
       "\n",
       "                                             address  \\\n",
       "0  {'city_id': 'RUMtUUnDsWFxdWl0bw', 'city_name':...   \n",
       "1  {'city_id': 'RUMtUUNhcmNlbMOpbg', 'city_name':...   \n",
       "2  {'city_id': 'RUMtWVFUYXJxdWk', 'city_name': 'T...   \n",
       "3  {'city_id': 'RUMtWVFUYXJxdWk', 'city_name': 'T...   \n",
       "4  {'city_id': 'RUMtWVFUYXJxdWk', 'city_name': 'T...   \n",
       "\n",
       "                                          attributes installments  \\\n",
       "0  [{'attribute_group_id': 'OTHERS', 'attribute_g...         None   \n",
       "1  [{'attribute_group_id': 'OTHERS', 'attribute_g...         None   \n",
       "2  [{'attribute_group_id': 'OTHERS', 'attribute_g...         None   \n",
       "3  [{'attribute_group_id': 'OTHERS', 'attribute_g...         None   \n",
       "4  [{'attribute_group_id': 'OTHERS', 'attribute_g...         None   \n",
       "\n",
       "   catalog_listing inventory_id official_store_name location seller_contact  \n",
       "0             True         None                None     None           None  \n",
       "1             True         None                None     None           None  \n",
       "2             True         None            GAMINGEC     None           None  \n",
       "3             True         None            GAMINGEC     None           None  \n",
       "4             True         None            GAMINGEC     None           None  "
      ]
     },
     "execution_count": 6,
     "metadata": {},
     "output_type": "execute_result"
    }
   ],
   "source": [
    "df_raw = df_raw.dropna(axis=1, how='all')\n",
    "\n",
    "print(df_raw.shape)\n",
    "df_raw.head()"
   ]
  },
  {
   "cell_type": "code",
   "execution_count": 7,
   "metadata": {},
   "outputs": [
    {
     "name": "stdout",
     "output_type": "stream",
     "text": [
      "Número de categorias distintas (considerando o ID do país): 25011\n",
      "Número de categorias distintas (após tratamento): 15210\n"
     ]
    }
   ],
   "source": [
    "df_raw['category_id_tratado'] = df_raw.category_id.apply(lambda x: x[3:])\n",
    "\n",
    "print(f\"Número de categorias distintas (considerando o ID do país): {df_raw['category_id'].nunique()}\")\n",
    "print(f\"Número de categorias distintas (após tratamento): {df_raw['category_id_tratado'].nunique()}\")"
   ]
  },
  {
   "cell_type": "code",
   "execution_count": 8,
   "metadata": {},
   "outputs": [
    {
     "data": {
      "image/png": "[encoded data removed]",
      "text/plain": [
       "<Figure size 1200x500 with 1 Axes>"
      ]
     },
     "metadata": {},
     "output_type": "display_data"
    }
   ],
   "source": [
    "region_counts = df_raw['site_id'].value_counts()\n",
    "\n",
    "plt.figure(figsize = (12, 5))\n",
    "ax = sns.barplot(\n",
    "    x = region_counts.index,\n",
    "    y = region_counts.values,\n",
    "    color = 'lightblue'\n",
    ")\n",
    "\n",
    "plt.xticks(rotation=90)\n",
    "\n",
    "for container in ax.containers:\n",
    "    labels = [f\"{val.get_height():,.0f}\".replace(',', '.') for val in container]\n",
    "    ax.bar_label(container, labels=labels) \n",
    "\n",
    "plt.xlabel('País de atuação')\n",
    "plt.ylabel('Volumetria da amostra')\n",
    "plt.title('Volumetria da amostra por país')\n",
    "plt.tight_layout()\n",
    "plt.show()"
   ]
  },
  {
   "cell_type": "code",
   "execution_count": 9,
   "metadata": {},
   "outputs": [
    {
     "data": {
      "image/png": "[encoded data removed]",
      "text/plain": [
       "<Figure size 1200x500 with 1 Axes>"
      ]
     },
     "metadata": {},
     "output_type": "display_data"
    }
   ],
   "source": [
    "plt.figure(figsize = (12, 5))\n",
    "\n",
    "ax = sns.barplot(\n",
    "    x = 'site_id', \n",
    "    y = 'num_categories', \n",
    "    color = 'lightblue', \n",
    "    data = (\n",
    "        df_raw\n",
    "        .groupby('site_id', as_index=False)['category_id_tratado']\n",
    "        .nunique()\n",
    "        .rename(columns = {'category_id_tratado': 'num_categories'})\n",
    "    ).sort_values(by = 'num_categories', ascending = False)\n",
    ")\n",
    "\n",
    "plt.xticks(rotation=90)\n",
    "\n",
    "for container in ax.containers:\n",
    "    labels = [f\"{val.get_height():,.0f}\".replace(',', '.') for val in container]\n",
    "    ax.bar_label(container, labels=labels) \n",
    "\n",
    "plt.xlabel('País de atuação')\n",
    "plt.ylabel('Quantidade de categorias distintas')\n",
    "plt.title('Quantidade de categorias distintas da amostra por país')\n",
    "plt.tight_layout()\n",
    "\n",
    "plt.show()\n"
   ]
  },
  {
   "cell_type": "code",
   "execution_count": 10,
   "metadata": {},
   "outputs": [
    {
     "data": {
      "text/plain": [
       "array(['buy_it_now', 'classified'], dtype=object)"
      ]
     },
     "execution_count": 10,
     "metadata": {},
     "output_type": "execute_result"
    }
   ],
   "source": [
    "df_raw.buying_mode.unique()"
   ]
  },
  {
   "cell_type": "code",
   "execution_count": 11,
   "metadata": {},
   "outputs": [],
   "source": [
    "df_counts = (\n",
    "    df_raw\n",
    "    .groupby(['buying_mode', 'site_id'], as_index=False)\n",
    "    .size()\n",
    "    .rename(columns={'size': 'count'})\n",
    ")\n",
    "\n",
    "modes = df_counts['buying_mode'].unique()"
   ]
  },
  {
   "cell_type": "code",
   "execution_count": 12,
   "metadata": {},
   "outputs": [
    {
     "data": {
      "image/png": "[encoded data removed]",
      "text/plain": [
       "<Figure size 1200x600 with 2 Axes>"
      ]
     },
     "metadata": {},
     "output_type": "display_data"
    }
   ],
   "source": [
    "fig, axes = plt.subplots(nrows = 1, ncols = len(modes), figsize = (12, 6))\n",
    "\n",
    "for ax, mode in zip(axes, modes):\n",
    "    df_mode = df_counts[df_counts['buying_mode'] == mode]\n",
    "    \n",
    "    df_mode_sorted = df_mode.sort_values(by = 'count', ascending=False)\n",
    "    \n",
    "    sns.barplot(\n",
    "        data=df_mode_sorted,\n",
    "        y = 'site_id',\n",
    "        x = 'count',\n",
    "        ax = ax,\n",
    "        color = 'lightblue',\n",
    "        order=df_mode_sorted['site_id']\n",
    "    )\n",
    "    \n",
    "    ax.set_title(f\"Volumetria amostral por país | buying_mode: {mode}\")\n",
    "    ax.set_xlabel(\"Volumetria amostral\")\n",
    "    ax.set_ylabel(\"País (ID)\")\n",
    "    \n",
    "    for container in ax.containers:\n",
    "        labels = [f\"{bar.get_width():,.0f}\".replace(',', '.') for bar in container]\n",
    "        ax.bar_label(container, labels=labels, fmt=\"\", padding=3)\n",
    "    \n",
    "    ax.set_xlim(0, df_mode_sorted['count'].max() * 1.15)\n",
    "\n",
    "plt.tight_layout()\n",
    "plt.show()"
   ]
  },
  {
   "cell_type": "code",
   "execution_count": 13,
   "metadata": {},
   "outputs": [],
   "source": [
    "df_raw.loc[(df_raw.sale_price.isna()), 'sale_price_type'] = '<vazio>'\n",
    "df_raw.loc[~(df_raw.sale_price.isna()), 'sale_price_type'] = df_raw[df_raw.sale_price_type != '<vazio>'].sale_price.apply(lambda x: x.get('type'))"
   ]
  },
  {
   "cell_type": "code",
   "execution_count": 14,
   "metadata": {},
   "outputs": [
    {
     "data": {
      "text/plain": [
       "buying_mode  sale_price_type\n",
       "buy_it_now   standard           151442\n",
       "             promotion           66034\n",
       "             <vazio>             37934\n",
       "             BNSP                  192\n",
       "             SPONTH                100\n",
       "             BNGM                    5\n",
       "classified   standard            21348\n",
       "             <vazio>              8133\n",
       "             promotion               7\n",
       "Name: sale_price_type, dtype: int64"
      ]
     },
     "execution_count": 14,
     "metadata": {},
     "output_type": "execute_result"
    }
   ],
   "source": [
    "df_raw.groupby('buying_mode').sale_price_type.value_counts(dropna=False)"
   ]
  },
  {
   "cell_type": "markdown",
   "metadata": {},
   "source": [
    "### Análise da feature `attributes`"
   ]
  },
  {
   "cell_type": "code",
   "execution_count": 15,
   "metadata": {},
   "outputs": [],
   "source": [
    "def attribute_extract(attributes, key):\n",
    "    \n",
    "    if not isinstance(attributes, (list, tuple, np.ndarray)):\n",
    "        return None\n",
    "    \n",
    "    for attribute in attributes:\n",
    "        if isinstance(attribute, dict) and attribute.get('id') == key:\n",
    "            return attribute.get('value_name')\n",
    "    \n",
    "    return None"
   ]
  },
  {
   "cell_type": "code",
   "execution_count": 16,
   "metadata": {},
   "outputs": [],
   "source": [
    "features_attribute = ['BRAND', 'COLOR', 'MAIN_COLOR', 'WEIGHT']\n",
    "\n",
    "for feature in features_attribute:\n",
    "    df_raw[f'{feature.lower()}_value'] = df_raw.attributes.apply(lambda x: attribute_extract(x, feature))"
   ]
  },
  {
   "cell_type": "markdown",
   "metadata": {},
   "source": [
    "### Atributo: `brand_value` (marca)\n",
    "\n",
    "Como é de se esperar, o mercado livre vende produtos de diversas marcas no seu marketplace. Assim, para um modelo de machine learning, é válido analisar as categorias (marcas) mais frequentes na amostra e agrupar as demais em uma mesma classe, por exemplo, `<outros>`. Portanto, analisou-se as 10 marcas mais frequentes de produtos que não estavam em promoção, bem como as mais frequentes de produtos que estavam."
   ]
  },
  {
   "cell_type": "code",
   "execution_count": 73,
   "metadata": {},
   "outputs": [],
   "source": [
    "def brand_processing(brand):\n",
    "    if brand is not None:\n",
    "        brand = brand.lower()\n",
    "        return re.sub(r'[^\\w\\s]', '', brand)\n",
    "    else:\n",
    "        return '<vazio>'"
   ]
  },
  {
   "cell_type": "code",
   "execution_count": 74,
   "metadata": {},
   "outputs": [],
   "source": [
    "df_raw['brand_value'] = df_raw['brand_value'].apply(brand_processing)"
   ]
  },
  {
   "cell_type": "code",
   "execution_count": 75,
   "metadata": {},
   "outputs": [
    {
     "data": {
      "text/plain": [
       "<vazio>      0.222989\n",
       "genérica     0.037677\n",
       "samsung      0.010020\n",
       "sony         0.009619\n",
       "xiaomi       0.006849\n",
       "apple        0.006648\n",
       "casio        0.005754\n",
       "nintendo     0.004846\n",
       "toyota       0.004700\n",
       "chevrolet    0.004171\n",
       "Name: brand_value, dtype: float64"
      ]
     },
     "execution_count": 75,
     "metadata": {},
     "output_type": "execute_result"
    }
   ],
   "source": [
    "df_raw[df_raw.sale_price_type != 'promotion'].brand_value.value_counts(normalize=True).head(10)"
   ]
  },
  {
   "cell_type": "code",
   "execution_count": 76,
   "metadata": {},
   "outputs": [
    {
     "data": {
      "text/plain": [
       "genérica    0.040763\n",
       "<vazio>     0.035236\n",
       "truper      0.010130\n",
       "samsung     0.008888\n",
       "xiaomi      0.007889\n",
       "sony        0.007465\n",
       "total       0.007193\n",
       "casio       0.005678\n",
       "apple       0.005648\n",
       "lenovo      0.005285\n",
       "Name: brand_value, dtype: float64"
      ]
     },
     "execution_count": 76,
     "metadata": {},
     "output_type": "execute_result"
    }
   ],
   "source": [
    "df_raw[df_raw.sale_price_type == 'promotion'].brand_value.value_counts(normalize=True).head(10)"
   ]
  },
  {
   "cell_type": "markdown",
   "metadata": {},
   "source": [
    "Observe que, embora a ordem não seja a mesma (o que pode ser útil para discriminar), muitas marcas estão presentes em ambas subpopulações de tipo de venda (`sale_price_type`)."
   ]
  },
  {
   "cell_type": "markdown",
   "metadata": {},
   "source": [
    "### Atributo: `color_value` e `main_color_value` (cor)\n",
    "\n",
    "Uma outra hipótese é que a cor do produto pode discriminar e ditar se deve ser uma promoção e seu respectivo desconto, uma vez que produtos menos desejados possam ocupar mais tempo no estoque e, portanto, necessitar de promoções para serem \"queimados\"."
   ]
  },
  {
   "cell_type": "code",
   "execution_count": 68,
   "metadata": {},
   "outputs": [
    {
     "data": {
      "text/plain": [
       "Negro           0.263032\n",
       "Blanco          0.122814\n",
       "Preto           0.052697\n",
       "Gris            0.052513\n",
       "Azul            0.049591\n",
       "Plateado        0.035519\n",
       "Rojo            0.028569\n",
       "Branco          0.023419\n",
       "Verde           0.019050\n",
       "Rosa            0.017150\n",
       "Amarillo        0.015604\n",
       "Naranja         0.012384\n",
       "Transparente    0.009518\n",
       "Black           0.008100\n",
       "BLACK           0.007844\n",
       "Name: color_value, dtype: float64"
      ]
     },
     "execution_count": 68,
     "metadata": {},
     "output_type": "execute_result"
    }
   ],
   "source": [
    "df_raw.color_value.value_counts(normalize=True).head(15)"
   ]
  },
  {
   "cell_type": "code",
   "execution_count": 52,
   "metadata": {},
   "outputs": [],
   "source": [
    "def color_name_processing(color):\n",
    "    if color is not None:\n",
    "        color = color.lower()\n",
    "        color = re.sub(r'[^\\w\\s]', '', color)\n",
    "\n",
    "        color_dict = {\n",
    "            'black': ['negro', 'preto'],\n",
    "            'white': ['blanco', 'branco'],\n",
    "            'gray': ['gris', 'cinza'],\n",
    "            'dark gray': ['gris oscuro', 'cinza escuro'],\n",
    "            'blue': ['azul', 'azul marinho', 'marinho'],\n",
    "            'silver': ['plateado', 'prateado', 'prata', 'plata'],\n",
    "            'red': ['rojo', 'vermelho'],\n",
    "            'green': ['verde'],\n",
    "            'pink': ['rosa'],\n",
    "            'yellow': ['amarillo', 'amarelo'],\n",
    "            'orange': ['naranja', 'laranja'],\n",
    "            'transparent': ['transparente'],\n",
    "            'multicolor': ['multicolor'],\n",
    "            'turquoise': ['turquesa'],\n",
    "            'brown': ['marron', 'marrom'],\n",
    "            'purple': ['purpura', 'roxo'],\n",
    "            'gold': ['dorado', 'ouro'],\n",
    "            'beige': ['beige', 'bege'],\n",
    "            'maroon': ['granate', 'marrom escuro'],\n",
    "            'violet': ['violeta'],\n",
    "            'magenta': ['magenta'],\n",
    "            'salmon': ['salmao', 'salmon'],\n",
    "        }\n",
    "\n",
    "        if color in color_dict:\n",
    "            return color\n",
    "        else:\n",
    "            for standard_color, aliases in color_dict.items():\n",
    "                if color in aliases:\n",
    "                    return standard_color\n",
    "            return '<other>'\n",
    "    else:\n",
    "        return '<vazio>'"
   ]
  },
  {
   "cell_type": "code",
   "execution_count": 70,
   "metadata": {},
   "outputs": [],
   "source": [
    "df_raw['color_value'] = df_raw.color_value.apply(color_name_processing)"
   ]
  },
  {
   "cell_type": "code",
   "execution_count": 71,
   "metadata": {},
   "outputs": [
    {
     "data": {
      "text/plain": [
       "<vazio>    0.795797\n",
       "black      0.067596\n",
       "<other>    0.041441\n",
       "white      0.032644\n",
       "gray       0.012995\n",
       "blue       0.009938\n",
       "silver     0.009687\n",
       "red        0.007588\n",
       "green      0.003819\n",
       "yellow     0.003719\n",
       "Name: color_value, dtype: float64"
      ]
     },
     "execution_count": 71,
     "metadata": {},
     "output_type": "execute_result"
    }
   ],
   "source": [
    "df_raw[df_raw.sale_price_type != 'promotion'].color_value.value_counts(normalize=True).head(10)"
   ]
  },
  {
   "cell_type": "code",
   "execution_count": 72,
   "metadata": {},
   "outputs": [
    {
     "data": {
      "text/plain": [
       "<vazio>    0.610166\n",
       "black      0.130298\n",
       "<other>    0.090035\n",
       "white      0.049590\n",
       "blue       0.020820\n",
       "gray       0.020457\n",
       "silver     0.015824\n",
       "red        0.010206\n",
       "yellow     0.009176\n",
       "green      0.008040\n",
       "Name: color_value, dtype: float64"
      ]
     },
     "execution_count": 72,
     "metadata": {},
     "output_type": "execute_result"
    }
   ],
   "source": [
    "df_raw[df_raw.sale_price_type == 'promotion'].color_value.value_counts(normalize=True).head(10)"
   ]
  },
  {
   "cell_type": "code",
   "execution_count": 79,
   "metadata": {},
   "outputs": [],
   "source": [
    "df_raw['main_color_value'] = df_raw.main_color_value.apply(color_name_processing)"
   ]
  },
  {
   "cell_type": "code",
   "execution_count": 81,
   "metadata": {},
   "outputs": [
    {
     "data": {
      "text/plain": [
       "<vazio>    0.936401\n",
       "black      0.027018\n",
       "white      0.010988\n",
       "blue       0.004645\n",
       "gray       0.004212\n",
       "<other>    0.004020\n",
       "silver     0.002738\n",
       "red        0.002085\n",
       "green      0.001816\n",
       "pink       0.001798\n",
       "Name: main_color_value, dtype: float64"
      ]
     },
     "execution_count": 81,
     "metadata": {},
     "output_type": "execute_result"
    }
   ],
   "source": [
    "df_raw[df_raw.sale_price_type != 'promotion'].main_color_value.value_counts(normalize=True).head(10)\n"
   ]
  },
  {
   "cell_type": "code",
   "execution_count": 80,
   "metadata": {},
   "outputs": [
    {
     "data": {
      "text/plain": [
       "<vazio>    0.840175\n",
       "black      0.066974\n",
       "white      0.024303\n",
       "gray       0.014022\n",
       "blue       0.011644\n",
       "<other>    0.010811\n",
       "silver     0.007722\n",
       "red        0.004664\n",
       "pink       0.004361\n",
       "green      0.004119\n",
       "Name: main_color_value, dtype: float64"
      ]
     },
     "execution_count": 80,
     "metadata": {},
     "output_type": "execute_result"
    }
   ],
   "source": [
    "df_raw[df_raw.sale_price_type == 'promotion'].main_color_value.value_counts(normalize=True).head(10)\n"
   ]
  },
  {
   "cell_type": "markdown",
   "metadata": {},
   "source": [
    "### Atributo: `weight_value` (peso)\n",
    "\n",
    "Notou-se que a variável referente ao peso (`weight_value`) é uma string que acompanha o valor e sua unidade de medida. Então, decidiu-se uniformizá-la para uma única unidade (`g`) e transformá-la em numérica. Assim, primeiramente, analisou-se quais eram as unidades de medidas presente na amostra e, posteriormente, fez o mapping de sua respectiva conversão para grama."
   ]
  },
  {
   "cell_type": "code",
   "execution_count": null,
   "metadata": {},
   "outputs": [
    {
     "data": {
      "text/plain": [
       "array(['kg', nan, 'g', 'lb', 'oz', 'mg', 't', 'mcg'], dtype=object)"
      ]
     },
     "execution_count": 116,
     "metadata": {},
     "output_type": "execute_result"
    }
   ],
   "source": [
    "pattern = r'([\\d.,]+)\\s*([a-zA-Z]+)'\n",
    "\n",
    "unit_analyses = df_raw['weight_value'].str.extract(pattern, flags=re.IGNORECASE)\n",
    "unit_analyses.columns = ['valor', 'unidade']\n",
    "unit_analyses.unidade.unique()"
   ]
  },
  {
   "cell_type": "code",
   "execution_count": 152,
   "metadata": {},
   "outputs": [],
   "source": [
    "def weight_processing(weight_str_value):\n",
    "\n",
    "    if type(weight_str_value) == str:\n",
    "        if weight_str_value.strip() != '':\n",
    "            value, unit = re.match(r'(-?[\\d.,]+)\\s*([a-zA-Z]+)', weight_str_value.strip().lower(), re.IGNORECASE).groups()\n",
    "            conversao = {\n",
    "                'kg': 1000,\n",
    "                'g': 1,\n",
    "                'lb': 453.592,\n",
    "                'oz': 28.3495,\n",
    "                'mg': 0.001,\n",
    "                'mcg': 0.000001,\n",
    "                't': 1000000\n",
    "            }\n",
    "            mult = conversao.get(unit, np.nan)\n",
    "            return float(value)*mult\n",
    "    return np.nan"
   ]
  },
  {
   "cell_type": "code",
   "execution_count": 131,
   "metadata": {},
   "outputs": [
    {
     "data": {
      "text/plain": [
       "id                                                          MLA1703824864\n",
       "title                   Femmto Griferia Ducha Negra Monocomando Exteri...\n",
       "condition                                                             new\n",
       "thumbnail_id                                 726836-MLU78735428931_082024\n",
       "catalog_product_id                                            MLA34213447\n",
       "listing_type_id                                              gold_special\n",
       "sanitized_title                                                          \n",
       "permalink               https://www.mercadolibre.com.ar/femmto-griferi...\n",
       "buying_mode                                                    buy_it_now\n",
       "site_id                                                               MLA\n",
       "category_id                                                     MLA436134\n",
       "domain_id                                               MLA-SHOWER_PANELS\n",
       "thumbnail               http://http2.mlstatic.com/D_726836-MLU78735428...\n",
       "currency_id                                                           ARS\n",
       "order_backend                                                          11\n",
       "price                                                            99520.57\n",
       "original_price                                                   169999.0\n",
       "sale_price              {'amount': 99520.57, 'conditions': {'context_r...\n",
       "available_quantity                                                     50\n",
       "official_store_id                                                  2840.0\n",
       "use_thumbnail_id                                                     True\n",
       "accepts_mercadopago                                                  True\n",
       "shipping                {'benefits': None, 'free_shipping': True, 'log...\n",
       "stop_time                                        2044-03-09T04:00:00.000Z\n",
       "seller                  {'id': 113746522, 'nickname': 'FEMMTO ARGENTINA'}\n",
       "address                 {'city_id': 'TUxBQlZJTDQyMjFa', 'city_name': '...\n",
       "attributes              [{'attribute_group_id': 'OTHERS', 'attribute_g...\n",
       "installments            {'amount': 22368.91, 'currency_id': 'ARS', 'me...\n",
       "catalog_listing                                                      True\n",
       "inventory_id                                                    TOKX93720\n",
       "official_store_name                                      Femmto Argentina\n",
       "location                                                             None\n",
       "seller_contact                                                       None\n",
       "category_id_tratado                                                436134\n",
       "sale_price_type                                                 promotion\n",
       "brand_value                                                        femmto\n",
       "color_value                                                         black\n",
       "main_color_value                                                  <vazio>\n",
       "item_condition_value                                                Nuevo\n",
       "weight_value                                                        -1 kg\n",
       "Name: 42726, dtype: object"
      ]
     },
     "execution_count": 131,
     "metadata": {},
     "output_type": "execute_result"
    }
   ],
   "source": [
    "df_raw.iloc[42726]"
   ]
  },
  {
   "cell_type": "code",
   "execution_count": 158,
   "metadata": {},
   "outputs": [],
   "source": [
    "df_raw['weight_value'] = df_raw['weight_value'].apply(weight_processing)"
   ]
  },
  {
   "cell_type": "code",
   "execution_count": 160,
   "metadata": {},
   "outputs": [
    {
     "data": {
      "text/plain": [
       "count    3.163400e+04\n",
       "mean     3.224247e+06\n",
       "std      5.104158e+08\n",
       "min     -3.000000e+04\n",
       "25%      1.500000e+02\n",
       "50%      4.000000e+02\n",
       "75%      1.900000e+03\n",
       "max      9.010011e+10\n",
       "Name: weight_value, dtype: float64"
      ]
     },
     "execution_count": 160,
     "metadata": {},
     "output_type": "execute_result"
    }
   ],
   "source": [
    "df_raw[df_raw.sale_price_type != 'promotion']['weight_value'].describe()"
   ]
  },
  {
   "cell_type": "code",
   "execution_count": 161,
   "metadata": {},
   "outputs": [
    {
     "data": {
      "text/plain": [
       "count    1.760100e+04\n",
       "mean     1.496492e+04\n",
       "std      1.888311e+05\n",
       "min     -1.000000e+03\n",
       "25%      1.860000e+02\n",
       "50%      9.000000e+02\n",
       "75%      3.300000e+03\n",
       "max      1.111100e+07\n",
       "Name: weight_value, dtype: float64"
      ]
     },
     "execution_count": 161,
     "metadata": {},
     "output_type": "execute_result"
    }
   ],
   "source": [
    "df_raw[df_raw.sale_price_type == 'promotion']['weight_value'].describe()"
   ]
  },
  {
   "cell_type": "code",
   "execution_count": null,
   "metadata": {},
   "outputs": [],
   "source": []
  },
  {
   "cell_type": "code",
   "execution_count": null,
   "metadata": {},
   "outputs": [],
   "source": []
  },
  {
   "cell_type": "code",
   "execution_count": null,
   "metadata": {},
   "outputs": [],
   "source": []
  },
  {
   "cell_type": "code",
   "execution_count": null,
   "metadata": {},
   "outputs": [],
   "source": []
  },
  {
   "cell_type": "code",
   "execution_count": 10,
   "metadata": {},
   "outputs": [
    {
     "data": {
      "text/plain": [
       "10755     {'address_line': 'Av. Occidental N46-09, Quito...\n",
       "10756     {'address_line': 'Pasaje Joaquín Lalama, Quito...\n",
       "10757     {'address_line': 'PGH3+8X Quito, Ecuador', 'ci...\n",
       "10758     {'address_line': 'Rcto La Victoria alta 31 y 3...\n",
       "10759     {'address_line': 'Manuel Cabeza de Vaca 516, Q...\n",
       "                                ...                        \n",
       "284682    {'address_line': 'Sin salida 144', 'city': {'i...\n",
       "284683    {'address_line': '1 32', 'city': {'id': 'TVBBQ...\n",
       "284684    {'address_line': 'Calle Bugabita SN', 'city': ...\n",
       "284685    {'address_line': 'Subida delta Hosanna la cres...\n",
       "284686    {'address_line': '1 SN', 'city': {'id': 'TVBBQ...\n",
       "Name: location, Length: 29488, dtype: object"
      ]
     },
     "execution_count": 10,
     "metadata": {},
     "output_type": "execute_result"
    }
   ],
   "source": [
    "df_raw[~(df_raw.location.isna())]['location']"
   ]
  },
  {
   "cell_type": "code",
   "execution_count": 14,
   "metadata": {},
   "outputs": [
    {
     "data": {
      "text/plain": [
       "{'address_line': 'San Antonio SN',\n",
       " 'city': {'id': 'TUNSQ0RFU0FNUEFSQQ', 'name': 'Desamparados'},\n",
       " 'country': {'id': 'CR', 'name': 'Costa Rica'},\n",
       " 'latitude': 9.8988499,\n",
       " 'longitude': -84.0473336,\n",
       " 'neighborhood': {'id': None, 'name': None},\n",
       " 'state': {'id': 'TUNSUE1DUlNBTjI', 'name': 'San José'},\n",
       " 'subneighborhood': None,\n",
       " 'zip_code': ''}"
      ]
     },
     "execution_count": 14,
     "metadata": {},
     "output_type": "execute_result"
    }
   ],
   "source": [
    "df_raw[~(df_raw.location.isna())]['location'].iloc[10757]"
   ]
  },
  {
   "cell_type": "code",
   "execution_count": 16,
   "metadata": {},
   "outputs": [
    {
     "data": {
      "text/plain": [
       "'Desamparados'"
      ]
     },
     "execution_count": 16,
     "metadata": {},
     "output_type": "execute_result"
    }
   ],
   "source": [
    "df_raw[~(df_raw.location.isna())]['location'].iloc[10757].get('city').get('name', None)"
   ]
  },
  {
   "cell_type": "code",
   "execution_count": 19,
   "metadata": {},
   "outputs": [
    {
     "data": {
      "text/plain": [
       "{'amount': 36.89,\n",
       " 'conditions': {'context_restrictions': array(['channel_marketplace'], dtype=object),\n",
       "  'eligible': True,\n",
       "  'end_time': '2025-02-13T04:59:59Z',\n",
       "  'start_time': '2025-01-14T05:00:00Z'},\n",
       " 'currency_id': 'USD',\n",
       " 'exchange_rate': None,\n",
       " 'metadata': {'buy_quantity': None,\n",
       "  'campaign_discount_percentage': None,\n",
       "  'campaign_end_date': None,\n",
       "  'campaign_id': None,\n",
       "  'discount_meli_amount': None,\n",
       "  'experiment_id': None,\n",
       "  'funding_mode': None,\n",
       "  'order_item_price': None,\n",
       "  'pay_quantity': None,\n",
       "  'promotion_id': 'OFFER-MEC585311472-10735768559',\n",
       "  'promotion_type': 'custom',\n",
       "  'purchase_discount_campaign_id': None,\n",
       "  'purchase_discount_id': None,\n",
       "  'purchase_discount_percentage': None,\n",
       "  'purchase_discount_type': None,\n",
       "  'variation': None},\n",
       " 'payment_method_prices': array([], dtype=object),\n",
       " 'payment_method_type': 'TMP',\n",
       " 'price_id': '',\n",
       " 'regular_amount': 44.99,\n",
       " 'type': 'promotion'}"
      ]
     },
     "execution_count": 19,
     "metadata": {},
     "output_type": "execute_result"
    }
   ],
   "source": [
    "df_raw[~(df_raw.sale_price.isna())]['sale_price'].iloc[1]"
   ]
  }
 ],
 "metadata": {
  "kernelspec": {
   "display_name": "case_env",
   "language": "python",
   "name": "python3"
  },
  "language_info": {
   "codemirror_mode": {
    "name": "ipython",
    "version": 3
   },
   "file_extension": ".py",
   "mimetype": "text/x-python",
   "name": "python",
   "nbconvert_exporter": "python",
   "pygments_lexer": "ipython3",
   "version": "3.8.5"
  }
 },
 "nbformat": 4,
 "nbformat_minor": 2
}
