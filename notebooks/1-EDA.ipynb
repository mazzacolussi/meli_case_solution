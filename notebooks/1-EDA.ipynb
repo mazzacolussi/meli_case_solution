{
 "cells": [
  {
   "cell_type": "code",
   "execution_count": 59,
   "metadata": {},
   "outputs": [],
   "source": [
    "import os\n",
    "import pandas as pd\n",
    "import numpy as np\n",
    "import yaml\n",
    "\n",
    "import seaborn as sns\n",
    "import matplotlib.pyplot as plt\n",
    "\n",
    "import re\n",
    "\n",
    "from utils.training_utils import get_features_attribute\n",
    "\n",
    "import warnings\n",
    "warnings.filterwarnings('ignore')\n",
    "\n",
    "\n",
    "pd.set_option('display.max_rows', 50)\n",
    "pd.set_option('display.max_columns', 50)"
   ]
  },
  {
   "cell_type": "markdown",
   "metadata": {},
   "source": [
    "# Leitura dos arquivos auxiliares"
   ]
  },
  {
   "cell_type": "code",
   "execution_count": 2,
   "metadata": {},
   "outputs": [],
   "source": [
    "features_config = yaml.safe_load(open(os.path.join('..', 'src', 'config', 'feature_config.yaml'), \"r\"))\n",
    "features_struct = get_features_attribute(features_config, attribute='struct')"
   ]
  },
  {
   "cell_type": "markdown",
   "metadata": {},
   "source": [
    "# Leitura da base raw"
   ]
  },
  {
   "cell_type": "code",
   "execution_count": 3,
   "metadata": {},
   "outputs": [
    {
     "name": "stdout",
     "output_type": "stream",
     "text": [
      "(285195, 37)\n"
     ]
    },
    {
     "data": {
      "text/html": [
       "<div>\n",
       "<style scoped>\n",
       "    .dataframe tbody tr th:only-of-type {\n",
       "        vertical-align: middle;\n",
       "    }\n",
       "\n",
       "    .dataframe tbody tr th {\n",
       "        vertical-align: top;\n",
       "    }\n",
       "\n",
       "    .dataframe thead th {\n",
       "        text-align: right;\n",
       "    }\n",
       "</style>\n",
       "<table border=\"1\" class=\"dataframe\">\n",
       "  <thead>\n",
       "    <tr style=\"text-align: right;\">\n",
       "      <th></th>\n",
       "      <th>id</th>\n",
       "      <th>title</th>\n",
       "      <th>condition</th>\n",
       "      <th>thumbnail_id</th>\n",
       "      <th>catalog_product_id</th>\n",
       "      <th>listing_type_id</th>\n",
       "      <th>sanitized_title</th>\n",
       "      <th>permalink</th>\n",
       "      <th>buying_mode</th>\n",
       "      <th>site_id</th>\n",
       "      <th>category_id</th>\n",
       "      <th>domain_id</th>\n",
       "      <th>thumbnail</th>\n",
       "      <th>currency_id</th>\n",
       "      <th>order_backend</th>\n",
       "      <th>price</th>\n",
       "      <th>original_price</th>\n",
       "      <th>sale_price</th>\n",
       "      <th>available_quantity</th>\n",
       "      <th>official_store_id</th>\n",
       "      <th>use_thumbnail_id</th>\n",
       "      <th>accepts_mercadopago</th>\n",
       "      <th>shipping</th>\n",
       "      <th>stop_time</th>\n",
       "      <th>seller</th>\n",
       "      <th>address</th>\n",
       "      <th>attributes</th>\n",
       "      <th>installments</th>\n",
       "      <th>winner_item_id</th>\n",
       "      <th>catalog_listing</th>\n",
       "      <th>discounts</th>\n",
       "      <th>promotion_decorations</th>\n",
       "      <th>promotions</th>\n",
       "      <th>inventory_id</th>\n",
       "      <th>official_store_name</th>\n",
       "      <th>location</th>\n",
       "      <th>seller_contact</th>\n",
       "    </tr>\n",
       "  </thead>\n",
       "  <tbody>\n",
       "    <tr>\n",
       "      <th>0</th>\n",
       "      <td>MEC591721600</td>\n",
       "      <td>Consolas Play Station 5 Slim Edicion Digital</td>\n",
       "      <td>new</td>\n",
       "      <td>790276-MLU77965322054_082024</td>\n",
       "      <td>MEC29001054</td>\n",
       "      <td>gold_pro</td>\n",
       "      <td></td>\n",
       "      <td>https://www.mercadolibre.com.ec/consolas-play-...</td>\n",
       "      <td>buy_it_now</td>\n",
       "      <td>MEC</td>\n",
       "      <td>MEC3533</td>\n",
       "      <td>MEC-GAME_CONSOLES</td>\n",
       "      <td>http://http2.mlstatic.com/D_790276-MLU77965322...</td>\n",
       "      <td>USD</td>\n",
       "      <td>1</td>\n",
       "      <td>659.00</td>\n",
       "      <td>NaN</td>\n",
       "      <td>{'amount': 659.0, 'conditions': {'context_rest...</td>\n",
       "      <td>50</td>\n",
       "      <td>NaN</td>\n",
       "      <td>True</td>\n",
       "      <td>True</td>\n",
       "      <td>{'benefits': None, 'free_shipping': True, 'log...</td>\n",
       "      <td>2044-11-15T04:00:00.000Z</td>\n",
       "      <td>{'id': 63228264, 'nickname': 'MEGACELLCOM'}</td>\n",
       "      <td>{'city_id': 'RUMtUUnDsWFxdWl0bw', 'city_name':...</td>\n",
       "      <td>[{'attribute_group_id': 'OTHERS', 'attribute_g...</td>\n",
       "      <td>None</td>\n",
       "      <td>None</td>\n",
       "      <td>True</td>\n",
       "      <td>None</td>\n",
       "      <td>None</td>\n",
       "      <td>None</td>\n",
       "      <td>None</td>\n",
       "      <td>None</td>\n",
       "      <td>None</td>\n",
       "      <td>None</td>\n",
       "    </tr>\n",
       "    <tr>\n",
       "      <th>1</th>\n",
       "      <td>MEC585311472</td>\n",
       "      <td>Auriculares Inalámbricos Xiaomi Redmi Buds 6 P...</td>\n",
       "      <td>new</td>\n",
       "      <td>742884-MLA79765825031_102024</td>\n",
       "      <td>MEC39962085</td>\n",
       "      <td>bronze</td>\n",
       "      <td></td>\n",
       "      <td>https://www.mercadolibre.com.ec/auriculares-in...</td>\n",
       "      <td>buy_it_now</td>\n",
       "      <td>MEC</td>\n",
       "      <td>MEC121963</td>\n",
       "      <td>MEC-HEADPHONES</td>\n",
       "      <td>http://http2.mlstatic.com/D_742884-MLA79765825...</td>\n",
       "      <td>USD</td>\n",
       "      <td>2</td>\n",
       "      <td>36.89</td>\n",
       "      <td>44.99</td>\n",
       "      <td>{'amount': 36.89, 'conditions': {'context_rest...</td>\n",
       "      <td>1</td>\n",
       "      <td>NaN</td>\n",
       "      <td>True</td>\n",
       "      <td>True</td>\n",
       "      <td>{'benefits': None, 'free_shipping': True, 'log...</td>\n",
       "      <td>2044-09-17T04:00:00.000Z</td>\n",
       "      <td>{'id': 173825591, 'nickname': 'MAS_STORE'}</td>\n",
       "      <td>{'city_id': 'RUMtUUNhcmNlbMOpbg', 'city_name':...</td>\n",
       "      <td>[{'attribute_group_id': 'OTHERS', 'attribute_g...</td>\n",
       "      <td>None</td>\n",
       "      <td>None</td>\n",
       "      <td>True</td>\n",
       "      <td>None</td>\n",
       "      <td>None</td>\n",
       "      <td>None</td>\n",
       "      <td>None</td>\n",
       "      <td>None</td>\n",
       "      <td>None</td>\n",
       "      <td>None</td>\n",
       "    </tr>\n",
       "    <tr>\n",
       "      <th>2</th>\n",
       "      <td>MEC573483608</td>\n",
       "      <td>Microsoft Xbox Series X 1tb Carbon Black</td>\n",
       "      <td>new</td>\n",
       "      <td>942133-MLA74651936102_022024</td>\n",
       "      <td>MEC16160759</td>\n",
       "      <td>bronze</td>\n",
       "      <td></td>\n",
       "      <td>https://www.mercadolibre.com.ec/microsoft-xbox...</td>\n",
       "      <td>buy_it_now</td>\n",
       "      <td>MEC</td>\n",
       "      <td>MEC3533</td>\n",
       "      <td>MEC-GAME_CONSOLES</td>\n",
       "      <td>http://http2.mlstatic.com/D_942133-MLA74651936...</td>\n",
       "      <td>USD</td>\n",
       "      <td>3</td>\n",
       "      <td>887.43</td>\n",
       "      <td>986.04</td>\n",
       "      <td>{'amount': 887.43, 'conditions': {'context_res...</td>\n",
       "      <td>50</td>\n",
       "      <td>63508.0</td>\n",
       "      <td>True</td>\n",
       "      <td>True</td>\n",
       "      <td>{'benefits': None, 'free_shipping': True, 'log...</td>\n",
       "      <td>2044-05-11T04:00:00.000Z</td>\n",
       "      <td>{'id': 200533006, 'nickname': 'GAMING.EC'}</td>\n",
       "      <td>{'city_id': 'RUMtWVFUYXJxdWk', 'city_name': 'T...</td>\n",
       "      <td>[{'attribute_group_id': 'OTHERS', 'attribute_g...</td>\n",
       "      <td>None</td>\n",
       "      <td>None</td>\n",
       "      <td>True</td>\n",
       "      <td>None</td>\n",
       "      <td>None</td>\n",
       "      <td>None</td>\n",
       "      <td>None</td>\n",
       "      <td>GAMINGEC</td>\n",
       "      <td>None</td>\n",
       "      <td>None</td>\n",
       "    </tr>\n",
       "    <tr>\n",
       "      <th>3</th>\n",
       "      <td>MEC571416556</td>\n",
       "      <td>Auriculares Gamer G435 Logitech G Wireless Gam...</td>\n",
       "      <td>new</td>\n",
       "      <td>681820-MLU77493029189_072024</td>\n",
       "      <td>MEC18651916</td>\n",
       "      <td>bronze</td>\n",
       "      <td></td>\n",
       "      <td>https://www.mercadolibre.com.ec/auriculares-ga...</td>\n",
       "      <td>buy_it_now</td>\n",
       "      <td>MEC</td>\n",
       "      <td>MEC116670</td>\n",
       "      <td>MEC-HEADPHONES</td>\n",
       "      <td>http://http2.mlstatic.com/D_681820-MLU77493029...</td>\n",
       "      <td>USD</td>\n",
       "      <td>4</td>\n",
       "      <td>82.22</td>\n",
       "      <td>91.36</td>\n",
       "      <td>{'amount': 82.22, 'conditions': {'context_rest...</td>\n",
       "      <td>1</td>\n",
       "      <td>63508.0</td>\n",
       "      <td>True</td>\n",
       "      <td>True</td>\n",
       "      <td>{'benefits': None, 'free_shipping': True, 'log...</td>\n",
       "      <td>2044-04-19T04:00:00.000Z</td>\n",
       "      <td>{'id': 200533006, 'nickname': 'GAMING.EC'}</td>\n",
       "      <td>{'city_id': 'RUMtWVFUYXJxdWk', 'city_name': 'T...</td>\n",
       "      <td>[{'attribute_group_id': 'OTHERS', 'attribute_g...</td>\n",
       "      <td>None</td>\n",
       "      <td>None</td>\n",
       "      <td>True</td>\n",
       "      <td>None</td>\n",
       "      <td>None</td>\n",
       "      <td>None</td>\n",
       "      <td>None</td>\n",
       "      <td>GAMINGEC</td>\n",
       "      <td>None</td>\n",
       "      <td>None</td>\n",
       "    </tr>\n",
       "    <tr>\n",
       "      <th>4</th>\n",
       "      <td>MEC568777050</td>\n",
       "      <td>Oculus Quest 2 Advanced All In One Casco Vr 12...</td>\n",
       "      <td>new</td>\n",
       "      <td>929895-MLA51988203957_102022</td>\n",
       "      <td>MEC21236885</td>\n",
       "      <td>bronze</td>\n",
       "      <td></td>\n",
       "      <td>https://www.mercadolibre.com.ec/oculus-quest-2...</td>\n",
       "      <td>buy_it_now</td>\n",
       "      <td>MEC</td>\n",
       "      <td>MEC3533</td>\n",
       "      <td>MEC-GAME_CONSOLES</td>\n",
       "      <td>http://http2.mlstatic.com/D_929895-MLA51988203...</td>\n",
       "      <td>USD</td>\n",
       "      <td>5</td>\n",
       "      <td>443.70</td>\n",
       "      <td>493.00</td>\n",
       "      <td>{'amount': 443.7, 'conditions': {'context_rest...</td>\n",
       "      <td>1</td>\n",
       "      <td>63508.0</td>\n",
       "      <td>True</td>\n",
       "      <td>True</td>\n",
       "      <td>{'benefits': None, 'free_shipping': True, 'log...</td>\n",
       "      <td>2044-04-11T18:10:25.097Z</td>\n",
       "      <td>{'id': 200533006, 'nickname': 'GAMING.EC'}</td>\n",
       "      <td>{'city_id': 'RUMtWVFUYXJxdWk', 'city_name': 'T...</td>\n",
       "      <td>[{'attribute_group_id': 'OTHERS', 'attribute_g...</td>\n",
       "      <td>None</td>\n",
       "      <td>None</td>\n",
       "      <td>True</td>\n",
       "      <td>None</td>\n",
       "      <td>None</td>\n",
       "      <td>None</td>\n",
       "      <td>None</td>\n",
       "      <td>GAMINGEC</td>\n",
       "      <td>None</td>\n",
       "      <td>None</td>\n",
       "    </tr>\n",
       "  </tbody>\n",
       "</table>\n",
       "</div>"
      ],
      "text/plain": [
       "             id                                              title condition  \\\n",
       "0  MEC591721600       Consolas Play Station 5 Slim Edicion Digital       new   \n",
       "1  MEC585311472  Auriculares Inalámbricos Xiaomi Redmi Buds 6 P...       new   \n",
       "2  MEC573483608           Microsoft Xbox Series X 1tb Carbon Black       new   \n",
       "3  MEC571416556  Auriculares Gamer G435 Logitech G Wireless Gam...       new   \n",
       "4  MEC568777050  Oculus Quest 2 Advanced All In One Casco Vr 12...       new   \n",
       "\n",
       "                   thumbnail_id catalog_product_id listing_type_id  \\\n",
       "0  790276-MLU77965322054_082024        MEC29001054        gold_pro   \n",
       "1  742884-MLA79765825031_102024        MEC39962085          bronze   \n",
       "2  942133-MLA74651936102_022024        MEC16160759          bronze   \n",
       "3  681820-MLU77493029189_072024        MEC18651916          bronze   \n",
       "4  929895-MLA51988203957_102022        MEC21236885          bronze   \n",
       "\n",
       "  sanitized_title                                          permalink  \\\n",
       "0                  https://www.mercadolibre.com.ec/consolas-play-...   \n",
       "1                  https://www.mercadolibre.com.ec/auriculares-in...   \n",
       "2                  https://www.mercadolibre.com.ec/microsoft-xbox...   \n",
       "3                  https://www.mercadolibre.com.ec/auriculares-ga...   \n",
       "4                  https://www.mercadolibre.com.ec/oculus-quest-2...   \n",
       "\n",
       "  buying_mode site_id category_id          domain_id  \\\n",
       "0  buy_it_now     MEC     MEC3533  MEC-GAME_CONSOLES   \n",
       "1  buy_it_now     MEC   MEC121963     MEC-HEADPHONES   \n",
       "2  buy_it_now     MEC     MEC3533  MEC-GAME_CONSOLES   \n",
       "3  buy_it_now     MEC   MEC116670     MEC-HEADPHONES   \n",
       "4  buy_it_now     MEC     MEC3533  MEC-GAME_CONSOLES   \n",
       "\n",
       "                                           thumbnail currency_id  \\\n",
       "0  http://http2.mlstatic.com/D_790276-MLU77965322...         USD   \n",
       "1  http://http2.mlstatic.com/D_742884-MLA79765825...         USD   \n",
       "2  http://http2.mlstatic.com/D_942133-MLA74651936...         USD   \n",
       "3  http://http2.mlstatic.com/D_681820-MLU77493029...         USD   \n",
       "4  http://http2.mlstatic.com/D_929895-MLA51988203...         USD   \n",
       "\n",
       "   order_backend   price  original_price  \\\n",
       "0              1  659.00             NaN   \n",
       "1              2   36.89           44.99   \n",
       "2              3  887.43          986.04   \n",
       "3              4   82.22           91.36   \n",
       "4              5  443.70          493.00   \n",
       "\n",
       "                                          sale_price  available_quantity  \\\n",
       "0  {'amount': 659.0, 'conditions': {'context_rest...                  50   \n",
       "1  {'amount': 36.89, 'conditions': {'context_rest...                   1   \n",
       "2  {'amount': 887.43, 'conditions': {'context_res...                  50   \n",
       "3  {'amount': 82.22, 'conditions': {'context_rest...                   1   \n",
       "4  {'amount': 443.7, 'conditions': {'context_rest...                   1   \n",
       "\n",
       "   official_store_id  use_thumbnail_id  accepts_mercadopago  \\\n",
       "0                NaN              True                 True   \n",
       "1                NaN              True                 True   \n",
       "2            63508.0              True                 True   \n",
       "3            63508.0              True                 True   \n",
       "4            63508.0              True                 True   \n",
       "\n",
       "                                            shipping  \\\n",
       "0  {'benefits': None, 'free_shipping': True, 'log...   \n",
       "1  {'benefits': None, 'free_shipping': True, 'log...   \n",
       "2  {'benefits': None, 'free_shipping': True, 'log...   \n",
       "3  {'benefits': None, 'free_shipping': True, 'log...   \n",
       "4  {'benefits': None, 'free_shipping': True, 'log...   \n",
       "\n",
       "                  stop_time                                       seller  \\\n",
       "0  2044-11-15T04:00:00.000Z  {'id': 63228264, 'nickname': 'MEGACELLCOM'}   \n",
       "1  2044-09-17T04:00:00.000Z   {'id': 173825591, 'nickname': 'MAS_STORE'}   \n",
       "2  2044-05-11T04:00:00.000Z   {'id': 200533006, 'nickname': 'GAMING.EC'}   \n",
       "3  2044-04-19T04:00:00.000Z   {'id': 200533006, 'nickname': 'GAMING.EC'}   \n",
       "4  2044-04-11T18:10:25.097Z   {'id': 200533006, 'nickname': 'GAMING.EC'}   \n",
       "\n",
       "                                             address  \\\n",
       "0  {'city_id': 'RUMtUUnDsWFxdWl0bw', 'city_name':...   \n",
       "1  {'city_id': 'RUMtUUNhcmNlbMOpbg', 'city_name':...   \n",
       "2  {'city_id': 'RUMtWVFUYXJxdWk', 'city_name': 'T...   \n",
       "3  {'city_id': 'RUMtWVFUYXJxdWk', 'city_name': 'T...   \n",
       "4  {'city_id': 'RUMtWVFUYXJxdWk', 'city_name': 'T...   \n",
       "\n",
       "                                          attributes installments  \\\n",
       "0  [{'attribute_group_id': 'OTHERS', 'attribute_g...         None   \n",
       "1  [{'attribute_group_id': 'OTHERS', 'attribute_g...         None   \n",
       "2  [{'attribute_group_id': 'OTHERS', 'attribute_g...         None   \n",
       "3  [{'attribute_group_id': 'OTHERS', 'attribute_g...         None   \n",
       "4  [{'attribute_group_id': 'OTHERS', 'attribute_g...         None   \n",
       "\n",
       "  winner_item_id  catalog_listing discounts promotion_decorations promotions  \\\n",
       "0           None             True      None                  None       None   \n",
       "1           None             True      None                  None       None   \n",
       "2           None             True      None                  None       None   \n",
       "3           None             True      None                  None       None   \n",
       "4           None             True      None                  None       None   \n",
       "\n",
       "  inventory_id official_store_name location seller_contact  \n",
       "0         None                None     None           None  \n",
       "1         None                None     None           None  \n",
       "2         None            GAMINGEC     None           None  \n",
       "3         None            GAMINGEC     None           None  \n",
       "4         None            GAMINGEC     None           None  "
      ]
     },
     "execution_count": 3,
     "metadata": {},
     "output_type": "execute_result"
    }
   ],
   "source": [
    "df_raw = pd.read_parquet(os.path.join('..', 'data', 'raw', 'amostra_raw.parquet'))\n",
    "\n",
    "print(df_raw.shape)\n",
    "df_raw.head()"
   ]
  },
  {
   "cell_type": "code",
   "execution_count": 4,
   "metadata": {},
   "outputs": [
    {
     "name": "stdout",
     "output_type": "stream",
     "text": [
      "<class 'pandas.core.frame.DataFrame'>\n",
      "RangeIndex: 285195 entries, 0 to 285194\n",
      "Data columns (total 37 columns):\n",
      " #   Column                 Non-Null Count   Dtype  \n",
      "---  ------                 --------------   -----  \n",
      " 0   id                     285195 non-null  object \n",
      " 1   title                  285195 non-null  object \n",
      " 2   condition              274680 non-null  object \n",
      " 3   thumbnail_id           285195 non-null  object \n",
      " 4   catalog_product_id     135672 non-null  object \n",
      " 5   listing_type_id        285195 non-null  object \n",
      " 6   sanitized_title        285195 non-null  object \n",
      " 7   permalink              285195 non-null  object \n",
      " 8   buying_mode            285195 non-null  object \n",
      " 9   site_id                285195 non-null  object \n",
      " 10  category_id            285195 non-null  object \n",
      " 11  domain_id              285195 non-null  object \n",
      " 12  thumbnail              285195 non-null  object \n",
      " 13  currency_id            278614 non-null  object \n",
      " 14  order_backend          285195 non-null  int64  \n",
      " 15  price                  278614 non-null  float64\n",
      " 16  original_price         67126 non-null   float64\n",
      " 17  sale_price             239128 non-null  object \n",
      " 18  available_quantity     285195 non-null  int64  \n",
      " 19  official_store_id      64146 non-null   float64\n",
      " 20  use_thumbnail_id       285195 non-null  bool   \n",
      " 21  accepts_mercadopago    285195 non-null  bool   \n",
      " 22  shipping               285195 non-null  object \n",
      " 23  stop_time              285195 non-null  object \n",
      " 24  seller                 285193 non-null  object \n",
      " 25  address                278765 non-null  object \n",
      " 26  attributes             285195 non-null  object \n",
      " 27  installments           124831 non-null  object \n",
      " 28  winner_item_id         0 non-null       object \n",
      " 29  catalog_listing        285195 non-null  bool   \n",
      " 30  discounts              0 non-null       object \n",
      " 31  promotion_decorations  0 non-null       object \n",
      " 32  promotions             0 non-null       object \n",
      " 33  inventory_id           47983 non-null   object \n",
      " 34  official_store_name    63010 non-null   object \n",
      " 35  location               29488 non-null   object \n",
      " 36  seller_contact         29488 non-null   object \n",
      "dtypes: bool(3), float64(3), int64(2), object(29)\n",
      "memory usage: 74.8+ MB\n"
     ]
    }
   ],
   "source": [
    "df_raw.info()"
   ]
  },
  {
   "cell_type": "code",
   "execution_count": 5,
   "metadata": {},
   "outputs": [
    {
     "data": {
      "text/plain": [
       "id                       1.000000\n",
       "title                    1.000000\n",
       "condition                0.963130\n",
       "thumbnail_id             1.000000\n",
       "catalog_product_id       0.475717\n",
       "listing_type_id          1.000000\n",
       "sanitized_title          1.000000\n",
       "permalink                1.000000\n",
       "buying_mode              1.000000\n",
       "site_id                  1.000000\n",
       "category_id              1.000000\n",
       "domain_id                1.000000\n",
       "thumbnail                1.000000\n",
       "currency_id              0.976925\n",
       "order_backend            1.000000\n",
       "price                    0.976925\n",
       "original_price           0.235369\n",
       "sale_price               0.838472\n",
       "available_quantity       1.000000\n",
       "official_store_id        0.224920\n",
       "use_thumbnail_id         1.000000\n",
       "accepts_mercadopago      1.000000\n",
       "shipping                 1.000000\n",
       "stop_time                1.000000\n",
       "seller                   0.999993\n",
       "address                  0.977454\n",
       "attributes               1.000000\n",
       "installments             0.437704\n",
       "winner_item_id           0.000000\n",
       "catalog_listing          1.000000\n",
       "discounts                0.000000\n",
       "promotion_decorations    0.000000\n",
       "promotions               0.000000\n",
       "inventory_id             0.168246\n",
       "official_store_name      0.220937\n",
       "location                 0.103396\n",
       "seller_contact           0.103396\n",
       "dtype: float64"
      ]
     },
     "execution_count": 5,
     "metadata": {},
     "output_type": "execute_result"
    }
   ],
   "source": [
    "(df_raw.shape[0] - df_raw.isnull().sum()) / (df_raw.shape[0])"
   ]
  },
  {
   "cell_type": "code",
   "execution_count": 6,
   "metadata": {},
   "outputs": [],
   "source": [
    "df_raw.loc[:, (~df_raw.columns.isin(list(features_struct.keys())))] = df_raw.loc[:, (~df_raw.columns.isin(list(features_struct.keys())))].replace('', None)"
   ]
  },
  {
   "cell_type": "code",
   "execution_count": 7,
   "metadata": {},
   "outputs": [
    {
     "data": {
      "text/plain": [
       "Index(['sanitized_title', 'winner_item_id', 'discounts',\n",
       "       'promotion_decorations', 'promotions'],\n",
       "      dtype='object')"
      ]
     },
     "execution_count": 7,
     "metadata": {},
     "output_type": "execute_result"
    }
   ],
   "source": [
    "df_raw.columns[df_raw.isnull().all()]"
   ]
  },
  {
   "cell_type": "code",
   "execution_count": 8,
   "metadata": {},
   "outputs": [
    {
     "name": "stdout",
     "output_type": "stream",
     "text": [
      "(285195, 32)\n"
     ]
    },
    {
     "data": {
      "text/html": [
       "<div>\n",
       "<style scoped>\n",
       "    .dataframe tbody tr th:only-of-type {\n",
       "        vertical-align: middle;\n",
       "    }\n",
       "\n",
       "    .dataframe tbody tr th {\n",
       "        vertical-align: top;\n",
       "    }\n",
       "\n",
       "    .dataframe thead th {\n",
       "        text-align: right;\n",
       "    }\n",
       "</style>\n",
       "<table border=\"1\" class=\"dataframe\">\n",
       "  <thead>\n",
       "    <tr style=\"text-align: right;\">\n",
       "      <th></th>\n",
       "      <th>id</th>\n",
       "      <th>title</th>\n",
       "      <th>condition</th>\n",
       "      <th>thumbnail_id</th>\n",
       "      <th>catalog_product_id</th>\n",
       "      <th>listing_type_id</th>\n",
       "      <th>permalink</th>\n",
       "      <th>buying_mode</th>\n",
       "      <th>site_id</th>\n",
       "      <th>category_id</th>\n",
       "      <th>domain_id</th>\n",
       "      <th>thumbnail</th>\n",
       "      <th>currency_id</th>\n",
       "      <th>order_backend</th>\n",
       "      <th>price</th>\n",
       "      <th>original_price</th>\n",
       "      <th>sale_price</th>\n",
       "      <th>available_quantity</th>\n",
       "      <th>official_store_id</th>\n",
       "      <th>use_thumbnail_id</th>\n",
       "      <th>accepts_mercadopago</th>\n",
       "      <th>shipping</th>\n",
       "      <th>stop_time</th>\n",
       "      <th>seller</th>\n",
       "      <th>address</th>\n",
       "      <th>attributes</th>\n",
       "      <th>installments</th>\n",
       "      <th>catalog_listing</th>\n",
       "      <th>inventory_id</th>\n",
       "      <th>official_store_name</th>\n",
       "      <th>location</th>\n",
       "      <th>seller_contact</th>\n",
       "    </tr>\n",
       "  </thead>\n",
       "  <tbody>\n",
       "    <tr>\n",
       "      <th>0</th>\n",
       "      <td>MEC591721600</td>\n",
       "      <td>Consolas Play Station 5 Slim Edicion Digital</td>\n",
       "      <td>new</td>\n",
       "      <td>790276-MLU77965322054_082024</td>\n",
       "      <td>MEC29001054</td>\n",
       "      <td>gold_pro</td>\n",
       "      <td>https://www.mercadolibre.com.ec/consolas-play-...</td>\n",
       "      <td>buy_it_now</td>\n",
       "      <td>MEC</td>\n",
       "      <td>MEC3533</td>\n",
       "      <td>MEC-GAME_CONSOLES</td>\n",
       "      <td>http://http2.mlstatic.com/D_790276-MLU77965322...</td>\n",
       "      <td>USD</td>\n",
       "      <td>1</td>\n",
       "      <td>659.00</td>\n",
       "      <td>NaN</td>\n",
       "      <td>{'amount': 659.0, 'conditions': {'context_rest...</td>\n",
       "      <td>50</td>\n",
       "      <td>NaN</td>\n",
       "      <td>True</td>\n",
       "      <td>True</td>\n",
       "      <td>{'benefits': None, 'free_shipping': True, 'log...</td>\n",
       "      <td>2044-11-15T04:00:00.000Z</td>\n",
       "      <td>{'id': 63228264, 'nickname': 'MEGACELLCOM'}</td>\n",
       "      <td>{'city_id': 'RUMtUUnDsWFxdWl0bw', 'city_name':...</td>\n",
       "      <td>[{'attribute_group_id': 'OTHERS', 'attribute_g...</td>\n",
       "      <td>None</td>\n",
       "      <td>True</td>\n",
       "      <td>None</td>\n",
       "      <td>None</td>\n",
       "      <td>None</td>\n",
       "      <td>None</td>\n",
       "    </tr>\n",
       "    <tr>\n",
       "      <th>1</th>\n",
       "      <td>MEC585311472</td>\n",
       "      <td>Auriculares Inalámbricos Xiaomi Redmi Buds 6 P...</td>\n",
       "      <td>new</td>\n",
       "      <td>742884-MLA79765825031_102024</td>\n",
       "      <td>MEC39962085</td>\n",
       "      <td>bronze</td>\n",
       "      <td>https://www.mercadolibre.com.ec/auriculares-in...</td>\n",
       "      <td>buy_it_now</td>\n",
       "      <td>MEC</td>\n",
       "      <td>MEC121963</td>\n",
       "      <td>MEC-HEADPHONES</td>\n",
       "      <td>http://http2.mlstatic.com/D_742884-MLA79765825...</td>\n",
       "      <td>USD</td>\n",
       "      <td>2</td>\n",
       "      <td>36.89</td>\n",
       "      <td>44.99</td>\n",
       "      <td>{'amount': 36.89, 'conditions': {'context_rest...</td>\n",
       "      <td>1</td>\n",
       "      <td>NaN</td>\n",
       "      <td>True</td>\n",
       "      <td>True</td>\n",
       "      <td>{'benefits': None, 'free_shipping': True, 'log...</td>\n",
       "      <td>2044-09-17T04:00:00.000Z</td>\n",
       "      <td>{'id': 173825591, 'nickname': 'MAS_STORE'}</td>\n",
       "      <td>{'city_id': 'RUMtUUNhcmNlbMOpbg', 'city_name':...</td>\n",
       "      <td>[{'attribute_group_id': 'OTHERS', 'attribute_g...</td>\n",
       "      <td>None</td>\n",
       "      <td>True</td>\n",
       "      <td>None</td>\n",
       "      <td>None</td>\n",
       "      <td>None</td>\n",
       "      <td>None</td>\n",
       "    </tr>\n",
       "    <tr>\n",
       "      <th>2</th>\n",
       "      <td>MEC573483608</td>\n",
       "      <td>Microsoft Xbox Series X 1tb Carbon Black</td>\n",
       "      <td>new</td>\n",
       "      <td>942133-MLA74651936102_022024</td>\n",
       "      <td>MEC16160759</td>\n",
       "      <td>bronze</td>\n",
       "      <td>https://www.mercadolibre.com.ec/microsoft-xbox...</td>\n",
       "      <td>buy_it_now</td>\n",
       "      <td>MEC</td>\n",
       "      <td>MEC3533</td>\n",
       "      <td>MEC-GAME_CONSOLES</td>\n",
       "      <td>http://http2.mlstatic.com/D_942133-MLA74651936...</td>\n",
       "      <td>USD</td>\n",
       "      <td>3</td>\n",
       "      <td>887.43</td>\n",
       "      <td>986.04</td>\n",
       "      <td>{'amount': 887.43, 'conditions': {'context_res...</td>\n",
       "      <td>50</td>\n",
       "      <td>63508.0</td>\n",
       "      <td>True</td>\n",
       "      <td>True</td>\n",
       "      <td>{'benefits': None, 'free_shipping': True, 'log...</td>\n",
       "      <td>2044-05-11T04:00:00.000Z</td>\n",
       "      <td>{'id': 200533006, 'nickname': 'GAMING.EC'}</td>\n",
       "      <td>{'city_id': 'RUMtWVFUYXJxdWk', 'city_name': 'T...</td>\n",
       "      <td>[{'attribute_group_id': 'OTHERS', 'attribute_g...</td>\n",
       "      <td>None</td>\n",
       "      <td>True</td>\n",
       "      <td>None</td>\n",
       "      <td>GAMINGEC</td>\n",
       "      <td>None</td>\n",
       "      <td>None</td>\n",
       "    </tr>\n",
       "    <tr>\n",
       "      <th>3</th>\n",
       "      <td>MEC571416556</td>\n",
       "      <td>Auriculares Gamer G435 Logitech G Wireless Gam...</td>\n",
       "      <td>new</td>\n",
       "      <td>681820-MLU77493029189_072024</td>\n",
       "      <td>MEC18651916</td>\n",
       "      <td>bronze</td>\n",
       "      <td>https://www.mercadolibre.com.ec/auriculares-ga...</td>\n",
       "      <td>buy_it_now</td>\n",
       "      <td>MEC</td>\n",
       "      <td>MEC116670</td>\n",
       "      <td>MEC-HEADPHONES</td>\n",
       "      <td>http://http2.mlstatic.com/D_681820-MLU77493029...</td>\n",
       "      <td>USD</td>\n",
       "      <td>4</td>\n",
       "      <td>82.22</td>\n",
       "      <td>91.36</td>\n",
       "      <td>{'amount': 82.22, 'conditions': {'context_rest...</td>\n",
       "      <td>1</td>\n",
       "      <td>63508.0</td>\n",
       "      <td>True</td>\n",
       "      <td>True</td>\n",
       "      <td>{'benefits': None, 'free_shipping': True, 'log...</td>\n",
       "      <td>2044-04-19T04:00:00.000Z</td>\n",
       "      <td>{'id': 200533006, 'nickname': 'GAMING.EC'}</td>\n",
       "      <td>{'city_id': 'RUMtWVFUYXJxdWk', 'city_name': 'T...</td>\n",
       "      <td>[{'attribute_group_id': 'OTHERS', 'attribute_g...</td>\n",
       "      <td>None</td>\n",
       "      <td>True</td>\n",
       "      <td>None</td>\n",
       "      <td>GAMINGEC</td>\n",
       "      <td>None</td>\n",
       "      <td>None</td>\n",
       "    </tr>\n",
       "    <tr>\n",
       "      <th>4</th>\n",
       "      <td>MEC568777050</td>\n",
       "      <td>Oculus Quest 2 Advanced All In One Casco Vr 12...</td>\n",
       "      <td>new</td>\n",
       "      <td>929895-MLA51988203957_102022</td>\n",
       "      <td>MEC21236885</td>\n",
       "      <td>bronze</td>\n",
       "      <td>https://www.mercadolibre.com.ec/oculus-quest-2...</td>\n",
       "      <td>buy_it_now</td>\n",
       "      <td>MEC</td>\n",
       "      <td>MEC3533</td>\n",
       "      <td>MEC-GAME_CONSOLES</td>\n",
       "      <td>http://http2.mlstatic.com/D_929895-MLA51988203...</td>\n",
       "      <td>USD</td>\n",
       "      <td>5</td>\n",
       "      <td>443.70</td>\n",
       "      <td>493.00</td>\n",
       "      <td>{'amount': 443.7, 'conditions': {'context_rest...</td>\n",
       "      <td>1</td>\n",
       "      <td>63508.0</td>\n",
       "      <td>True</td>\n",
       "      <td>True</td>\n",
       "      <td>{'benefits': None, 'free_shipping': True, 'log...</td>\n",
       "      <td>2044-04-11T18:10:25.097Z</td>\n",
       "      <td>{'id': 200533006, 'nickname': 'GAMING.EC'}</td>\n",
       "      <td>{'city_id': 'RUMtWVFUYXJxdWk', 'city_name': 'T...</td>\n",
       "      <td>[{'attribute_group_id': 'OTHERS', 'attribute_g...</td>\n",
       "      <td>None</td>\n",
       "      <td>True</td>\n",
       "      <td>None</td>\n",
       "      <td>GAMINGEC</td>\n",
       "      <td>None</td>\n",
       "      <td>None</td>\n",
       "    </tr>\n",
       "  </tbody>\n",
       "</table>\n",
       "</div>"
      ],
      "text/plain": [
       "             id                                              title condition  \\\n",
       "0  MEC591721600       Consolas Play Station 5 Slim Edicion Digital       new   \n",
       "1  MEC585311472  Auriculares Inalámbricos Xiaomi Redmi Buds 6 P...       new   \n",
       "2  MEC573483608           Microsoft Xbox Series X 1tb Carbon Black       new   \n",
       "3  MEC571416556  Auriculares Gamer G435 Logitech G Wireless Gam...       new   \n",
       "4  MEC568777050  Oculus Quest 2 Advanced All In One Casco Vr 12...       new   \n",
       "\n",
       "                   thumbnail_id catalog_product_id listing_type_id  \\\n",
       "0  790276-MLU77965322054_082024        MEC29001054        gold_pro   \n",
       "1  742884-MLA79765825031_102024        MEC39962085          bronze   \n",
       "2  942133-MLA74651936102_022024        MEC16160759          bronze   \n",
       "3  681820-MLU77493029189_072024        MEC18651916          bronze   \n",
       "4  929895-MLA51988203957_102022        MEC21236885          bronze   \n",
       "\n",
       "                                           permalink buying_mode site_id  \\\n",
       "0  https://www.mercadolibre.com.ec/consolas-play-...  buy_it_now     MEC   \n",
       "1  https://www.mercadolibre.com.ec/auriculares-in...  buy_it_now     MEC   \n",
       "2  https://www.mercadolibre.com.ec/microsoft-xbox...  buy_it_now     MEC   \n",
       "3  https://www.mercadolibre.com.ec/auriculares-ga...  buy_it_now     MEC   \n",
       "4  https://www.mercadolibre.com.ec/oculus-quest-2...  buy_it_now     MEC   \n",
       "\n",
       "  category_id          domain_id  \\\n",
       "0     MEC3533  MEC-GAME_CONSOLES   \n",
       "1   MEC121963     MEC-HEADPHONES   \n",
       "2     MEC3533  MEC-GAME_CONSOLES   \n",
       "3   MEC116670     MEC-HEADPHONES   \n",
       "4     MEC3533  MEC-GAME_CONSOLES   \n",
       "\n",
       "                                           thumbnail currency_id  \\\n",
       "0  http://http2.mlstatic.com/D_790276-MLU77965322...         USD   \n",
       "1  http://http2.mlstatic.com/D_742884-MLA79765825...         USD   \n",
       "2  http://http2.mlstatic.com/D_942133-MLA74651936...         USD   \n",
       "3  http://http2.mlstatic.com/D_681820-MLU77493029...         USD   \n",
       "4  http://http2.mlstatic.com/D_929895-MLA51988203...         USD   \n",
       "\n",
       "   order_backend   price  original_price  \\\n",
       "0              1  659.00             NaN   \n",
       "1              2   36.89           44.99   \n",
       "2              3  887.43          986.04   \n",
       "3              4   82.22           91.36   \n",
       "4              5  443.70          493.00   \n",
       "\n",
       "                                          sale_price  available_quantity  \\\n",
       "0  {'amount': 659.0, 'conditions': {'context_rest...                  50   \n",
       "1  {'amount': 36.89, 'conditions': {'context_rest...                   1   \n",
       "2  {'amount': 887.43, 'conditions': {'context_res...                  50   \n",
       "3  {'amount': 82.22, 'conditions': {'context_rest...                   1   \n",
       "4  {'amount': 443.7, 'conditions': {'context_rest...                   1   \n",
       "\n",
       "   official_store_id  use_thumbnail_id  accepts_mercadopago  \\\n",
       "0                NaN              True                 True   \n",
       "1                NaN              True                 True   \n",
       "2            63508.0              True                 True   \n",
       "3            63508.0              True                 True   \n",
       "4            63508.0              True                 True   \n",
       "\n",
       "                                            shipping  \\\n",
       "0  {'benefits': None, 'free_shipping': True, 'log...   \n",
       "1  {'benefits': None, 'free_shipping': True, 'log...   \n",
       "2  {'benefits': None, 'free_shipping': True, 'log...   \n",
       "3  {'benefits': None, 'free_shipping': True, 'log...   \n",
       "4  {'benefits': None, 'free_shipping': True, 'log...   \n",
       "\n",
       "                  stop_time                                       seller  \\\n",
       "0  2044-11-15T04:00:00.000Z  {'id': 63228264, 'nickname': 'MEGACELLCOM'}   \n",
       "1  2044-09-17T04:00:00.000Z   {'id': 173825591, 'nickname': 'MAS_STORE'}   \n",
       "2  2044-05-11T04:00:00.000Z   {'id': 200533006, 'nickname': 'GAMING.EC'}   \n",
       "3  2044-04-19T04:00:00.000Z   {'id': 200533006, 'nickname': 'GAMING.EC'}   \n",
       "4  2044-04-11T18:10:25.097Z   {'id': 200533006, 'nickname': 'GAMING.EC'}   \n",
       "\n",
       "                                             address  \\\n",
       "0  {'city_id': 'RUMtUUnDsWFxdWl0bw', 'city_name':...   \n",
       "1  {'city_id': 'RUMtUUNhcmNlbMOpbg', 'city_name':...   \n",
       "2  {'city_id': 'RUMtWVFUYXJxdWk', 'city_name': 'T...   \n",
       "3  {'city_id': 'RUMtWVFUYXJxdWk', 'city_name': 'T...   \n",
       "4  {'city_id': 'RUMtWVFUYXJxdWk', 'city_name': 'T...   \n",
       "\n",
       "                                          attributes installments  \\\n",
       "0  [{'attribute_group_id': 'OTHERS', 'attribute_g...         None   \n",
       "1  [{'attribute_group_id': 'OTHERS', 'attribute_g...         None   \n",
       "2  [{'attribute_group_id': 'OTHERS', 'attribute_g...         None   \n",
       "3  [{'attribute_group_id': 'OTHERS', 'attribute_g...         None   \n",
       "4  [{'attribute_group_id': 'OTHERS', 'attribute_g...         None   \n",
       "\n",
       "   catalog_listing inventory_id official_store_name location seller_contact  \n",
       "0             True         None                None     None           None  \n",
       "1             True         None                None     None           None  \n",
       "2             True         None            GAMINGEC     None           None  \n",
       "3             True         None            GAMINGEC     None           None  \n",
       "4             True         None            GAMINGEC     None           None  "
      ]
     },
     "execution_count": 8,
     "metadata": {},
     "output_type": "execute_result"
    }
   ],
   "source": [
    "df_raw = df_raw.dropna(axis=1, how='all')\n",
    "\n",
    "print(df_raw.shape)\n",
    "df_raw.head()"
   ]
  },
  {
   "cell_type": "code",
   "execution_count": 9,
   "metadata": {},
   "outputs": [
    {
     "data": {
      "text/plain": [
       "13555"
      ]
     },
     "execution_count": 9,
     "metadata": {},
     "output_type": "execute_result"
    }
   ],
   "source": [
    "(\n",
    "    df_raw.loc[:, (~df_raw.columns.isin(list(features_struct.keys()) + ['order_backend']))]\n",
    "    .duplicated()\n",
    "    .sum()\n",
    ")"
   ]
  },
  {
   "cell_type": "code",
   "execution_count": 10,
   "metadata": {},
   "outputs": [
    {
     "name": "stdout",
     "output_type": "stream",
     "text": [
      "(271640, 32)\n"
     ]
    },
    {
     "data": {
      "text/plain": [
       "0"
      ]
     },
     "execution_count": 10,
     "metadata": {},
     "output_type": "execute_result"
    }
   ],
   "source": [
    "df_raw = df_raw.drop_duplicates(subset='id', keep='first')\n",
    "\n",
    "print(df_raw.shape)\n",
    "\n",
    "(\n",
    "    df_raw.loc[:, (~df_raw.columns.isin(list(features_struct.keys()) + ['order_backend']))]\n",
    "    .duplicated()\n",
    "    .sum()\n",
    ")"
   ]
  },
  {
   "cell_type": "code",
   "execution_count": 11,
   "metadata": {},
   "outputs": [
    {
     "name": "stdout",
     "output_type": "stream",
     "text": [
      "Número de categorias distintas (considerando o ID do país): 25011\n",
      "Número de categorias distintas (após tratamento): 15210\n"
     ]
    }
   ],
   "source": [
    "df_raw['category_id_tratado'] = df_raw.category_id.apply(lambda x: x[3:])\n",
    "\n",
    "print(f\"Número de categorias distintas (considerando o ID do país): {df_raw['category_id'].nunique()}\")\n",
    "print(f\"Número de categorias distintas (após tratamento): {df_raw['category_id_tratado'].nunique()}\")"
   ]
  },
  {
   "cell_type": "code",
   "execution_count": 96,
   "metadata": {},
   "outputs": [
    {
     "data": {
      "image/png": "[encoded data removed]",
      "text/plain": [
       "<Figure size 1200x500 with 1 Axes>"
      ]
     },
     "metadata": {},
     "output_type": "display_data"
    }
   ],
   "source": [
    "region_counts = df_raw['site_id'].value_counts()\n",
    "\n",
    "plt.figure(figsize = (12, 5))\n",
    "ax = sns.barplot(\n",
    "    x = region_counts.index,\n",
    "    y = region_counts.values,\n",
    "    color = 'lightblue'\n",
    ")\n",
    "\n",
    "plt.xticks(rotation=90)\n",
    "\n",
    "for container in ax.containers:\n",
    "    labels = [f\"{val.get_height():,.0f}\".replace(',', '.') for val in container]\n",
    "    ax.bar_label(container, labels=labels) \n",
    "\n",
    "plt.xlabel('País de atuação')\n",
    "plt.ylabel('Volumetria da amostra')\n",
    "plt.title('Volumetria da amostra por país')\n",
    "plt.grid(True, which='both', linestyle='--', linewidth=0.5, color='gray', alpha=0.5)\n",
    "\n",
    "plt.show()"
   ]
  },
  {
   "cell_type": "code",
   "execution_count": 95,
   "metadata": {},
   "outputs": [
    {
     "data": {
      "image/png": "[encoded data removed]",
      "text/plain": [
       "<Figure size 1200x500 with 1 Axes>"
      ]
     },
     "metadata": {},
     "output_type": "display_data"
    }
   ],
   "source": [
    "plt.figure(figsize = (12, 5))\n",
    "\n",
    "ax = sns.barplot(\n",
    "    x = 'site_id', \n",
    "    y = 'num_categories', \n",
    "    color = 'lightblue', \n",
    "    data = (\n",
    "        df_raw\n",
    "        .groupby('site_id', as_index=False)['category_id_tratado']\n",
    "        .nunique()\n",
    "        .rename(columns = {'category_id_tratado': 'num_categories'})\n",
    "    ).sort_values(by = 'num_categories', ascending = False)\n",
    ")\n",
    "\n",
    "plt.xticks(rotation=90)\n",
    "\n",
    "for container in ax.containers:\n",
    "    labels = [f\"{val.get_height():,.0f}\".replace(',', '.') for val in container]\n",
    "    ax.bar_label(container, labels=labels) \n",
    "\n",
    "plt.xlabel('País de atuação')\n",
    "plt.ylabel('Quantidade de categorias distintas')\n",
    "plt.title('Quantidade de categorias distintas da amostra por país')\n",
    "plt.grid(True, which='both', linestyle='--', linewidth=0.5, color='gray', alpha=0.5)\n",
    "\n",
    "plt.show()\n"
   ]
  },
  {
   "cell_type": "code",
   "execution_count": 14,
   "metadata": {},
   "outputs": [
    {
     "data": {
      "text/plain": [
       "array(['buy_it_now', 'classified'], dtype=object)"
      ]
     },
     "execution_count": 14,
     "metadata": {},
     "output_type": "execute_result"
    }
   ],
   "source": [
    "df_raw.buying_mode.unique()"
   ]
  },
  {
   "cell_type": "code",
   "execution_count": 15,
   "metadata": {},
   "outputs": [],
   "source": [
    "df_counts = (\n",
    "    df_raw\n",
    "    .groupby(['buying_mode', 'site_id'], as_index=False)\n",
    "    .size()\n",
    "    .rename(columns={'size': 'count'})\n",
    ")\n",
    "\n",
    "modes = df_counts['buying_mode'].unique()"
   ]
  },
  {
   "cell_type": "code",
   "execution_count": 94,
   "metadata": {},
   "outputs": [
    {
     "data": {
      "image/png": "[encoded data removed]",
      "text/plain": [
       "<Figure size 1200x600 with 2 Axes>"
      ]
     },
     "metadata": {},
     "output_type": "display_data"
    }
   ],
   "source": [
    "fig, axes = plt.subplots(nrows = 1, ncols = len(modes), figsize = (12, 6))\n",
    "\n",
    "for ax, mode in zip(axes, modes):\n",
    "    df_mode = df_counts[df_counts['buying_mode'] == mode]\n",
    "    \n",
    "    df_mode_sorted = df_mode.sort_values(by = 'count', ascending=False)\n",
    "    \n",
    "    sns.barplot(\n",
    "        data=df_mode_sorted,\n",
    "        y = 'site_id',\n",
    "        x = 'count',\n",
    "        ax = ax,\n",
    "        color = 'lightblue',\n",
    "        order=df_mode_sorted['site_id']\n",
    "    )\n",
    "    \n",
    "    ax.set_title(f\"Volumetria amostral por país | buying_mode: {mode}\")\n",
    "    ax.set_xlabel(\"Volumetria amostral\")\n",
    "    ax.set_ylabel(\"País (ID)\")\n",
    "    \n",
    "    for container in ax.containers:\n",
    "        labels = [f\"{bar.get_width():,.0f}\".replace(',', '.') for bar in container]\n",
    "        ax.bar_label(container, labels=labels, fmt=\"\", padding=3)\n",
    "    \n",
    "    ax.set_xlim(0, df_mode_sorted['count'].max() * 1.15)\n",
    "    ax.grid(True, which='both', linestyle='--', linewidth=0.5, color='gray', alpha=0.5)\n",
    "    \n",
    "plt.show()"
   ]
  },
  {
   "cell_type": "code",
   "execution_count": 17,
   "metadata": {},
   "outputs": [
    {
     "data": {
      "text/html": [
       "<div>\n",
       "<style scoped>\n",
       "    .dataframe tbody tr th:only-of-type {\n",
       "        vertical-align: middle;\n",
       "    }\n",
       "\n",
       "    .dataframe tbody tr th {\n",
       "        vertical-align: top;\n",
       "    }\n",
       "\n",
       "    .dataframe thead th {\n",
       "        text-align: right;\n",
       "    }\n",
       "</style>\n",
       "<table border=\"1\" class=\"dataframe\">\n",
       "  <thead>\n",
       "    <tr style=\"text-align: right;\">\n",
       "      <th></th>\n",
       "      <th>id</th>\n",
       "      <th>title</th>\n",
       "      <th>condition</th>\n",
       "      <th>thumbnail_id</th>\n",
       "      <th>catalog_product_id</th>\n",
       "      <th>listing_type_id</th>\n",
       "      <th>permalink</th>\n",
       "      <th>buying_mode</th>\n",
       "      <th>site_id</th>\n",
       "      <th>category_id</th>\n",
       "      <th>domain_id</th>\n",
       "      <th>thumbnail</th>\n",
       "      <th>currency_id</th>\n",
       "      <th>order_backend</th>\n",
       "      <th>price</th>\n",
       "      <th>original_price</th>\n",
       "      <th>sale_price</th>\n",
       "      <th>available_quantity</th>\n",
       "      <th>official_store_id</th>\n",
       "      <th>use_thumbnail_id</th>\n",
       "      <th>accepts_mercadopago</th>\n",
       "      <th>shipping</th>\n",
       "      <th>stop_time</th>\n",
       "      <th>seller</th>\n",
       "      <th>address</th>\n",
       "      <th>attributes</th>\n",
       "      <th>installments</th>\n",
       "      <th>catalog_listing</th>\n",
       "      <th>inventory_id</th>\n",
       "      <th>official_store_name</th>\n",
       "      <th>location</th>\n",
       "      <th>seller_contact</th>\n",
       "      <th>category_id_tratado</th>\n",
       "    </tr>\n",
       "  </thead>\n",
       "  <tbody>\n",
       "    <tr>\n",
       "      <th>0</th>\n",
       "      <td>MEC591721600</td>\n",
       "      <td>Consolas Play Station 5 Slim Edicion Digital</td>\n",
       "      <td>new</td>\n",
       "      <td>790276-MLU77965322054_082024</td>\n",
       "      <td>MEC29001054</td>\n",
       "      <td>gold_pro</td>\n",
       "      <td>https://www.mercadolibre.com.ec/consolas-play-...</td>\n",
       "      <td>buy_it_now</td>\n",
       "      <td>MEC</td>\n",
       "      <td>MEC3533</td>\n",
       "      <td>MEC-GAME_CONSOLES</td>\n",
       "      <td>http://http2.mlstatic.com/D_790276-MLU77965322...</td>\n",
       "      <td>USD</td>\n",
       "      <td>1</td>\n",
       "      <td>659.00</td>\n",
       "      <td>NaN</td>\n",
       "      <td>{'amount': 659.0, 'conditions': {'context_rest...</td>\n",
       "      <td>50</td>\n",
       "      <td>NaN</td>\n",
       "      <td>True</td>\n",
       "      <td>True</td>\n",
       "      <td>{'benefits': None, 'free_shipping': True, 'log...</td>\n",
       "      <td>2044-11-15T04:00:00.000Z</td>\n",
       "      <td>{'id': 63228264, 'nickname': 'MEGACELLCOM'}</td>\n",
       "      <td>{'city_id': 'RUMtUUnDsWFxdWl0bw', 'city_name':...</td>\n",
       "      <td>[{'attribute_group_id': 'OTHERS', 'attribute_g...</td>\n",
       "      <td>None</td>\n",
       "      <td>True</td>\n",
       "      <td>None</td>\n",
       "      <td>None</td>\n",
       "      <td>None</td>\n",
       "      <td>None</td>\n",
       "      <td>3533</td>\n",
       "    </tr>\n",
       "    <tr>\n",
       "      <th>1</th>\n",
       "      <td>MEC585311472</td>\n",
       "      <td>Auriculares Inalámbricos Xiaomi Redmi Buds 6 P...</td>\n",
       "      <td>new</td>\n",
       "      <td>742884-MLA79765825031_102024</td>\n",
       "      <td>MEC39962085</td>\n",
       "      <td>bronze</td>\n",
       "      <td>https://www.mercadolibre.com.ec/auriculares-in...</td>\n",
       "      <td>buy_it_now</td>\n",
       "      <td>MEC</td>\n",
       "      <td>MEC121963</td>\n",
       "      <td>MEC-HEADPHONES</td>\n",
       "      <td>http://http2.mlstatic.com/D_742884-MLA79765825...</td>\n",
       "      <td>USD</td>\n",
       "      <td>2</td>\n",
       "      <td>36.89</td>\n",
       "      <td>44.99</td>\n",
       "      <td>{'amount': 36.89, 'conditions': {'context_rest...</td>\n",
       "      <td>1</td>\n",
       "      <td>NaN</td>\n",
       "      <td>True</td>\n",
       "      <td>True</td>\n",
       "      <td>{'benefits': None, 'free_shipping': True, 'log...</td>\n",
       "      <td>2044-09-17T04:00:00.000Z</td>\n",
       "      <td>{'id': 173825591, 'nickname': 'MAS_STORE'}</td>\n",
       "      <td>{'city_id': 'RUMtUUNhcmNlbMOpbg', 'city_name':...</td>\n",
       "      <td>[{'attribute_group_id': 'OTHERS', 'attribute_g...</td>\n",
       "      <td>None</td>\n",
       "      <td>True</td>\n",
       "      <td>None</td>\n",
       "      <td>None</td>\n",
       "      <td>None</td>\n",
       "      <td>None</td>\n",
       "      <td>121963</td>\n",
       "    </tr>\n",
       "    <tr>\n",
       "      <th>2</th>\n",
       "      <td>MEC573483608</td>\n",
       "      <td>Microsoft Xbox Series X 1tb Carbon Black</td>\n",
       "      <td>new</td>\n",
       "      <td>942133-MLA74651936102_022024</td>\n",
       "      <td>MEC16160759</td>\n",
       "      <td>bronze</td>\n",
       "      <td>https://www.mercadolibre.com.ec/microsoft-xbox...</td>\n",
       "      <td>buy_it_now</td>\n",
       "      <td>MEC</td>\n",
       "      <td>MEC3533</td>\n",
       "      <td>MEC-GAME_CONSOLES</td>\n",
       "      <td>http://http2.mlstatic.com/D_942133-MLA74651936...</td>\n",
       "      <td>USD</td>\n",
       "      <td>3</td>\n",
       "      <td>887.43</td>\n",
       "      <td>986.04</td>\n",
       "      <td>{'amount': 887.43, 'conditions': {'context_res...</td>\n",
       "      <td>50</td>\n",
       "      <td>63508.0</td>\n",
       "      <td>True</td>\n",
       "      <td>True</td>\n",
       "      <td>{'benefits': None, 'free_shipping': True, 'log...</td>\n",
       "      <td>2044-05-11T04:00:00.000Z</td>\n",
       "      <td>{'id': 200533006, 'nickname': 'GAMING.EC'}</td>\n",
       "      <td>{'city_id': 'RUMtWVFUYXJxdWk', 'city_name': 'T...</td>\n",
       "      <td>[{'attribute_group_id': 'OTHERS', 'attribute_g...</td>\n",
       "      <td>None</td>\n",
       "      <td>True</td>\n",
       "      <td>None</td>\n",
       "      <td>GAMINGEC</td>\n",
       "      <td>None</td>\n",
       "      <td>None</td>\n",
       "      <td>3533</td>\n",
       "    </tr>\n",
       "    <tr>\n",
       "      <th>3</th>\n",
       "      <td>MEC571416556</td>\n",
       "      <td>Auriculares Gamer G435 Logitech G Wireless Gam...</td>\n",
       "      <td>new</td>\n",
       "      <td>681820-MLU77493029189_072024</td>\n",
       "      <td>MEC18651916</td>\n",
       "      <td>bronze</td>\n",
       "      <td>https://www.mercadolibre.com.ec/auriculares-ga...</td>\n",
       "      <td>buy_it_now</td>\n",
       "      <td>MEC</td>\n",
       "      <td>MEC116670</td>\n",
       "      <td>MEC-HEADPHONES</td>\n",
       "      <td>http://http2.mlstatic.com/D_681820-MLU77493029...</td>\n",
       "      <td>USD</td>\n",
       "      <td>4</td>\n",
       "      <td>82.22</td>\n",
       "      <td>91.36</td>\n",
       "      <td>{'amount': 82.22, 'conditions': {'context_rest...</td>\n",
       "      <td>1</td>\n",
       "      <td>63508.0</td>\n",
       "      <td>True</td>\n",
       "      <td>True</td>\n",
       "      <td>{'benefits': None, 'free_shipping': True, 'log...</td>\n",
       "      <td>2044-04-19T04:00:00.000Z</td>\n",
       "      <td>{'id': 200533006, 'nickname': 'GAMING.EC'}</td>\n",
       "      <td>{'city_id': 'RUMtWVFUYXJxdWk', 'city_name': 'T...</td>\n",
       "      <td>[{'attribute_group_id': 'OTHERS', 'attribute_g...</td>\n",
       "      <td>None</td>\n",
       "      <td>True</td>\n",
       "      <td>None</td>\n",
       "      <td>GAMINGEC</td>\n",
       "      <td>None</td>\n",
       "      <td>None</td>\n",
       "      <td>116670</td>\n",
       "    </tr>\n",
       "    <tr>\n",
       "      <th>4</th>\n",
       "      <td>MEC568777050</td>\n",
       "      <td>Oculus Quest 2 Advanced All In One Casco Vr 12...</td>\n",
       "      <td>new</td>\n",
       "      <td>929895-MLA51988203957_102022</td>\n",
       "      <td>MEC21236885</td>\n",
       "      <td>bronze</td>\n",
       "      <td>https://www.mercadolibre.com.ec/oculus-quest-2...</td>\n",
       "      <td>buy_it_now</td>\n",
       "      <td>MEC</td>\n",
       "      <td>MEC3533</td>\n",
       "      <td>MEC-GAME_CONSOLES</td>\n",
       "      <td>http://http2.mlstatic.com/D_929895-MLA51988203...</td>\n",
       "      <td>USD</td>\n",
       "      <td>5</td>\n",
       "      <td>443.70</td>\n",
       "      <td>493.00</td>\n",
       "      <td>{'amount': 443.7, 'conditions': {'context_rest...</td>\n",
       "      <td>1</td>\n",
       "      <td>63508.0</td>\n",
       "      <td>True</td>\n",
       "      <td>True</td>\n",
       "      <td>{'benefits': None, 'free_shipping': True, 'log...</td>\n",
       "      <td>2044-04-11T18:10:25.097Z</td>\n",
       "      <td>{'id': 200533006, 'nickname': 'GAMING.EC'}</td>\n",
       "      <td>{'city_id': 'RUMtWVFUYXJxdWk', 'city_name': 'T...</td>\n",
       "      <td>[{'attribute_group_id': 'OTHERS', 'attribute_g...</td>\n",
       "      <td>None</td>\n",
       "      <td>True</td>\n",
       "      <td>None</td>\n",
       "      <td>GAMINGEC</td>\n",
       "      <td>None</td>\n",
       "      <td>None</td>\n",
       "      <td>3533</td>\n",
       "    </tr>\n",
       "  </tbody>\n",
       "</table>\n",
       "</div>"
      ],
      "text/plain": [
       "             id                                              title condition  \\\n",
       "0  MEC591721600       Consolas Play Station 5 Slim Edicion Digital       new   \n",
       "1  MEC585311472  Auriculares Inalámbricos Xiaomi Redmi Buds 6 P...       new   \n",
       "2  MEC573483608           Microsoft Xbox Series X 1tb Carbon Black       new   \n",
       "3  MEC571416556  Auriculares Gamer G435 Logitech G Wireless Gam...       new   \n",
       "4  MEC568777050  Oculus Quest 2 Advanced All In One Casco Vr 12...       new   \n",
       "\n",
       "                   thumbnail_id catalog_product_id listing_type_id  \\\n",
       "0  790276-MLU77965322054_082024        MEC29001054        gold_pro   \n",
       "1  742884-MLA79765825031_102024        MEC39962085          bronze   \n",
       "2  942133-MLA74651936102_022024        MEC16160759          bronze   \n",
       "3  681820-MLU77493029189_072024        MEC18651916          bronze   \n",
       "4  929895-MLA51988203957_102022        MEC21236885          bronze   \n",
       "\n",
       "                                           permalink buying_mode site_id  \\\n",
       "0  https://www.mercadolibre.com.ec/consolas-play-...  buy_it_now     MEC   \n",
       "1  https://www.mercadolibre.com.ec/auriculares-in...  buy_it_now     MEC   \n",
       "2  https://www.mercadolibre.com.ec/microsoft-xbox...  buy_it_now     MEC   \n",
       "3  https://www.mercadolibre.com.ec/auriculares-ga...  buy_it_now     MEC   \n",
       "4  https://www.mercadolibre.com.ec/oculus-quest-2...  buy_it_now     MEC   \n",
       "\n",
       "  category_id          domain_id  \\\n",
       "0     MEC3533  MEC-GAME_CONSOLES   \n",
       "1   MEC121963     MEC-HEADPHONES   \n",
       "2     MEC3533  MEC-GAME_CONSOLES   \n",
       "3   MEC116670     MEC-HEADPHONES   \n",
       "4     MEC3533  MEC-GAME_CONSOLES   \n",
       "\n",
       "                                           thumbnail currency_id  \\\n",
       "0  http://http2.mlstatic.com/D_790276-MLU77965322...         USD   \n",
       "1  http://http2.mlstatic.com/D_742884-MLA79765825...         USD   \n",
       "2  http://http2.mlstatic.com/D_942133-MLA74651936...         USD   \n",
       "3  http://http2.mlstatic.com/D_681820-MLU77493029...         USD   \n",
       "4  http://http2.mlstatic.com/D_929895-MLA51988203...         USD   \n",
       "\n",
       "   order_backend   price  original_price  \\\n",
       "0              1  659.00             NaN   \n",
       "1              2   36.89           44.99   \n",
       "2              3  887.43          986.04   \n",
       "3              4   82.22           91.36   \n",
       "4              5  443.70          493.00   \n",
       "\n",
       "                                          sale_price  available_quantity  \\\n",
       "0  {'amount': 659.0, 'conditions': {'context_rest...                  50   \n",
       "1  {'amount': 36.89, 'conditions': {'context_rest...                   1   \n",
       "2  {'amount': 887.43, 'conditions': {'context_res...                  50   \n",
       "3  {'amount': 82.22, 'conditions': {'context_rest...                   1   \n",
       "4  {'amount': 443.7, 'conditions': {'context_rest...                   1   \n",
       "\n",
       "   official_store_id  use_thumbnail_id  accepts_mercadopago  \\\n",
       "0                NaN              True                 True   \n",
       "1                NaN              True                 True   \n",
       "2            63508.0              True                 True   \n",
       "3            63508.0              True                 True   \n",
       "4            63508.0              True                 True   \n",
       "\n",
       "                                            shipping  \\\n",
       "0  {'benefits': None, 'free_shipping': True, 'log...   \n",
       "1  {'benefits': None, 'free_shipping': True, 'log...   \n",
       "2  {'benefits': None, 'free_shipping': True, 'log...   \n",
       "3  {'benefits': None, 'free_shipping': True, 'log...   \n",
       "4  {'benefits': None, 'free_shipping': True, 'log...   \n",
       "\n",
       "                  stop_time                                       seller  \\\n",
       "0  2044-11-15T04:00:00.000Z  {'id': 63228264, 'nickname': 'MEGACELLCOM'}   \n",
       "1  2044-09-17T04:00:00.000Z   {'id': 173825591, 'nickname': 'MAS_STORE'}   \n",
       "2  2044-05-11T04:00:00.000Z   {'id': 200533006, 'nickname': 'GAMING.EC'}   \n",
       "3  2044-04-19T04:00:00.000Z   {'id': 200533006, 'nickname': 'GAMING.EC'}   \n",
       "4  2044-04-11T18:10:25.097Z   {'id': 200533006, 'nickname': 'GAMING.EC'}   \n",
       "\n",
       "                                             address  \\\n",
       "0  {'city_id': 'RUMtUUnDsWFxdWl0bw', 'city_name':...   \n",
       "1  {'city_id': 'RUMtUUNhcmNlbMOpbg', 'city_name':...   \n",
       "2  {'city_id': 'RUMtWVFUYXJxdWk', 'city_name': 'T...   \n",
       "3  {'city_id': 'RUMtWVFUYXJxdWk', 'city_name': 'T...   \n",
       "4  {'city_id': 'RUMtWVFUYXJxdWk', 'city_name': 'T...   \n",
       "\n",
       "                                          attributes installments  \\\n",
       "0  [{'attribute_group_id': 'OTHERS', 'attribute_g...         None   \n",
       "1  [{'attribute_group_id': 'OTHERS', 'attribute_g...         None   \n",
       "2  [{'attribute_group_id': 'OTHERS', 'attribute_g...         None   \n",
       "3  [{'attribute_group_id': 'OTHERS', 'attribute_g...         None   \n",
       "4  [{'attribute_group_id': 'OTHERS', 'attribute_g...         None   \n",
       "\n",
       "   catalog_listing inventory_id official_store_name location seller_contact  \\\n",
       "0             True         None                None     None           None   \n",
       "1             True         None                None     None           None   \n",
       "2             True         None            GAMINGEC     None           None   \n",
       "3             True         None            GAMINGEC     None           None   \n",
       "4             True         None            GAMINGEC     None           None   \n",
       "\n",
       "  category_id_tratado  \n",
       "0                3533  \n",
       "1              121963  \n",
       "2                3533  \n",
       "3              116670  \n",
       "4                3533  "
      ]
     },
     "execution_count": 17,
     "metadata": {},
     "output_type": "execute_result"
    }
   ],
   "source": [
    "df_raw.head()"
   ]
  },
  {
   "cell_type": "code",
   "execution_count": 18,
   "metadata": {},
   "outputs": [
    {
     "data": {
      "text/plain": [
       "array(['SUPPLEMENTS', 'ELECTRIC_AIR_PUMPS', 'BICYCLE_TRAINERS', ...,\n",
       "       'INSPECTION_CHAMBER_RISERS', 'TOILET_BASE_RISERS', 'WHEELBARROWS'],\n",
       "      dtype=object)"
      ]
     },
     "execution_count": 18,
     "metadata": {},
     "output_type": "execute_result"
    }
   ],
   "source": [
    "df_raw['domain_id_tratado'] = df_raw.domain_id.apply(lambda x: x[4:])\n",
    "df_raw[df_raw.site_id == 'MLB']['domain_id_tratado'].unique()"
   ]
  },
  {
   "cell_type": "code",
   "execution_count": 19,
   "metadata": {},
   "outputs": [
    {
     "data": {
      "text/plain": [
       "2764"
      ]
     },
     "execution_count": 19,
     "metadata": {},
     "output_type": "execute_result"
    }
   ],
   "source": [
    "count_domain_per_categ_id = (\n",
    "    df_raw\n",
    "    .groupby('domain_id_tratado')['category_id_tratado']\n",
    "    .nunique()\n",
    ")\n",
    "\n",
    "len(count_domain_per_categ_id[count_domain_per_categ_id > 1])\n"
   ]
  },
  {
   "cell_type": "code",
   "execution_count": 20,
   "metadata": {},
   "outputs": [
    {
     "data": {
      "text/html": [
       "<div>\n",
       "<style scoped>\n",
       "    .dataframe tbody tr th:only-of-type {\n",
       "        vertical-align: middle;\n",
       "    }\n",
       "\n",
       "    .dataframe tbody tr th {\n",
       "        vertical-align: top;\n",
       "    }\n",
       "\n",
       "    .dataframe thead th {\n",
       "        text-align: right;\n",
       "    }\n",
       "</style>\n",
       "<table border=\"1\" class=\"dataframe\">\n",
       "  <thead>\n",
       "    <tr style=\"text-align: right;\">\n",
       "      <th></th>\n",
       "      <th>site_id</th>\n",
       "      <th>domain_id_tratado</th>\n",
       "      <th>proportion</th>\n",
       "    </tr>\n",
       "  </thead>\n",
       "  <tbody>\n",
       "    <tr>\n",
       "      <th>0</th>\n",
       "      <td>MBO</td>\n",
       "      <td>CELLPHONES</td>\n",
       "      <td>0.098242</td>\n",
       "    </tr>\n",
       "    <tr>\n",
       "      <th>374</th>\n",
       "      <td>MCO</td>\n",
       "      <td>BOOKS</td>\n",
       "      <td>0.033421</td>\n",
       "    </tr>\n",
       "    <tr>\n",
       "      <th>2086</th>\n",
       "      <td>MCR</td>\n",
       "      <td>PERFUMES</td>\n",
       "      <td>0.051340</td>\n",
       "    </tr>\n",
       "    <tr>\n",
       "      <th>3381</th>\n",
       "      <td>MEC</td>\n",
       "      <td>BOOKS</td>\n",
       "      <td>0.035244</td>\n",
       "    </tr>\n",
       "    <tr>\n",
       "      <th>5185</th>\n",
       "      <td>MGT</td>\n",
       "      <td>OTHER_SERVICES</td>\n",
       "      <td>0.164371</td>\n",
       "    </tr>\n",
       "    <tr>\n",
       "      <th>5607</th>\n",
       "      <td>MHN</td>\n",
       "      <td>NOTEBOOKS</td>\n",
       "      <td>0.160452</td>\n",
       "    </tr>\n",
       "    <tr>\n",
       "      <th>5779</th>\n",
       "      <td>MLA</td>\n",
       "      <td>CARS_AND_VANS</td>\n",
       "      <td>0.032920</td>\n",
       "    </tr>\n",
       "    <tr>\n",
       "      <th>7926</th>\n",
       "      <td>MLB</td>\n",
       "      <td>CARS_AND_VANS</td>\n",
       "      <td>0.032799</td>\n",
       "    </tr>\n",
       "    <tr>\n",
       "      <th>10100</th>\n",
       "      <td>MLM</td>\n",
       "      <td>BOOKS</td>\n",
       "      <td>0.033063</td>\n",
       "    </tr>\n",
       "    <tr>\n",
       "      <th>12180</th>\n",
       "      <td>MLU</td>\n",
       "      <td>CARS_AND_VANS</td>\n",
       "      <td>0.030018</td>\n",
       "    </tr>\n",
       "    <tr>\n",
       "      <th>13878</th>\n",
       "      <td>MLV</td>\n",
       "      <td>CARS_AND_VANS</td>\n",
       "      <td>0.031962</td>\n",
       "    </tr>\n",
       "    <tr>\n",
       "      <th>15841</th>\n",
       "      <td>MNI</td>\n",
       "      <td>CELLPHONES</td>\n",
       "      <td>0.179554</td>\n",
       "    </tr>\n",
       "    <tr>\n",
       "      <th>15965</th>\n",
       "      <td>MPA</td>\n",
       "      <td>CARS_AND_VANS</td>\n",
       "      <td>0.280965</td>\n",
       "    </tr>\n",
       "    <tr>\n",
       "      <th>16222</th>\n",
       "      <td>MPE</td>\n",
       "      <td>BOOKS</td>\n",
       "      <td>0.034473</td>\n",
       "    </tr>\n",
       "    <tr>\n",
       "      <th>17903</th>\n",
       "      <td>MPY</td>\n",
       "      <td>CELLPHONES</td>\n",
       "      <td>0.129636</td>\n",
       "    </tr>\n",
       "    <tr>\n",
       "      <th>18346</th>\n",
       "      <td>MRD</td>\n",
       "      <td>CARS_AND_VANS</td>\n",
       "      <td>0.077234</td>\n",
       "    </tr>\n",
       "    <tr>\n",
       "      <th>19271</th>\n",
       "      <td>MSV</td>\n",
       "      <td>OTHER_SERVICES</td>\n",
       "      <td>0.143564</td>\n",
       "    </tr>\n",
       "  </tbody>\n",
       "</table>\n",
       "</div>"
      ],
      "text/plain": [
       "      site_id domain_id_tratado  proportion\n",
       "0         MBO        CELLPHONES    0.098242\n",
       "374       MCO             BOOKS    0.033421\n",
       "2086      MCR          PERFUMES    0.051340\n",
       "3381      MEC             BOOKS    0.035244\n",
       "5185      MGT    OTHER_SERVICES    0.164371\n",
       "5607      MHN         NOTEBOOKS    0.160452\n",
       "5779      MLA     CARS_AND_VANS    0.032920\n",
       "7926      MLB     CARS_AND_VANS    0.032799\n",
       "10100     MLM             BOOKS    0.033063\n",
       "12180     MLU     CARS_AND_VANS    0.030018\n",
       "13878     MLV     CARS_AND_VANS    0.031962\n",
       "15841     MNI        CELLPHONES    0.179554\n",
       "15965     MPA     CARS_AND_VANS    0.280965\n",
       "16222     MPE             BOOKS    0.034473\n",
       "17903     MPY        CELLPHONES    0.129636\n",
       "18346     MRD     CARS_AND_VANS    0.077234\n",
       "19271     MSV    OTHER_SERVICES    0.143564"
      ]
     },
     "execution_count": 20,
     "metadata": {},
     "output_type": "execute_result"
    }
   ],
   "source": [
    "df_raw['domain_id_tratado'] = df_raw.domain_id.apply(lambda x: x[4:])\n",
    "\n",
    "(\n",
    "    df_raw\n",
    "    .groupby('site_id',as_index=False)['domain_id_tratado']\n",
    "    .value_counts(normalize=True)\n",
    "    .groupby('site_id', as_index=False)\n",
    "    .head(1)\n",
    ")"
   ]
  },
  {
   "cell_type": "code",
   "execution_count": 21,
   "metadata": {},
   "outputs": [
    {
     "data": {
      "text/plain": [
       "buying_mode\n",
       "classified    1000\n",
       "dtype: int64"
      ]
     },
     "execution_count": 21,
     "metadata": {},
     "output_type": "execute_result"
    }
   ],
   "source": [
    "df_raw[(df_raw.site_id == 'MLB') & (df_raw.domain_id_tratado == 'CARS_AND_VANS')].groupby('buying_mode').size()"
   ]
  },
  {
   "cell_type": "code",
   "execution_count": null,
   "metadata": {},
   "outputs": [],
   "source": []
  },
  {
   "cell_type": "markdown",
   "metadata": {},
   "source": [
    "# Análises de features no formato `Struct`"
   ]
  },
  {
   "cell_type": "markdown",
   "metadata": {},
   "source": [
    "## Feature: `sale_price`"
   ]
  },
  {
   "cell_type": "code",
   "execution_count": 22,
   "metadata": {},
   "outputs": [
    {
     "data": {
      "text/plain": [
       "{'amount': 36.89,\n",
       " 'conditions': {'context_restrictions': array(['channel_marketplace'], dtype=object),\n",
       "  'eligible': True,\n",
       "  'end_time': '2025-02-13T04:59:59Z',\n",
       "  'start_time': '2025-01-14T05:00:00Z'},\n",
       " 'currency_id': 'USD',\n",
       " 'exchange_rate': None,\n",
       " 'metadata': {'buy_quantity': None,\n",
       "  'campaign_discount_percentage': None,\n",
       "  'campaign_end_date': None,\n",
       "  'campaign_id': None,\n",
       "  'discount_meli_amount': None,\n",
       "  'experiment_id': None,\n",
       "  'funding_mode': None,\n",
       "  'order_item_price': None,\n",
       "  'pay_quantity': None,\n",
       "  'promotion_id': 'OFFER-MEC585311472-10735768559',\n",
       "  'promotion_type': 'custom',\n",
       "  'purchase_discount_campaign_id': None,\n",
       "  'purchase_discount_id': None,\n",
       "  'purchase_discount_percentage': None,\n",
       "  'purchase_discount_type': None,\n",
       "  'variation': None},\n",
       " 'payment_method_prices': array([], dtype=object),\n",
       " 'payment_method_type': 'TMP',\n",
       " 'price_id': '',\n",
       " 'regular_amount': 44.99,\n",
       " 'type': 'promotion'}"
      ]
     },
     "execution_count": 22,
     "metadata": {},
     "output_type": "execute_result"
    }
   ],
   "source": [
    "df_raw.sale_price.iloc[1]"
   ]
  },
  {
   "cell_type": "code",
   "execution_count": 37,
   "metadata": {},
   "outputs": [],
   "source": [
    "def unpack_feature(col, feature):\n",
    "    return col.get(feature) if col else None"
   ]
  },
  {
   "cell_type": "code",
   "execution_count": 38,
   "metadata": {},
   "outputs": [],
   "source": [
    "df_raw['sale_price_conditions'] = df_raw.sale_price.apply(lambda x: unpack_feature(x, 'conditions'))\n",
    "\n",
    "df_raw['sale_price_conditions_start_time'] = df_raw.sale_price_conditions.apply(lambda x: unpack_feature(x, 'start_time'))\n",
    "df_raw['sale_price_conditions_end_time'] = df_raw.sale_price_conditions.apply(lambda x: unpack_feature(x, 'end_time'))\n",
    "\n",
    "df_raw['sale_price_conditions_eligible'] = df_raw.sale_price_conditions.apply(lambda x: unpack_feature(x, 'eligible'))\n",
    "df_raw['sale_price_conditions_context_restrictions'] = df_raw.sale_price_conditions.apply(lambda x: unpack_feature(x, 'context_restrictions'))"
   ]
  },
  {
   "cell_type": "code",
   "execution_count": 24,
   "metadata": {},
   "outputs": [],
   "source": [
    "df_raw[['sale_price_conditions_start_time', 'sale_price_conditions_end_time', 'stop_time']] = df_raw[['sale_price_conditions_start_time', 'sale_price_conditions_end_time', 'stop_time']].apply(lambda col: pd.to_datetime(col, errors='coerce').dt.date)"
   ]
  },
  {
   "cell_type": "code",
   "execution_count": 25,
   "metadata": {},
   "outputs": [
    {
     "data": {
      "text/html": [
       "<div>\n",
       "<style scoped>\n",
       "    .dataframe tbody tr th:only-of-type {\n",
       "        vertical-align: middle;\n",
       "    }\n",
       "\n",
       "    .dataframe tbody tr th {\n",
       "        vertical-align: top;\n",
       "    }\n",
       "\n",
       "    .dataframe thead th {\n",
       "        text-align: right;\n",
       "    }\n",
       "</style>\n",
       "<table border=\"1\" class=\"dataframe\">\n",
       "  <thead>\n",
       "    <tr style=\"text-align: right;\">\n",
       "      <th></th>\n",
       "      <th>diff_start_end_time</th>\n",
       "      <th>diff_start_stop_time</th>\n",
       "    </tr>\n",
       "  </thead>\n",
       "  <tbody>\n",
       "    <tr>\n",
       "      <th>0</th>\n",
       "      <td>NaN</td>\n",
       "      <td>NaN</td>\n",
       "    </tr>\n",
       "    <tr>\n",
       "      <th>1</th>\n",
       "      <td>30.0</td>\n",
       "      <td>7186.0</td>\n",
       "    </tr>\n",
       "    <tr>\n",
       "      <th>2</th>\n",
       "      <td>31.0</td>\n",
       "      <td>7063.0</td>\n",
       "    </tr>\n",
       "    <tr>\n",
       "      <th>3</th>\n",
       "      <td>31.0</td>\n",
       "      <td>7041.0</td>\n",
       "    </tr>\n",
       "    <tr>\n",
       "      <th>4</th>\n",
       "      <td>31.0</td>\n",
       "      <td>7033.0</td>\n",
       "    </tr>\n",
       "  </tbody>\n",
       "</table>\n",
       "</div>"
      ],
      "text/plain": [
       "   diff_start_end_time  diff_start_stop_time\n",
       "0                  NaN                   NaN\n",
       "1                 30.0                7186.0\n",
       "2                 31.0                7063.0\n",
       "3                 31.0                7041.0\n",
       "4                 31.0                7033.0"
      ]
     },
     "execution_count": 25,
     "metadata": {},
     "output_type": "execute_result"
    }
   ],
   "source": [
    "df_raw['diff_start_end_time'] = (df_raw['sale_price_conditions_end_time'] - df_raw['sale_price_conditions_start_time']).dt.days\n",
    "df_raw['diff_start_stop_time'] = (df_raw['stop_time'] - df_raw['sale_price_conditions_start_time']).dt.days\n",
    "\n",
    "df_raw[['diff_start_end_time', 'diff_start_stop_time']].head()"
   ]
  },
  {
   "cell_type": "code",
   "execution_count": 26,
   "metadata": {},
   "outputs": [
    {
     "data": {
      "text/plain": [
       "True    227834\n",
       "None     43806\n",
       "Name: sale_price_conditions_eligible, dtype: int64"
      ]
     },
     "execution_count": 26,
     "metadata": {},
     "output_type": "execute_result"
    }
   ],
   "source": [
    "df_raw['sale_price_conditions_eligible'].value_counts(dropna=False)"
   ]
  },
  {
   "cell_type": "code",
   "execution_count": 30,
   "metadata": {},
   "outputs": [
    {
     "data": {
      "text/plain": [
       "1"
      ]
     },
     "execution_count": 30,
     "metadata": {},
     "output_type": "execute_result"
    }
   ],
   "source": [
    "df_raw['sale_price_conditions_context_restrictions'].apply(lambda vec: 0 if vec is None else len(vec)).max()"
   ]
  },
  {
   "cell_type": "code",
   "execution_count": 40,
   "metadata": {},
   "outputs": [
    {
     "data": {
      "text/plain": [
       "standard     165789\n",
       "promotion     61759\n",
       "None          43806\n",
       "BNSP            185\n",
       "SPONTH           96\n",
       "BNGM              5\n",
       "Name: sale_price_type, dtype: int64"
      ]
     },
     "execution_count": 40,
     "metadata": {},
     "output_type": "execute_result"
    }
   ],
   "source": [
    "df_raw['sale_price_type'] = df_raw.sale_price.apply(lambda x: unpack_feature(x, 'type'))\n",
    "df_raw['sale_price_type'].value_counts(dropna=False)"
   ]
  },
  {
   "cell_type": "markdown",
   "metadata": {},
   "source": [
    "## Criação das targets (`promotion_flag` e `promotion_perc`)\n",
    "\n",
    "Como o objetivo do case é, em suma, predizer se um produto deve entrar em promoção, bem como quantificar esta. Logo, a primeira target é obtida diretamente da feature `sale_price`, em que há a indicadora `flag` com as categorias: 'promotion, 'standard', 'BNSP', 'SPONTH', 'BNGM'. Sendo assim, binarizando-a: se esta for igual a 'promotion', adotaremos uma flag 1 e 0 caso contrário.\n",
    "\n",
    "Por sua vez, para quantificar a promoção será adotado um modelo de regressão para prever o percentual do desconto, uma vez que temos inúmeras moedas (dólar, peso, real, etc) e, portanto, as diferenças absolutas não são equiparáveis. Ainda, para essa abordagem, será utilizado somente amostras que foram (ou são) promoções para não confudir o modelo, dado que produtos que não são promocionais não apresentam descontos, obviamente."
   ]
  },
  {
   "cell_type": "code",
   "execution_count": 44,
   "metadata": {},
   "outputs": [],
   "source": [
    "df_raw['promotion_flag'] = (df_raw['sale_price_type'] == 'promotion').astype(int)"
   ]
  },
  {
   "cell_type": "code",
   "execution_count": 55,
   "metadata": {},
   "outputs": [
    {
     "data": {
      "image/png": "[encoded data removed]",
      "text/plain": [
       "<Figure size 500x500 with 1 Axes>"
      ]
     },
     "metadata": {},
     "output_type": "display_data"
    }
   ],
   "source": [
    "plt.figure(figsize=(5, 5))\n",
    "\n",
    "sns.boxplot(x='promotion_flag', y='diff_start_end_time', data=df_raw)\n",
    "plt.title('Boxplot da # dias de listagem por flag de promoção')\n",
    "plt.xlabel('Promoção')\n",
    "plt.ylabel('# de dias de listagem')\n",
    "plt.grid(True, which='both', linestyle='--', linewidth=0.5, color='gray', alpha=0.5)\n",
    "\n",
    "plt.show()"
   ]
  },
  {
   "cell_type": "code",
   "execution_count": 67,
   "metadata": {},
   "outputs": [
    {
     "data": {
      "text/plain": [
       "208865"
      ]
     },
     "execution_count": 67,
     "metadata": {},
     "output_type": "execute_result"
    }
   ],
   "source": [
    "df_raw[df_raw.promotion_flag!=1].original_price.isnull().sum()"
   ]
  },
  {
   "cell_type": "code",
   "execution_count": 66,
   "metadata": {},
   "outputs": [
    {
     "data": {
      "text/plain": [
       "0"
      ]
     },
     "execution_count": 66,
     "metadata": {},
     "output_type": "execute_result"
    }
   ],
   "source": [
    "df_raw[df_raw.promotion_flag==1].original_price.isnull().sum()"
   ]
  },
  {
   "cell_type": "code",
   "execution_count": 73,
   "metadata": {},
   "outputs": [],
   "source": [
    "df_raw.loc[(df_raw.promotion_flag == 1), 'price_tratado'] = df_raw['original_price']\n",
    "df_raw.loc[(df_raw.promotion_flag != 1), 'price_tratado'] = df_raw['price']"
   ]
  },
  {
   "cell_type": "code",
   "execution_count": 84,
   "metadata": {},
   "outputs": [],
   "source": [
    "df_raw = df_raw.drop(\n",
    "    df_raw[(df_raw.price_tratado.isna())].index\n",
    ").reset_index(drop=True)"
   ]
  },
  {
   "cell_type": "code",
   "execution_count": 91,
   "metadata": {},
   "outputs": [
    {
     "data": {
      "text/plain": [
       "count    61759.000000\n",
       "mean         0.227065\n",
       "std          0.151044\n",
       "min          0.000043\n",
       "25%          0.100000\n",
       "50%          0.200000\n",
       "75%          0.320000\n",
       "max          0.787402\n",
       "Name: desconto, dtype: float64"
      ]
     },
     "execution_count": 91,
     "metadata": {},
     "output_type": "execute_result"
    }
   ],
   "source": [
    "df_raw['desconto'] = ((df_raw['original_price'] - df_raw['price'].fillna(0)) / df_raw['original_price']).fillna(0)\n",
    "\n",
    "df_raw[df_raw.promotion_flag == 1]['desconto'].describe()"
   ]
  },
  {
   "cell_type": "code",
   "execution_count": 80,
   "metadata": {},
   "outputs": [
    {
     "data": {
      "text/plain": [
       "MLV    862\n",
       "MLU    799\n",
       "MLA    773\n",
       "MGT    616\n",
       "MPE    593\n",
       "MRD    581\n",
       "MLB    507\n",
       "MCO    499\n",
       "MLM    398\n",
       "MPA    395\n",
       "MEC    178\n",
       "MPY    119\n",
       "MBO     76\n",
       "MCR     70\n",
       "MSV     46\n",
       "MNI     38\n",
       "MHN     31\n",
       "Name: site_id, dtype: int64"
      ]
     },
     "execution_count": 80,
     "metadata": {},
     "output_type": "execute_result"
    }
   ],
   "source": [
    "df_raw[df_raw.price.isna()].site_id.value_counts()"
   ]
  },
  {
   "cell_type": "code",
   "execution_count": 83,
   "metadata": {},
   "outputs": [
    {
     "data": {
      "text/plain": [
       "1.0"
      ]
     },
     "execution_count": 83,
     "metadata": {},
     "output_type": "execute_result"
    }
   ],
   "source": [
    "df_raw[df_raw.price.isna()].original_price.isna().sum()/df_raw.price.isna().sum()"
   ]
  },
  {
   "cell_type": "code",
   "execution_count": 81,
   "metadata": {},
   "outputs": [
    {
     "data": {
      "text/plain": [
       "Series([], Name: original_price, dtype: int64)"
      ]
     },
     "execution_count": 81,
     "metadata": {},
     "output_type": "execute_result"
    }
   ],
   "source": [
    "df_raw[df_raw.price.isna()].original_price.value_counts()"
   ]
  },
  {
   "cell_type": "code",
   "execution_count": 71,
   "metadata": {},
   "outputs": [
    {
     "data": {
      "text/html": [
       "<div>\n",
       "<style scoped>\n",
       "    .dataframe tbody tr th:only-of-type {\n",
       "        vertical-align: middle;\n",
       "    }\n",
       "\n",
       "    .dataframe tbody tr th {\n",
       "        vertical-align: top;\n",
       "    }\n",
       "\n",
       "    .dataframe thead th {\n",
       "        text-align: right;\n",
       "    }\n",
       "</style>\n",
       "<table border=\"1\" class=\"dataframe\">\n",
       "  <thead>\n",
       "    <tr style=\"text-align: right;\">\n",
       "      <th></th>\n",
       "      <th>price</th>\n",
       "      <th>original_price</th>\n",
       "    </tr>\n",
       "  </thead>\n",
       "  <tbody>\n",
       "    <tr>\n",
       "      <th>0</th>\n",
       "      <td>659.00</td>\n",
       "      <td>NaN</td>\n",
       "    </tr>\n",
       "    <tr>\n",
       "      <th>1</th>\n",
       "      <td>36.89</td>\n",
       "      <td>44.99</td>\n",
       "    </tr>\n",
       "    <tr>\n",
       "      <th>2</th>\n",
       "      <td>887.43</td>\n",
       "      <td>986.04</td>\n",
       "    </tr>\n",
       "    <tr>\n",
       "      <th>3</th>\n",
       "      <td>82.22</td>\n",
       "      <td>91.36</td>\n",
       "    </tr>\n",
       "    <tr>\n",
       "      <th>4</th>\n",
       "      <td>443.70</td>\n",
       "      <td>493.00</td>\n",
       "    </tr>\n",
       "  </tbody>\n",
       "</table>\n",
       "</div>"
      ],
      "text/plain": [
       "    price  original_price\n",
       "0  659.00             NaN\n",
       "1   36.89           44.99\n",
       "2  887.43          986.04\n",
       "3   82.22           91.36\n",
       "4  443.70          493.00"
      ]
     },
     "execution_count": 71,
     "metadata": {},
     "output_type": "execute_result"
    }
   ],
   "source": [
    "df_raw[['price', 'original_price']].head()"
   ]
  },
  {
   "cell_type": "code",
   "execution_count": 87,
   "metadata": {},
   "outputs": [
    {
     "data": {
      "text/html": [
       "<div>\n",
       "<style scoped>\n",
       "    .dataframe tbody tr th:only-of-type {\n",
       "        vertical-align: middle;\n",
       "    }\n",
       "\n",
       "    .dataframe tbody tr th {\n",
       "        vertical-align: top;\n",
       "    }\n",
       "\n",
       "    .dataframe thead th {\n",
       "        text-align: right;\n",
       "    }\n",
       "</style>\n",
       "<table border=\"1\" class=\"dataframe\">\n",
       "  <thead>\n",
       "    <tr style=\"text-align: right;\">\n",
       "      <th></th>\n",
       "      <th>sale_price_type</th>\n",
       "      <th>price</th>\n",
       "      <th>original_price</th>\n",
       "      <th>condition</th>\n",
       "    </tr>\n",
       "  </thead>\n",
       "  <tbody>\n",
       "    <tr>\n",
       "      <th>38067</th>\n",
       "      <td>standard</td>\n",
       "      <td>57415.25</td>\n",
       "      <td>69900.0</td>\n",
       "      <td>new</td>\n",
       "    </tr>\n",
       "    <tr>\n",
       "      <th>38506</th>\n",
       "      <td>standard</td>\n",
       "      <td>632999.25</td>\n",
       "      <td>739999.0</td>\n",
       "      <td>new</td>\n",
       "    </tr>\n",
       "    <tr>\n",
       "      <th>38522</th>\n",
       "      <td>standard</td>\n",
       "      <td>45473.00</td>\n",
       "      <td>52999.0</td>\n",
       "      <td>new</td>\n",
       "    </tr>\n",
       "    <tr>\n",
       "      <th>38583</th>\n",
       "      <td>standard</td>\n",
       "      <td>46689.40</td>\n",
       "      <td>52599.0</td>\n",
       "      <td>new</td>\n",
       "    </tr>\n",
       "    <tr>\n",
       "      <th>38619</th>\n",
       "      <td>standard</td>\n",
       "      <td>329999.00</td>\n",
       "      <td>344999.0</td>\n",
       "      <td>new</td>\n",
       "    </tr>\n",
       "    <tr>\n",
       "      <th>...</th>\n",
       "      <td>...</td>\n",
       "      <td>...</td>\n",
       "      <td>...</td>\n",
       "      <td>...</td>\n",
       "    </tr>\n",
       "    <tr>\n",
       "      <th>249996</th>\n",
       "      <td>standard</td>\n",
       "      <td>119.20</td>\n",
       "      <td>149.0</td>\n",
       "      <td>new</td>\n",
       "    </tr>\n",
       "    <tr>\n",
       "      <th>250016</th>\n",
       "      <td>standard</td>\n",
       "      <td>438.93</td>\n",
       "      <td>499.0</td>\n",
       "      <td>new</td>\n",
       "    </tr>\n",
       "    <tr>\n",
       "      <th>250052</th>\n",
       "      <td>standard</td>\n",
       "      <td>1766.13</td>\n",
       "      <td>1925.0</td>\n",
       "      <td>new</td>\n",
       "    </tr>\n",
       "    <tr>\n",
       "      <th>250150</th>\n",
       "      <td>standard</td>\n",
       "      <td>1050.00</td>\n",
       "      <td>1089.0</td>\n",
       "      <td>new</td>\n",
       "    </tr>\n",
       "    <tr>\n",
       "      <th>250245</th>\n",
       "      <td>standard</td>\n",
       "      <td>1179.79</td>\n",
       "      <td>1270.0</td>\n",
       "      <td>new</td>\n",
       "    </tr>\n",
       "  </tbody>\n",
       "</table>\n",
       "<p>1085 rows × 4 columns</p>\n",
       "</div>"
      ],
      "text/plain": [
       "       sale_price_type      price  original_price condition\n",
       "38067         standard   57415.25         69900.0       new\n",
       "38506         standard  632999.25        739999.0       new\n",
       "38522         standard   45473.00         52999.0       new\n",
       "38583         standard   46689.40         52599.0       new\n",
       "38619         standard  329999.00        344999.0       new\n",
       "...                ...        ...             ...       ...\n",
       "249996        standard     119.20           149.0       new\n",
       "250016        standard     438.93           499.0       new\n",
       "250052        standard    1766.13          1925.0       new\n",
       "250150        standard    1050.00          1089.0       new\n",
       "250245        standard    1179.79          1270.0       new\n",
       "\n",
       "[1085 rows x 4 columns]"
      ]
     },
     "execution_count": 87,
     "metadata": {},
     "output_type": "execute_result"
    }
   ],
   "source": [
    "df_raw[(df_raw.sale_price_type != 'promotion') & (~df_raw.original_price.isna())][['sale_price_type', 'price', 'original_price', 'condition']]"
   ]
  },
  {
   "cell_type": "code",
   "execution_count": 31,
   "metadata": {},
   "outputs": [
    {
     "data": {
      "text/plain": [
       "{'amount': 887.43,\n",
       " 'conditions': {'context_restrictions': array(['channel_marketplace'], dtype=object),\n",
       "  'eligible': True,\n",
       "  'end_time': '2025-02-08T04:59:59Z',\n",
       "  'start_time': '2025-01-08T05:00:00Z'},\n",
       " 'currency_id': 'USD',\n",
       " 'exchange_rate': None,\n",
       " 'metadata': {'buy_quantity': None,\n",
       "  'campaign_discount_percentage': None,\n",
       "  'campaign_end_date': None,\n",
       "  'campaign_id': None,\n",
       "  'discount_meli_amount': None,\n",
       "  'experiment_id': None,\n",
       "  'funding_mode': None,\n",
       "  'order_item_price': None,\n",
       "  'pay_quantity': None,\n",
       "  'promotion_id': 'OFFER-MEC573483608-10728792448',\n",
       "  'promotion_type': 'custom',\n",
       "  'purchase_discount_campaign_id': None,\n",
       "  'purchase_discount_id': None,\n",
       "  'purchase_discount_percentage': None,\n",
       "  'purchase_discount_type': None,\n",
       "  'variation': None},\n",
       " 'payment_method_prices': array([], dtype=object),\n",
       " 'payment_method_type': 'TMP',\n",
       " 'price_id': '',\n",
       " 'regular_amount': 986.04,\n",
       " 'type': 'promotion'}"
      ]
     },
     "execution_count": 31,
     "metadata": {},
     "output_type": "execute_result"
    }
   ],
   "source": [
    "df_raw.sale_price.iloc[2]"
   ]
  },
  {
   "cell_type": "code",
   "execution_count": 72,
   "metadata": {},
   "outputs": [],
   "source": [
    "df_raw['sale_price_conditions_start_time'] = df_raw.sale_price_conditions.apply(lambda x: None if x is None else x.get('start_time', None))\n",
    "df_raw['sale_price_conditions_end_time'] = df_raw.sale_price_conditions.apply(lambda x: None if x is None else x.get('end_time', None))"
   ]
  },
  {
   "cell_type": "code",
   "execution_count": 74,
   "metadata": {},
   "outputs": [
    {
     "data": {
      "text/html": [
       "<div>\n",
       "<style scoped>\n",
       "    .dataframe tbody tr th:only-of-type {\n",
       "        vertical-align: middle;\n",
       "    }\n",
       "\n",
       "    .dataframe tbody tr th {\n",
       "        vertical-align: top;\n",
       "    }\n",
       "\n",
       "    .dataframe thead th {\n",
       "        text-align: right;\n",
       "    }\n",
       "</style>\n",
       "<table border=\"1\" class=\"dataframe\">\n",
       "  <thead>\n",
       "    <tr style=\"text-align: right;\">\n",
       "      <th></th>\n",
       "      <th>sale_price_conditions_start_time</th>\n",
       "      <th>buying_mode</th>\n",
       "    </tr>\n",
       "  </thead>\n",
       "  <tbody>\n",
       "    <tr>\n",
       "      <th>0</th>\n",
       "      <td>None</td>\n",
       "      <td>buy_it_now</td>\n",
       "    </tr>\n",
       "    <tr>\n",
       "      <th>1</th>\n",
       "      <td>2025-01-14T05:00:00Z</td>\n",
       "      <td>buy_it_now</td>\n",
       "    </tr>\n",
       "    <tr>\n",
       "      <th>2</th>\n",
       "      <td>2025-01-08T05:00:00Z</td>\n",
       "      <td>buy_it_now</td>\n",
       "    </tr>\n",
       "    <tr>\n",
       "      <th>3</th>\n",
       "      <td>2025-01-08T05:00:00Z</td>\n",
       "      <td>buy_it_now</td>\n",
       "    </tr>\n",
       "    <tr>\n",
       "      <th>4</th>\n",
       "      <td>2025-01-08T05:00:00Z</td>\n",
       "      <td>buy_it_now</td>\n",
       "    </tr>\n",
       "    <tr>\n",
       "      <th>...</th>\n",
       "      <td>...</td>\n",
       "      <td>...</td>\n",
       "    </tr>\n",
       "    <tr>\n",
       "      <th>285190</th>\n",
       "      <td>None</td>\n",
       "      <td>buy_it_now</td>\n",
       "    </tr>\n",
       "    <tr>\n",
       "      <th>285191</th>\n",
       "      <td>None</td>\n",
       "      <td>buy_it_now</td>\n",
       "    </tr>\n",
       "    <tr>\n",
       "      <th>285192</th>\n",
       "      <td>None</td>\n",
       "      <td>buy_it_now</td>\n",
       "    </tr>\n",
       "    <tr>\n",
       "      <th>285193</th>\n",
       "      <td>None</td>\n",
       "      <td>buy_it_now</td>\n",
       "    </tr>\n",
       "    <tr>\n",
       "      <th>285194</th>\n",
       "      <td>None</td>\n",
       "      <td>buy_it_now</td>\n",
       "    </tr>\n",
       "  </tbody>\n",
       "</table>\n",
       "<p>285195 rows × 2 columns</p>\n",
       "</div>"
      ],
      "text/plain": [
       "       sale_price_conditions_start_time buying_mode\n",
       "0                                  None  buy_it_now\n",
       "1                  2025-01-14T05:00:00Z  buy_it_now\n",
       "2                  2025-01-08T05:00:00Z  buy_it_now\n",
       "3                  2025-01-08T05:00:00Z  buy_it_now\n",
       "4                  2025-01-08T05:00:00Z  buy_it_now\n",
       "...                                 ...         ...\n",
       "285190                             None  buy_it_now\n",
       "285191                             None  buy_it_now\n",
       "285192                             None  buy_it_now\n",
       "285193                             None  buy_it_now\n",
       "285194                             None  buy_it_now\n",
       "\n",
       "[285195 rows x 2 columns]"
      ]
     },
     "execution_count": 74,
     "metadata": {},
     "output_type": "execute_result"
    }
   ],
   "source": [
    "df_raw[['sale_price_conditions_start_time', 'buying_mode']]"
   ]
  },
  {
   "cell_type": "code",
   "execution_count": 66,
   "metadata": {},
   "outputs": [
    {
     "name": "stdout",
     "output_type": "stream",
     "text": [
      "None\n"
     ]
    }
   ],
   "source": [
    "print(df_raw.sale_price.get('amount', None))"
   ]
  },
  {
   "cell_type": "code",
   "execution_count": 67,
   "metadata": {},
   "outputs": [
    {
     "data": {
      "text/plain": [
       "0         {'amount': 659.0, 'conditions': {'context_rest...\n",
       "1         {'amount': 36.89, 'conditions': {'context_rest...\n",
       "2         {'amount': 887.43, 'conditions': {'context_res...\n",
       "3         {'amount': 82.22, 'conditions': {'context_rest...\n",
       "4         {'amount': 443.7, 'conditions': {'context_rest...\n",
       "                                ...                        \n",
       "285190                                                 None\n",
       "285191                                                 None\n",
       "285192                                                 None\n",
       "285193                                                 None\n",
       "285194                                                 None\n",
       "Name: sale_price, Length: 285195, dtype: object"
      ]
     },
     "execution_count": 67,
     "metadata": {},
     "output_type": "execute_result"
    }
   ],
   "source": [
    "df_raw['sale_price'] "
   ]
  },
  {
   "cell_type": "code",
   "execution_count": 50,
   "metadata": {},
   "outputs": [],
   "source": [
    "df_raw['sale_price_metadata'] = df_raw.sale_price.get('metadata', None)\n",
    "df_raw['sale_price_metadata_percentage'] = df_raw['sale_price_metadata'].get('purchase_discount_percentage')"
   ]
  },
  {
   "cell_type": "code",
   "execution_count": 53,
   "metadata": {},
   "outputs": [
    {
     "data": {
      "text/plain": [
       "array([None], dtype=object)"
      ]
     },
     "execution_count": 53,
     "metadata": {},
     "output_type": "execute_result"
    }
   ],
   "source": [
    "df_raw['sale_price_metadata_percentage'].unique()"
   ]
  },
  {
   "cell_type": "code",
   "execution_count": 43,
   "metadata": {},
   "outputs": [
    {
     "data": {
      "text/plain": [
       "{'amount': 82.22,\n",
       " 'conditions': {'context_restrictions': array(['channel_marketplace'], dtype=object),\n",
       "  'eligible': True,\n",
       "  'end_time': '2025-02-08T04:59:59Z',\n",
       "  'start_time': '2025-01-08T05:00:00Z'},\n",
       " 'currency_id': 'USD',\n",
       " 'exchange_rate': None,\n",
       " 'metadata': {'buy_quantity': None,\n",
       "  'campaign_discount_percentage': None,\n",
       "  'campaign_end_date': None,\n",
       "  'campaign_id': None,\n",
       "  'discount_meli_amount': None,\n",
       "  'experiment_id': None,\n",
       "  'funding_mode': None,\n",
       "  'order_item_price': None,\n",
       "  'pay_quantity': None,\n",
       "  'promotion_id': 'OFFER-MEC571416556-10728792414',\n",
       "  'promotion_type': 'custom',\n",
       "  'purchase_discount_campaign_id': None,\n",
       "  'purchase_discount_id': None,\n",
       "  'purchase_discount_percentage': None,\n",
       "  'purchase_discount_type': None,\n",
       "  'variation': None},\n",
       " 'payment_method_prices': array([], dtype=object),\n",
       " 'payment_method_type': 'TMP',\n",
       " 'price_id': '',\n",
       " 'regular_amount': 91.36,\n",
       " 'type': 'promotion'}"
      ]
     },
     "execution_count": 43,
     "metadata": {},
     "output_type": "execute_result"
    }
   ],
   "source": [
    "df_raw.sale_price.iloc[3]"
   ]
  },
  {
   "cell_type": "code",
   "execution_count": 13,
   "metadata": {},
   "outputs": [],
   "source": [
    "df_raw.loc[(df_raw.sale_price.isna()), 'sale_price_type'] = '<vazio>'\n",
    "df_raw.loc[~(df_raw.sale_price.isna()), 'sale_price_type'] = df_raw[df_raw.sale_price_type != '<vazio>'].sale_price.apply(lambda x: x.get('type'))"
   ]
  },
  {
   "cell_type": "code",
   "execution_count": 14,
   "metadata": {},
   "outputs": [
    {
     "data": {
      "text/plain": [
       "buying_mode  sale_price_type\n",
       "buy_it_now   standard           151442\n",
       "             promotion           66034\n",
       "             <vazio>             37934\n",
       "             BNSP                  192\n",
       "             SPONTH                100\n",
       "             BNGM                    5\n",
       "classified   standard            21348\n",
       "             <vazio>              8133\n",
       "             promotion               7\n",
       "Name: sale_price_type, dtype: int64"
      ]
     },
     "execution_count": 14,
     "metadata": {},
     "output_type": "execute_result"
    }
   ],
   "source": [
    "df_raw.groupby('buying_mode').sale_price_type.value_counts(dropna=False)"
   ]
  },
  {
   "cell_type": "markdown",
   "metadata": {},
   "source": [
    "### Análise da feature `attributes`"
   ]
  },
  {
   "cell_type": "code",
   "execution_count": 15,
   "metadata": {},
   "outputs": [],
   "source": [
    "def attribute_extract(attributes, key):\n",
    "    \n",
    "    if not isinstance(attributes, (list, tuple, np.ndarray)):\n",
    "        return None\n",
    "    \n",
    "    for attribute in attributes:\n",
    "        if isinstance(attribute, dict) and attribute.get('id') == key:\n",
    "            return attribute.get('value_name')\n",
    "    \n",
    "    return None"
   ]
  },
  {
   "cell_type": "code",
   "execution_count": 16,
   "metadata": {},
   "outputs": [],
   "source": [
    "features_attribute = ['BRAND', 'COLOR', 'MAIN_COLOR', 'WEIGHT']\n",
    "\n",
    "for feature in features_attribute:\n",
    "    df_raw[f'{feature.lower()}_value'] = df_raw.attributes.apply(lambda x: attribute_extract(x, feature))"
   ]
  },
  {
   "cell_type": "markdown",
   "metadata": {},
   "source": [
    "### Atributo: `brand_value` (marca)\n",
    "\n",
    "Como é de se esperar, o mercado livre vende produtos de diversas marcas no seu marketplace. Assim, para um modelo de machine learning, é válido analisar as categorias (marcas) mais frequentes na amostra e agrupar as demais em uma mesma classe, por exemplo, `<outros>`. Portanto, analisou-se as 10 marcas mais frequentes de produtos que não estavam em promoção, bem como as mais frequentes de produtos que estavam."
   ]
  },
  {
   "cell_type": "code",
   "execution_count": 17,
   "metadata": {},
   "outputs": [],
   "source": [
    "def brand_processing(brand):\n",
    "    if brand is not None:\n",
    "        brand = brand.lower()\n",
    "        return re.sub(r'[^\\w\\s]', '', brand)\n",
    "    else:\n",
    "        return '<vazio>'"
   ]
  },
  {
   "cell_type": "code",
   "execution_count": 18,
   "metadata": {},
   "outputs": [],
   "source": [
    "df_raw['brand_value'] = df_raw['brand_value'].apply(brand_processing)"
   ]
  },
  {
   "cell_type": "code",
   "execution_count": 19,
   "metadata": {},
   "outputs": [
    {
     "data": {
      "text/plain": [
       "<vazio>      0.222989\n",
       "genérica     0.037677\n",
       "samsung      0.010020\n",
       "sony         0.009619\n",
       "xiaomi       0.006849\n",
       "apple        0.006648\n",
       "casio        0.005754\n",
       "nintendo     0.004846\n",
       "toyota       0.004700\n",
       "chevrolet    0.004171\n",
       "Name: brand_value, dtype: float64"
      ]
     },
     "execution_count": 19,
     "metadata": {},
     "output_type": "execute_result"
    }
   ],
   "source": [
    "df_raw[df_raw.sale_price_type != 'promotion'].brand_value.value_counts(normalize=True).head(10)"
   ]
  },
  {
   "cell_type": "code",
   "execution_count": 20,
   "metadata": {},
   "outputs": [
    {
     "data": {
      "text/plain": [
       "genérica    0.040763\n",
       "<vazio>     0.035236\n",
       "truper      0.010130\n",
       "samsung     0.008888\n",
       "xiaomi      0.007889\n",
       "sony        0.007465\n",
       "total       0.007193\n",
       "casio       0.005678\n",
       "apple       0.005648\n",
       "lenovo      0.005285\n",
       "Name: brand_value, dtype: float64"
      ]
     },
     "execution_count": 20,
     "metadata": {},
     "output_type": "execute_result"
    }
   ],
   "source": [
    "df_raw[df_raw.sale_price_type == 'promotion'].brand_value.value_counts(normalize=True).head(10)"
   ]
  },
  {
   "cell_type": "markdown",
   "metadata": {},
   "source": [
    "Observe que, embora a ordem não seja a mesma (o que pode ser útil para discriminar), muitas marcas estão presentes em ambas subpopulações de tipo de venda (`sale_price_type`)."
   ]
  },
  {
   "cell_type": "markdown",
   "metadata": {},
   "source": [
    "### Atributo: `color_value` e `main_color_value` (cor)\n",
    "\n",
    "Uma outra hipótese é que a cor do produto pode discriminar e ditar se deve ser uma promoção e seu respectivo desconto, uma vez que produtos menos desejados possam ocupar mais tempo no estoque e, portanto, necessitar de promoções para serem \"queimados\"."
   ]
  },
  {
   "cell_type": "code",
   "execution_count": 21,
   "metadata": {},
   "outputs": [
    {
     "data": {
      "text/plain": [
       "Negro           0.263032\n",
       "Blanco          0.122814\n",
       "Preto           0.052697\n",
       "Gris            0.052513\n",
       "Azul            0.049591\n",
       "Plateado        0.035519\n",
       "Rojo            0.028569\n",
       "Branco          0.023419\n",
       "Verde           0.019050\n",
       "Rosa            0.017150\n",
       "Amarillo        0.015604\n",
       "Naranja         0.012384\n",
       "Transparente    0.009518\n",
       "Black           0.008100\n",
       "BLACK           0.007844\n",
       "Name: color_value, dtype: float64"
      ]
     },
     "execution_count": 21,
     "metadata": {},
     "output_type": "execute_result"
    }
   ],
   "source": [
    "df_raw.color_value.value_counts(normalize=True).head(15)"
   ]
  },
  {
   "cell_type": "code",
   "execution_count": 22,
   "metadata": {},
   "outputs": [],
   "source": [
    "def color_name_processing(color):\n",
    "    if color is not None:\n",
    "        color = color.lower()\n",
    "        color = re.sub(r'[^\\w\\s]', '', color)\n",
    "\n",
    "        color_dict = {\n",
    "            'black': ['negro', 'preto'],\n",
    "            'white': ['blanco', 'branco'],\n",
    "            'gray': ['gris', 'cinza'],\n",
    "            'dark gray': ['gris oscuro', 'cinza escuro'],\n",
    "            'blue': ['azul', 'azul marinho', 'marinho'],\n",
    "            'silver': ['plateado', 'prateado', 'prata', 'plata'],\n",
    "            'red': ['rojo', 'vermelho'],\n",
    "            'green': ['verde'],\n",
    "            'pink': ['rosa'],\n",
    "            'yellow': ['amarillo', 'amarelo'],\n",
    "            'orange': ['naranja', 'laranja'],\n",
    "            'transparent': ['transparente'],\n",
    "            'multicolor': ['multicolor'],\n",
    "            'turquoise': ['turquesa'],\n",
    "            'brown': ['marron', 'marrom'],\n",
    "            'purple': ['purpura', 'roxo'],\n",
    "            'gold': ['dorado', 'ouro'],\n",
    "            'beige': ['beige', 'bege'],\n",
    "            'maroon': ['granate', 'marrom escuro'],\n",
    "            'violet': ['violeta'],\n",
    "            'magenta': ['magenta'],\n",
    "            'salmon': ['salmao', 'salmon'],\n",
    "        }\n",
    "\n",
    "        if color in color_dict:\n",
    "            return color\n",
    "        else:\n",
    "            for standard_color, aliases in color_dict.items():\n",
    "                if color in aliases:\n",
    "                    return standard_color\n",
    "            return '<other>'\n",
    "    else:\n",
    "        return '<vazio>'"
   ]
  },
  {
   "cell_type": "code",
   "execution_count": 23,
   "metadata": {},
   "outputs": [],
   "source": [
    "df_raw['color_value'] = df_raw.color_value.apply(color_name_processing)"
   ]
  },
  {
   "cell_type": "code",
   "execution_count": 24,
   "metadata": {},
   "outputs": [
    {
     "data": {
      "text/plain": [
       "<vazio>    0.795797\n",
       "black      0.067596\n",
       "<other>    0.040953\n",
       "white      0.032644\n",
       "gray       0.012995\n",
       "silver     0.010175\n",
       "blue       0.009938\n",
       "red        0.007588\n",
       "green      0.003819\n",
       "yellow     0.003719\n",
       "Name: color_value, dtype: float64"
      ]
     },
     "execution_count": 24,
     "metadata": {},
     "output_type": "execute_result"
    }
   ],
   "source": [
    "df_raw[df_raw.sale_price_type != 'promotion'].color_value.value_counts(normalize=True).head(10)"
   ]
  },
  {
   "cell_type": "code",
   "execution_count": 25,
   "metadata": {},
   "outputs": [
    {
     "data": {
      "text/plain": [
       "<vazio>    0.610166\n",
       "black      0.130298\n",
       "<other>    0.089051\n",
       "white      0.049590\n",
       "blue       0.020820\n",
       "gray       0.020457\n",
       "silver     0.016808\n",
       "red        0.010206\n",
       "yellow     0.009176\n",
       "green      0.008040\n",
       "Name: color_value, dtype: float64"
      ]
     },
     "execution_count": 25,
     "metadata": {},
     "output_type": "execute_result"
    }
   ],
   "source": [
    "df_raw[df_raw.sale_price_type == 'promotion'].color_value.value_counts(normalize=True).head(10)"
   ]
  },
  {
   "cell_type": "code",
   "execution_count": 26,
   "metadata": {},
   "outputs": [],
   "source": [
    "df_raw['main_color_value'] = df_raw.main_color_value.apply(color_name_processing)"
   ]
  },
  {
   "cell_type": "code",
   "execution_count": 27,
   "metadata": {},
   "outputs": [
    {
     "data": {
      "text/plain": [
       "<vazio>    0.936401\n",
       "black      0.027018\n",
       "white      0.010988\n",
       "blue       0.004645\n",
       "gray       0.004212\n",
       "<other>    0.004015\n",
       "silver     0.002742\n",
       "red        0.002085\n",
       "green      0.001816\n",
       "pink       0.001798\n",
       "Name: main_color_value, dtype: float64"
      ]
     },
     "execution_count": 27,
     "metadata": {},
     "output_type": "execute_result"
    }
   ],
   "source": [
    "df_raw[df_raw.sale_price_type != 'promotion'].main_color_value.value_counts(normalize=True).head(10)\n"
   ]
  },
  {
   "cell_type": "code",
   "execution_count": 28,
   "metadata": {},
   "outputs": [
    {
     "data": {
      "text/plain": [
       "<vazio>    0.840175\n",
       "black      0.066974\n",
       "white      0.024303\n",
       "gray       0.014022\n",
       "blue       0.011644\n",
       "<other>    0.010705\n",
       "silver     0.007828\n",
       "red        0.004664\n",
       "pink       0.004361\n",
       "green      0.004119\n",
       "Name: main_color_value, dtype: float64"
      ]
     },
     "execution_count": 28,
     "metadata": {},
     "output_type": "execute_result"
    }
   ],
   "source": [
    "df_raw[df_raw.sale_price_type == 'promotion'].main_color_value.value_counts(normalize=True).head(10)\n"
   ]
  },
  {
   "cell_type": "markdown",
   "metadata": {},
   "source": [
    "### Atributo: `weight_value` (peso)\n",
    "\n",
    "Notou-se que a variável referente ao peso (`weight_value`) é uma string que acompanha o valor e sua unidade de medida. Então, decidiu-se uniformizá-la para uma única unidade (`g`) e transformá-la em numérica. Assim, primeiramente, analisou-se quais eram as unidades de medidas presente na amostra e, posteriormente, fez o mapping de sua respectiva conversão para grama."
   ]
  },
  {
   "cell_type": "code",
   "execution_count": 29,
   "metadata": {},
   "outputs": [
    {
     "data": {
      "text/plain": [
       "array(['kg', nan, 'g', 'lb', 'oz', 'mg', 't', 'mcg'], dtype=object)"
      ]
     },
     "execution_count": 29,
     "metadata": {},
     "output_type": "execute_result"
    }
   ],
   "source": [
    "pattern = r'([\\d.,]+)\\s*([a-zA-Z]+)'\n",
    "\n",
    "unit_analyses = df_raw['weight_value'].str.extract(pattern, flags=re.IGNORECASE)\n",
    "unit_analyses.columns = ['valor', 'unidade']\n",
    "unit_analyses.unidade.unique()"
   ]
  },
  {
   "cell_type": "code",
   "execution_count": 30,
   "metadata": {},
   "outputs": [],
   "source": [
    "def weight_processing(weight_str_value):\n",
    "\n",
    "    if type(weight_str_value) == str:\n",
    "        if weight_str_value.strip() != '':\n",
    "            value, unit = re.match(r'(-?[\\d.,]+)\\s*([a-zA-Z]+)', weight_str_value.strip().lower(), re.IGNORECASE).groups()\n",
    "            conversao = {\n",
    "                'kg': 1000,\n",
    "                'g': 1,\n",
    "                'lb': 453.592,\n",
    "                'oz': 28.3495,\n",
    "                'mg': 0.001,\n",
    "                'mcg': 0.000001,\n",
    "                't': 1000000\n",
    "            }\n",
    "            mult = conversao.get(unit, np.nan)\n",
    "            return float(value)*mult\n",
    "    return np.nan"
   ]
  },
  {
   "cell_type": "code",
   "execution_count": 31,
   "metadata": {},
   "outputs": [
    {
     "data": {
      "text/plain": [
       "id                                                         MLA1703824864\n",
       "title                  Femmto Griferia Ducha Negra Monocomando Exteri...\n",
       "condition                                                            new\n",
       "thumbnail_id                                726836-MLU78735428931_082024\n",
       "catalog_product_id                                           MLA34213447\n",
       "listing_type_id                                             gold_special\n",
       "sanitized_title                                                         \n",
       "permalink              https://www.mercadolibre.com.ar/femmto-griferi...\n",
       "buying_mode                                                   buy_it_now\n",
       "site_id                                                              MLA\n",
       "category_id                                                    MLA436134\n",
       "domain_id                                              MLA-SHOWER_PANELS\n",
       "thumbnail              http://http2.mlstatic.com/D_726836-MLU78735428...\n",
       "currency_id                                                          ARS\n",
       "order_backend                                                         11\n",
       "price                                                           99520.57\n",
       "original_price                                                  169999.0\n",
       "sale_price             {'amount': 99520.57, 'conditions': {'context_r...\n",
       "available_quantity                                                    50\n",
       "official_store_id                                                 2840.0\n",
       "use_thumbnail_id                                                    True\n",
       "accepts_mercadopago                                                 True\n",
       "shipping               {'benefits': None, 'free_shipping': True, 'log...\n",
       "stop_time                                       2044-03-09T04:00:00.000Z\n",
       "seller                 {'id': 113746522, 'nickname': 'FEMMTO ARGENTINA'}\n",
       "address                {'city_id': 'TUxBQlZJTDQyMjFa', 'city_name': '...\n",
       "attributes             [{'attribute_group_id': 'OTHERS', 'attribute_g...\n",
       "installments           {'amount': 22368.91, 'currency_id': 'ARS', 'me...\n",
       "catalog_listing                                                     True\n",
       "inventory_id                                                   TOKX93720\n",
       "official_store_name                                     Femmto Argentina\n",
       "location                                                            None\n",
       "seller_contact                                                      None\n",
       "category_id_tratado                                               436134\n",
       "sale_price_type                                                promotion\n",
       "brand_value                                                       femmto\n",
       "color_value                                                        black\n",
       "main_color_value                                                 <vazio>\n",
       "weight_value                                                       -1 kg\n",
       "Name: 42726, dtype: object"
      ]
     },
     "execution_count": 31,
     "metadata": {},
     "output_type": "execute_result"
    }
   ],
   "source": [
    "df_raw.iloc[42726]"
   ]
  },
  {
   "cell_type": "code",
   "execution_count": 32,
   "metadata": {},
   "outputs": [],
   "source": [
    "df_raw['weight_value'] = df_raw['weight_value'].apply(weight_processing)"
   ]
  },
  {
   "cell_type": "code",
   "execution_count": 33,
   "metadata": {},
   "outputs": [
    {
     "data": {
      "text/plain": [
       "count    3.163400e+04\n",
       "mean     3.224247e+06\n",
       "std      5.104158e+08\n",
       "min     -3.000000e+04\n",
       "25%      1.500000e+02\n",
       "50%      4.000000e+02\n",
       "75%      1.900000e+03\n",
       "max      9.010011e+10\n",
       "Name: weight_value, dtype: float64"
      ]
     },
     "execution_count": 33,
     "metadata": {},
     "output_type": "execute_result"
    }
   ],
   "source": [
    "df_raw[df_raw.sale_price_type != 'promotion']['weight_value'].describe()"
   ]
  },
  {
   "cell_type": "code",
   "execution_count": 161,
   "metadata": {},
   "outputs": [
    {
     "data": {
      "text/plain": [
       "count    1.760100e+04\n",
       "mean     1.496492e+04\n",
       "std      1.888311e+05\n",
       "min     -1.000000e+03\n",
       "25%      1.860000e+02\n",
       "50%      9.000000e+02\n",
       "75%      3.300000e+03\n",
       "max      1.111100e+07\n",
       "Name: weight_value, dtype: float64"
      ]
     },
     "execution_count": 161,
     "metadata": {},
     "output_type": "execute_result"
    }
   ],
   "source": [
    "df_raw[df_raw.sale_price_type == 'promotion']['weight_value'].describe()"
   ]
  },
  {
   "cell_type": "code",
   "execution_count": 35,
   "metadata": {},
   "outputs": [
    {
     "data": {
      "image/png": "[encoded data removed]",
      "text/plain": [
       "<Figure size 800x600 with 1 Axes>"
      ]
     },
     "metadata": {},
     "output_type": "display_data"
    }
   ],
   "source": [
    "plt.figure(figsize=(8, 6))\n",
    "sns.boxplot(x='sale_price_type', y='weight_value', data=df_raw)\n",
    "\n",
    "# Ajusta a rotação dos rótulos no eixo X se necessário\n",
    "plt.xticks(rotation=45)\n",
    "\n",
    "plt.title('Boxplot de weight_value por sale_price_type')\n",
    "plt.xlabel('Tipo de Preço de Venda')\n",
    "plt.ylabel('Valor do Peso')\n",
    "plt.tight_layout()  # Ajusta os espaçamentos do gráfico\n",
    "plt.show()"
   ]
  },
  {
   "cell_type": "code",
   "execution_count": 36,
   "metadata": {},
   "outputs": [],
   "source": [
    "def remove_outliers_iqr(df, feature):\n",
    "    \"\"\"Função para remover outliers de uma coluna\"\"\"\n",
    "\n",
    "    df_analyse = df[~df[feature].isna()].copy()\n",
    "\n",
    "    Q1 = np.percentile(df_analyse[feature], 25)\n",
    "    Q3 = np.percentile(df_analyse[feature], 75)\n",
    "    IQR = Q3 - Q1\n",
    "    \n",
    "    lower_bound = Q1 - 1.5 * IQR\n",
    "    upper_bound = Q3 + 1.5 * IQR\n",
    "    df_analyse = df_analyse[(df_analyse[feature] >= lower_bound) & (df_analyse[feature] <= upper_bound)]\n",
    "    return df_analyse\n"
   ]
  },
  {
   "cell_type": "code",
   "execution_count": 37,
   "metadata": {},
   "outputs": [
    {
     "data": {
      "image/png": "[encoded data removed]",
      "text/plain": [
       "<Figure size 800x600 with 1 Axes>"
      ]
     },
     "metadata": {},
     "output_type": "display_data"
    }
   ],
   "source": [
    "plt.figure(figsize=(8, 6))\n",
    "sns.boxplot(x='sale_price_type', y='weight_value', data=remove_outliers_iqr(df_raw, 'weight_value'))\n",
    "\n",
    "# Ajusta a rotação dos rótulos no eixo X se necessário\n",
    "plt.xticks(rotation=45)\n",
    "\n",
    "plt.title('Boxplot de weight_value por sale_price_type')\n",
    "plt.xlabel('Tipo de Preço de Venda')\n",
    "plt.ylabel('Valor do Peso')\n",
    "plt.tight_layout()  # Ajusta os espaçamentos do gráfico\n",
    "plt.show()"
   ]
  },
  {
   "cell_type": "code",
   "execution_count": 10,
   "metadata": {},
   "outputs": [
    {
     "data": {
      "text/plain": [
       "10755     {'address_line': 'Av. Occidental N46-09, Quito...\n",
       "10756     {'address_line': 'Pasaje Joaquín Lalama, Quito...\n",
       "10757     {'address_line': 'PGH3+8X Quito, Ecuador', 'ci...\n",
       "10758     {'address_line': 'Rcto La Victoria alta 31 y 3...\n",
       "10759     {'address_line': 'Manuel Cabeza de Vaca 516, Q...\n",
       "                                ...                        \n",
       "284682    {'address_line': 'Sin salida 144', 'city': {'i...\n",
       "284683    {'address_line': '1 32', 'city': {'id': 'TVBBQ...\n",
       "284684    {'address_line': 'Calle Bugabita SN', 'city': ...\n",
       "284685    {'address_line': 'Subida delta Hosanna la cres...\n",
       "284686    {'address_line': '1 SN', 'city': {'id': 'TVBBQ...\n",
       "Name: location, Length: 29488, dtype: object"
      ]
     },
     "execution_count": 10,
     "metadata": {},
     "output_type": "execute_result"
    }
   ],
   "source": [
    "df_raw[~(df_raw.location.isna())]['location']"
   ]
  },
  {
   "cell_type": "code",
   "execution_count": 14,
   "metadata": {},
   "outputs": [
    {
     "data": {
      "text/plain": [
       "{'address_line': 'San Antonio SN',\n",
       " 'city': {'id': 'TUNSQ0RFU0FNUEFSQQ', 'name': 'Desamparados'},\n",
       " 'country': {'id': 'CR', 'name': 'Costa Rica'},\n",
       " 'latitude': 9.8988499,\n",
       " 'longitude': -84.0473336,\n",
       " 'neighborhood': {'id': None, 'name': None},\n",
       " 'state': {'id': 'TUNSUE1DUlNBTjI', 'name': 'San José'},\n",
       " 'subneighborhood': None,\n",
       " 'zip_code': ''}"
      ]
     },
     "execution_count": 14,
     "metadata": {},
     "output_type": "execute_result"
    }
   ],
   "source": [
    "df_raw[~(df_raw.location.isna())]['location'].iloc[10757]"
   ]
  },
  {
   "cell_type": "code",
   "execution_count": 16,
   "metadata": {},
   "outputs": [
    {
     "data": {
      "text/plain": [
       "'Desamparados'"
      ]
     },
     "execution_count": 16,
     "metadata": {},
     "output_type": "execute_result"
    }
   ],
   "source": [
    "df_raw[~(df_raw.location.isna())]['location'].iloc[10757].get('city').get('name', None)"
   ]
  },
  {
   "cell_type": "code",
   "execution_count": 19,
   "metadata": {},
   "outputs": [
    {
     "data": {
      "text/plain": [
       "{'amount': 36.89,\n",
       " 'conditions': {'context_restrictions': array(['channel_marketplace'], dtype=object),\n",
       "  'eligible': True,\n",
       "  'end_time': '2025-02-13T04:59:59Z',\n",
       "  'start_time': '2025-01-14T05:00:00Z'},\n",
       " 'currency_id': 'USD',\n",
       " 'exchange_rate': None,\n",
       " 'metadata': {'buy_quantity': None,\n",
       "  'campaign_discount_percentage': None,\n",
       "  'campaign_end_date': None,\n",
       "  'campaign_id': None,\n",
       "  'discount_meli_amount': None,\n",
       "  'experiment_id': None,\n",
       "  'funding_mode': None,\n",
       "  'order_item_price': None,\n",
       "  'pay_quantity': None,\n",
       "  'promotion_id': 'OFFER-MEC585311472-10735768559',\n",
       "  'promotion_type': 'custom',\n",
       "  'purchase_discount_campaign_id': None,\n",
       "  'purchase_discount_id': None,\n",
       "  'purchase_discount_percentage': None,\n",
       "  'purchase_discount_type': None,\n",
       "  'variation': None},\n",
       " 'payment_method_prices': array([], dtype=object),\n",
       " 'payment_method_type': 'TMP',\n",
       " 'price_id': '',\n",
       " 'regular_amount': 44.99,\n",
       " 'type': 'promotion'}"
      ]
     },
     "execution_count": 19,
     "metadata": {},
     "output_type": "execute_result"
    }
   ],
   "source": [
    "df_raw[~(df_raw.sale_price.isna())]['sale_price'].iloc[1]"
   ]
  }
 ],
 "metadata": {
  "kernelspec": {
   "display_name": "case_env",
   "language": "python",
   "name": "python3"
  },
  "language_info": {
   "codemirror_mode": {
    "name": "ipython",
    "version": 3
   },
   "file_extension": ".py",
   "mimetype": "text/x-python",
   "name": "python",
   "nbconvert_exporter": "python",
   "pygments_lexer": "ipython3",
   "version": "3.8.5"
  }
 },
 "nbformat": 4,
 "nbformat_minor": 2
}
